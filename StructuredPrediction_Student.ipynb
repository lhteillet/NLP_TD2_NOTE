{
 "cells": [
  {
   "cell_type": "markdown",
   "metadata": {},
   "source": [
    "# Explore structured prediction tasks and compare different prediction methods\n",
    "\n",
    "**Authors: maria.boritchev@telecom-paris.fr and matthieu.labeau@telecom-paris.fr**\n",
    "\n",
    "## Objectives:\n",
    "\n",
    "- Explore Part-of-Speech (POS) tagging, in particular through tools integrated to the ```nltk``` library.\n",
    "\n",
    "- Use the notion of _chunking_ and its different implementations and explore sentence structure.\n",
    "\n",
    "- Implement a BIO tagging for POS and compare our implementation with tools integrated to the ```nltk``` library.\n",
    "\n",
    "- Explore Named Entity Recognition (NER) with tools integrated to the ```nltk``` library and ```spaCy``` visualisations.\n",
    "\n",
    "- Compare these tools with a neural network implementation using BERT. \n",
    "\n",
    "- Throughout this lab, we will use several datasets: ```nlp-getting-started```, ```entity-annotated-corpus```, and ```wikibooks-dataset```. These datasets need to be downloaded from the course page."
   ]
  },
  {
   "cell_type": "code",
   "execution_count": 1,
   "metadata": {},
   "outputs": [],
   "source": [
    "# The main packages needed for this lab:\n",
    "#test\n",
    "import numpy as np\n",
    "import pandas as pd\n",
    "import nltk \n",
    "import os"
   ]
  },
  {
   "cell_type": "markdown",
   "metadata": {},
   "source": [
    "In this lab, we will first use the functions ```word_tokenize``` and ```pos_tag``` for the POS tagging task. "
   ]
  },
  {
   "cell_type": "markdown",
   "metadata": {},
   "source": [
    "### Obtaining and exploring the data\n",
    "We start from the beginning with the ```nlp-getting-started``` dataset. "
   ]
  },
  {
   "cell_type": "code",
   "execution_count": 2,
   "metadata": {},
   "outputs": [],
   "source": [
    "# Read data from nlp-getting-started:\n",
    "nlp_start_df = pd.read_csv('nlp-getting-started/train.csv')"
   ]
  },
  {
   "cell_type": "markdown",
   "metadata": {},
   "source": [
    "Explore the data directories and get familiar with their contents and type: how is the data organised? \n",
    "\n",
    "<span style=\"color:red\">Questions:</span> What type of natural language data are we working with (sentences, words)? What are the sources and languages of the data?"
   ]
  },
  {
   "cell_type": "code",
   "execution_count": 3,
   "metadata": {},
   "outputs": [],
   "source": [
    "# Examine example sentences:\n"
   ]
  },
  {
   "cell_type": "markdown",
   "metadata": {},
   "source": [
    "<span style=\"color:green\">To code:</span> Using the functions ```word_tokenize``` and ```pos_tag``` of ```nltk```, tokenize an example sentence and apply POS tagging to it."
   ]
  },
  {
   "cell_type": "code",
   "execution_count": 12,
   "metadata": {},
   "outputs": [],
   "source": [
    "from nltk import word_tokenize, pos_tag\n",
    "# Tokenize a sentence and apply POS tagging:\n"
   ]
  },
  {
   "cell_type": "markdown",
   "metadata": {},
   "source": [
    "<span style=\"color:red\">Question:</span> What is the set of POS-tags used by the ```pos_tag``` function?"
   ]
  },
  {
   "cell_type": "markdown",
   "metadata": {},
   "source": [
    "As we discussed during the lecture, there can be different sets of POS-tags. The following shows you the documentation for the ```UPENN``` tagset."
   ]
  },
  {
   "cell_type": "code",
   "execution_count": 90,
   "metadata": {},
   "outputs": [
    {
     "name": "stdout",
     "output_type": "stream",
     "text": [
      "NN: noun, common, singular or mass\n",
      "    common-carrier cabbage knuckle-duster Casino afghan shed thermostat\n",
      "    investment slide humour falloff slick wind hyena override subhumanity\n",
      "    machinist ...\n",
      "IN: preposition or conjunction, subordinating\n",
      "    astride among uppon whether out inside pro despite on by throughout\n",
      "    below within for towards near behind atop around if like until below\n",
      "    next into if beside ...\n",
      "DT: determiner\n",
      "    all an another any both del each either every half la many much nary\n",
      "    neither no some such that the them these this those\n"
     ]
    },
    {
     "name": "stderr",
     "output_type": "stream",
     "text": [
      "[nltk_data] Downloading package tagsets to /Users/maria/nltk_data...\n",
      "[nltk_data]   Package tagsets is already up-to-date!\n"
     ]
    }
   ],
   "source": [
    "nltk.download('tagsets')\n",
    "\n",
    "nltk.help.upenn_tagset('NN')\n",
    "nltk.help.upenn_tagset('IN')\n",
    "nltk.help.upenn_tagset('DT')"
   ]
  },
  {
   "cell_type": "markdown",
   "metadata": {},
   "source": [
    "<span style=\"color:green\">To code:</span>  Produce a different POS tagging of the same sentence using a different set of POS-tags of your choice."
   ]
  },
  {
   "cell_type": "code",
   "execution_count": null,
   "metadata": {},
   "outputs": [],
   "source": [
    "# Tokenize the sentence and apply a different set of POS-tags of your choice:\n"
   ]
  },
  {
   "cell_type": "markdown",
   "metadata": {},
   "source": [
    "### Chunking\n",
    "_Chunking_  is a process of grouping small pieces of information into large units. The primary use of chunking in the context of POS-tagging is in building sub-syntactic trees, using POS-tags-based grammars, implemented using _regular expressions_. The resulting subsentences are called _chunks_. For example, we can use chunking to subdivide a sentence in groups of _noun phrases_ (NPs). There are no pre-defined rules or grammars for chunking, these need to be implemented using regular expressions depending on our need. For example, if we want to chunk **only** ```NN``` tags, we need to use the pattern ````mychunk:{<NN>}````. Conversly, if we want to chunk **all types of tags** which start with 'NN', we'll use `mychunk:{<NN.*>}`."
   ]
  },
  {
   "cell_type": "markdown",
   "metadata": {},
   "source": [
    "<span style=\"color:green\">To code:</span>  Apply the chunking method to a sentence from the ```nlp-getting-started``` dataset."
   ]
  },
  {
   "cell_type": "code",
   "execution_count": 7,
   "metadata": {},
   "outputs": [
    {
     "ename": "NameError",
     "evalue": "name 'sent' is not defined",
     "output_type": "error",
     "traceback": [
      "\u001b[0;31m---------------------------------------------------------------------------\u001b[0m",
      "\u001b[0;31mNameError\u001b[0m                                 Traceback (most recent call last)",
      "\u001b[1;32m/Users/maria/Desktop/To reaffect/Teaching/Telecom Paris/Master Data Science/StructuredPrediction_Student.ipynb Cell 16\u001b[0m line \u001b[0;36m9\n\u001b[1;32m      <a href='vscode-notebook-cell:/Users/maria/Desktop/To%20reaffect/Teaching/Telecom%20Paris/Master%20Data%20Science/StructuredPrediction_Student.ipynb#X20sZmlsZQ%3D%3D?line=6'>7</a>\u001b[0m patterns\u001b[39m=\u001b[39m \u001b[39m\"\"\"\u001b[39m\u001b[39mmychunk:\u001b[39m\u001b[39m{\u001b[39m\u001b[39m<NN>+}\u001b[39m\u001b[39m\"\"\"\u001b[39m\n\u001b[1;32m      <a href='vscode-notebook-cell:/Users/maria/Desktop/To%20reaffect/Teaching/Telecom%20Paris/Master%20Data%20Science/StructuredPrediction_Student.ipynb#X20sZmlsZQ%3D%3D?line=7'>8</a>\u001b[0m chunker \u001b[39m=\u001b[39m RegexpParser(patterns)\n\u001b[0;32m----> <a href='vscode-notebook-cell:/Users/maria/Desktop/To%20reaffect/Teaching/Telecom%20Paris/Master%20Data%20Science/StructuredPrediction_Student.ipynb#X20sZmlsZQ%3D%3D?line=8'>9</a>\u001b[0m output \u001b[39m=\u001b[39m chunker\u001b[39m.\u001b[39mparse(sent)\n\u001b[1;32m     <a href='vscode-notebook-cell:/Users/maria/Desktop/To%20reaffect/Teaching/Telecom%20Paris/Master%20Data%20Science/StructuredPrediction_Student.ipynb#X20sZmlsZQ%3D%3D?line=9'>10</a>\u001b[0m \u001b[39mprint\u001b[39m(\u001b[39m\"\u001b[39m\u001b[39mAfter Chunking:\u001b[39m\u001b[39m\\n\u001b[39;00m\u001b[39m\"\u001b[39m,output)\n\u001b[1;32m     <a href='vscode-notebook-cell:/Users/maria/Desktop/To%20reaffect/Teaching/Telecom%20Paris/Master%20Data%20Science/StructuredPrediction_Student.ipynb#X20sZmlsZQ%3D%3D?line=10'>11</a>\u001b[0m svgling\u001b[39m.\u001b[39mdraw_tree(output)\n",
      "\u001b[0;31mNameError\u001b[0m: name 'sent' is not defined"
     ]
    }
   ],
   "source": [
    "from nltk import RegexpParser\n",
    "from nltk.draw.tree import TreeView\n",
    "from IPython.display import Image\n",
    "import svgling\n",
    "\n",
    "# Chunk all nouns from 'sentence' sentence\n",
    "patterns= \"\"\"mychunk:{<NN>+}\"\"\"\n",
    "chunker = RegexpParser(patterns)\n",
    "output = chunker.parse(sentence)\n",
    "print(\"After Chunking:\\n\",output)\n",
    "svgling.draw_tree(output)"
   ]
  },
  {
   "cell_type": "markdown",
   "metadata": {},
   "source": [
    "<span style=\"color:green\">To code:</span>  Produce a chunking of the same sentence retrieving all the adjacence nouns (noun-based tags)."
   ]
  },
  {
   "cell_type": "code",
   "execution_count": 8,
   "metadata": {},
   "outputs": [],
   "source": [
    "# Chunk all adjacence nouns from 'sentence' sentence\n"
   ]
  },
  {
   "cell_type": "markdown",
   "metadata": {},
   "source": [
    "Chunking can also be done using BIO algorithm: ```B```eginning of a chunk, ```I```inside of a chunk, ```O```utside of a chunk."
   ]
  },
  {
   "cell_type": "code",
   "execution_count": 92,
   "metadata": {},
   "outputs": [
    {
     "data": {
      "text/plain": [
       "[('Experts', 'NNS', 'B-mychunk'),\n",
       " ('in', 'IN', 'O'),\n",
       " ('France', 'NNP', 'B-mychunk'),\n",
       " ('begin', 'VB', 'O'),\n",
       " ('examining', 'VBG', 'O'),\n",
       " ('airplane', 'JJ', 'O'),\n",
       " ('debris', 'NN', 'B-mychunk'),\n",
       " ('found', 'VBD', 'O'),\n",
       " ('on', 'IN', 'O'),\n",
       " ('Reunion', 'NNP', 'B-mychunk'),\n",
       " ('Island', 'NNP', 'I-mychunk'),\n",
       " (':', ':', 'O'),\n",
       " ('French', 'JJ', 'O'),\n",
       " ('air', 'NN', 'B-mychunk'),\n",
       " ('accident', 'NN', 'I-mychunk'),\n",
       " ('experts', 'NNS', 'I-mychunk'),\n",
       " ('on', 'IN', 'O'),\n",
       " ('Wedn', 'NNP', 'B-mychunk'),\n",
       " ('...', ':', 'O'),\n",
       " ('http', 'NN', 'B-mychunk'),\n",
       " (':', ':', 'O'),\n",
       " ('//t.co/v4SMAESLK5', 'NN', 'B-mychunk')]"
      ]
     },
     "execution_count": 92,
     "metadata": {},
     "output_type": "execute_result"
    }
   ],
   "source": [
    "from nltk.chunk import conlltags2tree, tree2conlltags\n",
    "from pprint import pprint # To display the list nicely\n",
    "\n",
    "iob_tagged = tree2conlltags(output)\n",
    "iob_tagged"
   ]
  },
  {
   "cell_type": "markdown",
   "metadata": {},
   "source": [
    "<span style=\"color:green\">To code:</span> Implement a tree-crawling retrieving the list of triples ```('word','POS-tag','BIO-tag')``` from ```chunker.parse``` output trees. "
   ]
  },
  {
   "cell_type": "code",
   "execution_count": null,
   "metadata": {},
   "outputs": [],
   "source": [
    "# Tree crawler retrieval of triples from chunker.parser output trees"
   ]
  },
  {
   "cell_type": "markdown",
   "metadata": {},
   "source": [
    "# Named Entity Recognition (NER)\n",
    "\n",
    "NER is also implemented in ```nltk```, using chunking: the ```ne_chunk()``` method in the ```nltk.chunk``` module. "
   ]
  },
  {
   "cell_type": "markdown",
   "metadata": {},
   "source": [
    "<span style=\"color:green\">To code:</span>  Implement NER on the same sentence with the method showcased below."
   ]
  },
  {
   "cell_type": "code",
   "execution_count": 14,
   "metadata": {},
   "outputs": [
    {
     "name": "stderr",
     "output_type": "stream",
     "text": [
      "[nltk_data] Downloading package maxent_ne_chunker to\n",
      "[nltk_data]     /Users/maria/nltk_data...\n",
      "[nltk_data]   Package maxent_ne_chunker is already up-to-date!\n",
      "[nltk_data] Downloading package words to /Users/maria/nltk_data...\n",
      "[nltk_data]   Package words is already up-to-date!\n"
     ]
    },
    {
     "ename": "NameError",
     "evalue": "name 'sentence' is not defined",
     "output_type": "error",
     "traceback": [
      "\u001b[0;31m---------------------------------------------------------------------------\u001b[0m",
      "\u001b[0;31mNameError\u001b[0m                                 Traceback (most recent call last)",
      "\u001b[1;32m/Users/maria/Desktop/To reaffect/Teaching/Telecom Paris/Master Data Science/StructuredPrediction_Student.ipynb Cell 24\u001b[0m line \u001b[0;36m1\n\u001b[1;32m     <a href='vscode-notebook-cell:/Users/maria/Desktop/To%20reaffect/Teaching/Telecom%20Paris/Master%20Data%20Science/StructuredPrediction_Student.ipynb#X30sZmlsZQ%3D%3D?line=12'>13</a>\u001b[0m     \u001b[39mreturn\u001b[39;00m ne_list\n\u001b[1;32m     <a href='vscode-notebook-cell:/Users/maria/Desktop/To%20reaffect/Teaching/Telecom%20Paris/Master%20Data%20Science/StructuredPrediction_Student.ipynb#X30sZmlsZQ%3D%3D?line=14'>15</a>\u001b[0m \u001b[39m# NER on 'sentence' sentence    \u001b[39;00m\n\u001b[0;32m---> <a href='vscode-notebook-cell:/Users/maria/Desktop/To%20reaffect/Teaching/Telecom%20Paris/Master%20Data%20Science/StructuredPrediction_Student.ipynb#X30sZmlsZQ%3D%3D?line=16'>17</a>\u001b[0m ne_res \u001b[39m=\u001b[39m ne_chunk(pos_tag(word_tokenize(sentence)))\n\u001b[1;32m     <a href='vscode-notebook-cell:/Users/maria/Desktop/To%20reaffect/Teaching/Telecom%20Paris/Master%20Data%20Science/StructuredPrediction_Student.ipynb#X30sZmlsZQ%3D%3D?line=17'>18</a>\u001b[0m labels \u001b[39m=\u001b[39m [\u001b[39m'\u001b[39m\u001b[39mORGANIZATION\u001b[39m\u001b[39m'\u001b[39m]\n\u001b[1;32m     <a href='vscode-notebook-cell:/Users/maria/Desktop/To%20reaffect/Teaching/Telecom%20Paris/Master%20Data%20Science/StructuredPrediction_Student.ipynb#X30sZmlsZQ%3D%3D?line=19'>20</a>\u001b[0m \u001b[39mprint\u001b[39m(extract_ne(ne_res, labels))\n",
      "\u001b[0;31mNameError\u001b[0m: name 'sentence' is not defined"
     ]
    }
   ],
   "source": [
    "nltk.download('maxent_ne_chunker')\n",
    "nltk.download('words')\n",
    "from nltk.chunk import ne_chunk\n",
    "\n",
    "def extract_ne(trees, labels):\n",
    "    \n",
    "    ne_list = []\n",
    "    for tree in ne_res:\n",
    "        if hasattr(tree, 'label'):\n",
    "            if tree.label() in labels:\n",
    "                ne_list.append(tree)\n",
    "    \n",
    "    return ne_list\n",
    "\n",
    "# NER on 'sentence' sentence    \n",
    "            \n",
    "ne_res = ne_chunk(pos_tag(word_tokenize(sentence)))\n",
    "labels = ['ORGANIZATION']\n",
    "\n",
    "print(extract_ne(ne_res, labels))"
   ]
  },
  {
   "cell_type": "markdown",
   "metadata": {},
   "source": [
    "<span style=\"color:red\">Questions:</span> What other labels are available?"
   ]
  },
  {
   "cell_type": "markdown",
   "metadata": {},
   "source": [
    "<span style=\"color:green\">To code:</span> Implement a NE extraction using two or more different labels. "
   ]
  },
  {
   "cell_type": "code",
   "execution_count": null,
   "metadata": {},
   "outputs": [],
   "source": [
    "# NER using two or more different labels"
   ]
  },
  {
   "cell_type": "markdown",
   "metadata": {},
   "source": [
    "## NER and ```spaCy```\n",
    "\n",
    "```spaCy``` module also contains a statistical NER system. It is trained to identify named and numeric entities, such as companies, locations, organizations and products. First, we need more complex data. "
   ]
  },
  {
   "cell_type": "code",
   "execution_count": 15,
   "metadata": {},
   "outputs": [
    {
     "data": {
      "text/html": [
       "<div>\n",
       "<style scoped>\n",
       "    .dataframe tbody tr th:only-of-type {\n",
       "        vertical-align: middle;\n",
       "    }\n",
       "\n",
       "    .dataframe tbody tr th {\n",
       "        vertical-align: top;\n",
       "    }\n",
       "\n",
       "    .dataframe thead th {\n",
       "        text-align: right;\n",
       "    }\n",
       "</style>\n",
       "<table border=\"1\" class=\"dataframe\">\n",
       "  <thead>\n",
       "    <tr style=\"text-align: right;\">\n",
       "      <th></th>\n",
       "      <th>title</th>\n",
       "      <th>url</th>\n",
       "      <th>abstract</th>\n",
       "      <th>body_text</th>\n",
       "      <th>body_html</th>\n",
       "    </tr>\n",
       "  </thead>\n",
       "  <tbody>\n",
       "    <tr>\n",
       "      <th>0</th>\n",
       "      <td>Wikibooks: Radiation Oncology/NHL/CLL-SLL</td>\n",
       "      <td>https://en.wikibooks.org/wiki/Radiation_Oncolo...</td>\n",
       "      <td>Chronic Lymphocytic Leukemia and Small Lymphoc...</td>\n",
       "      <td>Front Page: Radiation Oncology | RTOG Trials |...</td>\n",
       "      <td>&lt;div class=\"mw-parser-output\"&gt;&lt;table width=\"10...</td>\n",
       "    </tr>\n",
       "    <tr>\n",
       "      <th>1</th>\n",
       "      <td>Wikibooks: Romanian/Lesson 9</td>\n",
       "      <td>https://en.wikibooks.org/wiki/Romanian/Lesson_9</td>\n",
       "      <td>==Băuturi/Beverages==</td>\n",
       "      <td>Băuturi/Beverages[edit | edit source]\\nTea : C...</td>\n",
       "      <td>&lt;div class=\"mw-parser-output\"&gt;&lt;h2&gt;&lt;span id=\"B....</td>\n",
       "    </tr>\n",
       "    <tr>\n",
       "      <th>2</th>\n",
       "      <td>Wikibooks: Karrigell</td>\n",
       "      <td>https://en.wikibooks.org/wiki/Karrigell</td>\n",
       "      <td>Karrigell is an open Source Python web framewo...</td>\n",
       "      <td>Karrigell is an open Source Python web framewo...</td>\n",
       "      <td>&lt;div class=\"mw-parser-output\"&gt;&lt;p&gt;Karrigell is ...</td>\n",
       "    </tr>\n",
       "    <tr>\n",
       "      <th>3</th>\n",
       "      <td>Wikibooks: The Pyrogenesis Engine/0 A.D./GuiSe...</td>\n",
       "      <td>https://en.wikibooks.org/wiki/The_Pyrogenesis_...</td>\n",
       "      <td>====setupUnitPanel====</td>\n",
       "      <td>setupUnitPanel[edit | edit source]\\nHelper fun...</td>\n",
       "      <td>&lt;div class=\"mw-parser-output\"&gt;&lt;h4&gt;&lt;span class=...</td>\n",
       "    </tr>\n",
       "    <tr>\n",
       "      <th>4</th>\n",
       "      <td>Wikibooks: LMIs in Control/pages/Exterior Coni...</td>\n",
       "      <td>https://en.wikibooks.org/wiki/LMIs_in_Control/...</td>\n",
       "      <td>== The Concept ==</td>\n",
       "      <td>Contents\\n\\n1 The Concept\\n2 The System\\n3 The...</td>\n",
       "      <td>&lt;div class=\"mw-parser-output\"&gt;&lt;div id=\"toc\" cl...</td>\n",
       "    </tr>\n",
       "  </tbody>\n",
       "</table>\n",
       "</div>"
      ],
      "text/plain": [
       "                                               title  \\\n",
       "0          Wikibooks: Radiation Oncology/NHL/CLL-SLL   \n",
       "1                       Wikibooks: Romanian/Lesson 9   \n",
       "2                               Wikibooks: Karrigell   \n",
       "3  Wikibooks: The Pyrogenesis Engine/0 A.D./GuiSe...   \n",
       "4  Wikibooks: LMIs in Control/pages/Exterior Coni...   \n",
       "\n",
       "                                                 url  \\\n",
       "0  https://en.wikibooks.org/wiki/Radiation_Oncolo...   \n",
       "1    https://en.wikibooks.org/wiki/Romanian/Lesson_9   \n",
       "2            https://en.wikibooks.org/wiki/Karrigell   \n",
       "3  https://en.wikibooks.org/wiki/The_Pyrogenesis_...   \n",
       "4  https://en.wikibooks.org/wiki/LMIs_in_Control/...   \n",
       "\n",
       "                                            abstract  \\\n",
       "0  Chronic Lymphocytic Leukemia and Small Lymphoc...   \n",
       "1                              ==Băuturi/Beverages==   \n",
       "2  Karrigell is an open Source Python web framewo...   \n",
       "3                             ====setupUnitPanel====   \n",
       "4                                  == The Concept ==   \n",
       "\n",
       "                                           body_text  \\\n",
       "0  Front Page: Radiation Oncology | RTOG Trials |...   \n",
       "1  Băuturi/Beverages[edit | edit source]\\nTea : C...   \n",
       "2  Karrigell is an open Source Python web framewo...   \n",
       "3  setupUnitPanel[edit | edit source]\\nHelper fun...   \n",
       "4  Contents\\n\\n1 The Concept\\n2 The System\\n3 The...   \n",
       "\n",
       "                                           body_html  \n",
       "0  <div class=\"mw-parser-output\"><table width=\"10...  \n",
       "1  <div class=\"mw-parser-output\"><h2><span id=\"B....  \n",
       "2  <div class=\"mw-parser-output\"><p>Karrigell is ...  \n",
       "3  <div class=\"mw-parser-output\"><h4><span class=...  \n",
       "4  <div class=\"mw-parser-output\"><div id=\"toc\" cl...  "
      ]
     },
     "execution_count": 15,
     "metadata": {},
     "output_type": "execute_result"
    }
   ],
   "source": [
    "import sqlite3\n",
    "\n",
    "cnx = sqlite3.connect('wikibooks.sqlite')\n",
    "df_wikibooks = pd.read_sql_query(\"SELECT * FROM en\", cnx)\n",
    "df_wikibooks.head()"
   ]
  },
  {
   "cell_type": "markdown",
   "metadata": {},
   "source": [
    "The following displays ```spaCy```'s NER on a given document from the ```wikibooks``` dataset."
   ]
  },
  {
   "cell_type": "code",
   "execution_count": 16,
   "metadata": {},
   "outputs": [
    {
     "data": {
      "text/plain": [
       "This Wikibooks page is a fact sheet and analysis on the article \"Habitual physical activity in children and adolescents with cystic fibrosis\" about how exercise is related to the disease Cystic Fibrosis.\n",
       "\n",
       "Contents\n",
       "\n",
       "1 Background of this research\n",
       "2 Where is the research from ?\n",
       "3 What kind of research was this?\n",
       "4 What did the research involve?\n",
       "\n",
       "4.1 Pulmonary Function testing\n",
       "4.2 Pros / Cons of this test\n",
       "\n",
       "\n",
       "5 What were the basic results?\n",
       "6 What conclusion can we take from this research ?\n",
       "7 Practical Advice\n",
       "8 Further information/ Resources\n",
       "\n",
       "8.1 Cystic Fibrosis Australia\n",
       "8.2 Cystic Fibrosis's National Ambassador Nathan Charles\n",
       "\n",
       "\n",
       "9 References\n",
       "\n",
       "\n",
       "\n",
       "Background of this research[edit | edit source]\n",
       "The research was about the effects of taking part in exercise constantly or making it a habit in the population of children and teens that are severing from the genetic condition cystic Fibrosis.\n",
       "What is  Cystic Fibrosis\n",
       "It is a genetic condition, affecting lungs and digestion. Unfortunately, there is no cure. The condition Cystic Fibrosis (CF) is mostly inherited in the white population with 1 in every 3300 live births being diagnosed with the condition.[1]\n",
       "\n",
       "Where is the research from ?[edit | edit source]\n",
       "This research was based in the American Children’s hospital Pittsburgh in the CF centre. Volunteers for this research included siblings, friends and hospital employee’s children who did not have the condition. Two authors of this research work within the department as paediatrics and others have conducted research regarding children with CF. This included David Michael Orenstein who has many publications on CF. These authors have also conducted other research on children with CF with methods of exercise that can help combat the condition.[2]\n",
       "\n",
       "What kind of research was this?[edit | edit source]\n",
       "This was a meta-analysis form of research; even though this kind of research is time consuming the results are valid and reliable. Other studies that have been done have very similar results, regarding the effects of physical activity and the benefits it has on children and adolescents with CF. For an example, a study that was conducted in Austria compared the effects of physical activity versus chest physiotherapy which is popular within the CF community.[3] Two of the authors, David Michael and Patricia from the research article have conducted a study of “The prognostic value of exercise testing in patients with CF”.[2] Also, the Journal of Paediatric Pulmonology had similar conclusions that through exercise there is an improvement in oxygen consumption and physical self-efficiency and appearance in patients. As well as, lots of positive changes in living conditions of the patients.[4] Even though the research method used in these three studies differ, they all have very similar conclusions that exercise is beneficial for children with CF.\n",
       "\n",
       "What did the research involve?[edit | edit source]\n",
       "60 people in total 7–17 years of age[5]\n",
       "30 Patients with cystic fibrosis  (18 male, 12 female)[5]\n",
       "30 people in the control not affected (17 male, 13 female )[5]\n",
       "The participants completed a Questionnaire about their activity levels. Children 12 years and older completed it with no help or little assistant. Children 12 years and under did it with a parent or guardian. \n",
       "When getting tested the children did 2 types of tests, a Pulmonary Function test, and an Exercise Test. The level of aerobic fitness was tested by the participant completing a progressive exercise test on a stationary electronic bike (cycle ergometer) using the Godfrey protocol. Oxygen uptake was measured using a cart that you breathed into and then It  analysed the breath content. This was recorded during the last 15 seconds of each stage exercise\n",
       "\n",
       "Pulmonary Function testing[edit | edit source]\n",
       "Pulmonary function was tested before exercising. Children who have CF had limited experience in doing these tests as they did not have regular exposure to the test due to the condition. A spirometry was used to measure pulmonary lung function capacity. The aim of the test is to measure how much and how quickly an individual is able to move air out of their lungs” ([6] this is done by breathing into a mouth piece connected to a device that records the air and it called a spirometer.\n",
       "\n",
       "Pros / Cons of this test[edit | edit source]\n",
       "This study was very good for testing but there were disadvantages on the younger population in the study due to being short as they were  unable to reach the pedals. Another limitation of the study is that focus was only on the effects of aerobic training and did not take into account the benefit of anaerobic or resistance training can have on an individual. Also, the Australian Cystic Fibrosis Council suggest that core strength is also an important component of helping with the clearance of mucus for patients[1]\n",
       "\n",
       "What were the basic results?[edit | edit source]\n",
       "The survival rate of living with Cystic Fibrosis is affected by the engagement of regulary physical Activity\n",
       "The oxygen consumption improves with exercise.\n",
       "Exercise helps with the removal of mucus\n",
       "Children with Cystic Fibrosis participate in less vigorous physical exercise and activities when compared with children not affected by CF\n",
       "What conclusion can we take from this research ?[edit | edit source]\n",
       "In conclusion, this research demonstrates that exercise does have benefit's for children living with CF as it increases the survival rate and increase life expectancy. I believe one thing that is important when trying to help treat children with CF is to treat them normally and allowing them to engage in the activity as their peers are doing, within reason.\n",
       "\n",
       "Practical Advice[edit | edit source]\n",
       "Before trying to treat CF with exercise consult Doctors about the type of exercise and don’t push yourself too hard. Build up the intensity.\n",
       "\n",
       "Further information/ Resources[edit | edit source]\n",
       "Cystic Fibrosis Australia[edit | edit source]\n",
       "Cystic Fibrosis Australia even suggests that exercise is an important component of treating cystic fibrosis as it help with clearing the airways and building core strength.[1]\n",
       "Web Page: http://www.cysticfibrosis.org.au\n",
       "\n",
       "Cystic Fibrosis's National Ambassador Nathan Charles[edit | edit source]\n",
       "Cystic Fibrosis's National Ambassador Nathan Charles an elite rugby union player playing a contact sport while living with the condition cystic fibrosis. Shows that it is possible to stay fit and achieve great success with cystic fibrosis.[7]\n",
       "Nathan Charles Web page http://nathancharles.com.au\n",
       "Playing Elite Rugby with CF:  http://nathancharles.com.au/nutri-grain-unstoppable/\n",
       "\n",
       "References[edit | edit source]\n",
       "\n",
       "\n",
       "↑ a b c Cystic Fibrosis [Internet]. Cysticfibrosis.org.au. 2016 [cited 24 September 2016]. Available from: http://www.cysticfibrosis.org.au/all/learn/\n",
       "\n",
       "↑ a b Nixon P, Orenstein D, Kelsey S, Doershuk C. The prognostic value of exercise testing in patients with cystic fibrosis [Internet]. Saskatoon Public Library. 2010 [cited 15 September 2016]. Available from: http://saskatoonlibrary.ca/eds/item?dbid=edsgea&an=edsgcl.13305971\n",
       "\n",
       "↑ M. Orenstein D, A. Nixon P, A. Washburn , F. Kelsey S. Measuring Physical Activity in Children with Cystic Fibrosis: Comparison of Four Methods: Paediatric Exercise Science: Vol 5, No 2. Paediatric Exercise Science [Internet]. 2016 [cited 13 September 2016];5(2):125-133. Available from: http://journals.humankinetics.com/doi/pdf/10.1123/pes.5.2.125\n",
       "\n",
       "↑ Gulmans V, de Meer K, Brackel H, Faber J, Berger R, Helders P. Outpatient exercise training in children with cystic fibrosis: Physiological effects, perceived competence, and acceptability. Pediatric Pulmonology [Internet]. 1999 [cited 15 September 2016];28(1):39-46. Available from: http://onlinelibrary.wiley.com/doi/10.1002/(SICI)1099-0496(199907)28:1%3C39::AID-PPUL7%3E3.0.CO;2-8/abstract\n",
       "\n",
       "↑ a b c NIXON P, ORENSTEIN D, KELSEY S. Habitual physical activity in children and adolescents with CF. Medicine and Science in Sports and Exercise [Internet]. 2001 [cited 2 September 2016];33(1):30-35. Available from: http://zh9bf5sp6t.scholar.serialssolutions.com/?sid=google&auinit=PA&aulast=Nixon&atitle=Habitual+physical+activity+in+children+and+adolescents+with+cystic+fibrosis.&id=pmid:1119410\n",
       "\n",
       "↑ Lung Function Tests [Internet]. WebMD. 2016 [cited 14 September 2016]. Available from: http://www.webmd.com/lung/lung-function-tests\n",
       "\n",
       "↑ Charles N. NATIONAL AMBASSADOR FOR CYSTIC FIBROSIS AUSTRALIA [Internet]. Nathan Charles. 2015 [cited 25 September 2016]. Available from: http://nathancharles.com.au/bio/"
      ]
     },
     "execution_count": 16,
     "metadata": {},
     "output_type": "execute_result"
    }
   ],
   "source": [
    "import spacy\n",
    "#spacy.cli.download('en_core_web_sm')\n",
    "nlp = spacy.load(\"en_core_web_sm\")\n",
    "wiki_ex = df_wikibooks.iloc[11]['body_text']\n",
    "# print(wiki_ex)\n",
    "doc = nlp(wiki_ex)\n",
    "doc "
   ]
  },
  {
   "cell_type": "code",
   "execution_count": 17,
   "metadata": {},
   "outputs": [
    {
     "name": "stdout",
     "output_type": "stream",
     "text": [
      "All entity types that spacy recognised from the document above\n"
     ]
    },
    {
     "data": {
      "text/plain": [
       "{'CARDINAL',\n",
       " 'DATE',\n",
       " 'GPE',\n",
       " 'NORP',\n",
       " 'ORG',\n",
       " 'PERCENT',\n",
       " 'PERSON',\n",
       " 'QUANTITY',\n",
       " 'TIME',\n",
       " 'WORK_OF_ART'}"
      ]
     },
     "execution_count": 17,
     "metadata": {},
     "output_type": "execute_result"
    }
   ],
   "source": [
    "print('All entity types that spacy recognised from the document above')\n",
    "set([ent.label_ for ent in doc.ents])"
   ]
  },
  {
   "cell_type": "markdown",
   "metadata": {},
   "source": [
    "<span style=\"color:red\">Questions:</span> What other labels are available?"
   ]
  },
  {
   "cell_type": "markdown",
   "metadata": {},
   "source": [
    "<span style=\"color:green\">To code:</span> Print out all persons and organizations recognised in the document."
   ]
  },
  {
   "cell_type": "code",
   "execution_count": 18,
   "metadata": {},
   "outputs": [],
   "source": [
    "# Print out all persons and organisations from the document above\n"
   ]
  },
  {
   "cell_type": "markdown",
   "metadata": {},
   "source": [
    "```spaCy``` also features a very nice visualization tool for NE. The following showcases this tool on a Wikibooks page."
   ]
  },
  {
   "cell_type": "code",
   "execution_count": null,
   "metadata": {},
   "outputs": [
    {
     "data": {
      "text/html": [
       "<span class=\"tex2jax_ignore\"><div class=\"entities\" style=\"line-height: 2.5; direction: ltr\">This Wikibooks page is a fact sheet and analysis on the article &quot;Habitual physical activity in children and adolescents with cystic fibrosis&quot; about how exercise is related to the disease \n",
       "<mark class=\"entity\" style=\"background: #7aecec; padding: 0.45em 0.6em; margin: 0 0.25em; line-height: 1; border-radius: 0.35em;\">\n",
       "    Cystic Fibrosis\n",
       "    <span style=\"font-size: 0.8em; font-weight: bold; line-height: 1; border-radius: 0.35em; vertical-align: middle; margin-left: 0.5rem\">ORG</span>\n",
       "</mark>\n",
       ".</br></br>Contents</br></br>\n",
       "<mark class=\"entity\" style=\"background: #e4e7d2; padding: 0.45em 0.6em; margin: 0 0.25em; line-height: 1; border-radius: 0.35em;\">\n",
       "    1\n",
       "    <span style=\"font-size: 0.8em; font-weight: bold; line-height: 1; border-radius: 0.35em; vertical-align: middle; margin-left: 0.5rem\">CARDINAL</span>\n",
       "</mark>\n",
       " Background of this research</br>\n",
       "<mark class=\"entity\" style=\"background: #e4e7d2; padding: 0.45em 0.6em; margin: 0 0.25em; line-height: 1; border-radius: 0.35em;\">\n",
       "    2 Where\n",
       "    <span style=\"font-size: 0.8em; font-weight: bold; line-height: 1; border-radius: 0.35em; vertical-align: middle; margin-left: 0.5rem\">CARDINAL</span>\n",
       "</mark>\n",
       " is the research from ?</br>\n",
       "<mark class=\"entity\" style=\"background: #e4e7d2; padding: 0.45em 0.6em; margin: 0 0.25em; line-height: 1; border-radius: 0.35em;\">\n",
       "    3\n",
       "    <span style=\"font-size: 0.8em; font-weight: bold; line-height: 1; border-radius: 0.35em; vertical-align: middle; margin-left: 0.5rem\">CARDINAL</span>\n",
       "</mark>\n",
       " What kind of research was this?</br>\n",
       "<mark class=\"entity\" style=\"background: #e4e7d2; padding: 0.45em 0.6em; margin: 0 0.25em; line-height: 1; border-radius: 0.35em;\">\n",
       "    4\n",
       "    <span style=\"font-size: 0.8em; font-weight: bold; line-height: 1; border-radius: 0.35em; vertical-align: middle; margin-left: 0.5rem\">CARDINAL</span>\n",
       "</mark>\n",
       " What did the research involve?</br></br>\n",
       "<mark class=\"entity\" style=\"background: #e4e7d2; padding: 0.45em 0.6em; margin: 0 0.25em; line-height: 1; border-radius: 0.35em;\">\n",
       "    4.1\n",
       "    <span style=\"font-size: 0.8em; font-weight: bold; line-height: 1; border-radius: 0.35em; vertical-align: middle; margin-left: 0.5rem\">CARDINAL</span>\n",
       "</mark>\n",
       " \n",
       "<mark class=\"entity\" style=\"background: #aa9cfc; padding: 0.45em 0.6em; margin: 0 0.25em; line-height: 1; border-radius: 0.35em;\">\n",
       "    Pulmonary Function\n",
       "    <span style=\"font-size: 0.8em; font-weight: bold; line-height: 1; border-radius: 0.35em; vertical-align: middle; margin-left: 0.5rem\">PERSON</span>\n",
       "</mark>\n",
       " testing</br>\n",
       "<mark class=\"entity\" style=\"background: #e4e7d2; padding: 0.45em 0.6em; margin: 0 0.25em; line-height: 1; border-radius: 0.35em;\">\n",
       "    4.2\n",
       "    <span style=\"font-size: 0.8em; font-weight: bold; line-height: 1; border-radius: 0.35em; vertical-align: middle; margin-left: 0.5rem\">CARDINAL</span>\n",
       "</mark>\n",
       " \n",
       "<mark class=\"entity\" style=\"background: #7aecec; padding: 0.45em 0.6em; margin: 0 0.25em; line-height: 1; border-radius: 0.35em;\">\n",
       "    Pros / Cons\n",
       "    <span style=\"font-size: 0.8em; font-weight: bold; line-height: 1; border-radius: 0.35em; vertical-align: middle; margin-left: 0.5rem\">ORG</span>\n",
       "</mark>\n",
       " of this test</br></br></br>\n",
       "<mark class=\"entity\" style=\"background: #e4e7d2; padding: 0.45em 0.6em; margin: 0 0.25em; line-height: 1; border-radius: 0.35em;\">\n",
       "    5\n",
       "    <span style=\"font-size: 0.8em; font-weight: bold; line-height: 1; border-radius: 0.35em; vertical-align: middle; margin-left: 0.5rem\">CARDINAL</span>\n",
       "</mark>\n",
       " What were the basic results?</br>\n",
       "<mark class=\"entity\" style=\"background: #e4e7d2; padding: 0.45em 0.6em; margin: 0 0.25em; line-height: 1; border-radius: 0.35em;\">\n",
       "    6\n",
       "    <span style=\"font-size: 0.8em; font-weight: bold; line-height: 1; border-radius: 0.35em; vertical-align: middle; margin-left: 0.5rem\">CARDINAL</span>\n",
       "</mark>\n",
       " What conclusion can we take from this research ?</br>\n",
       "<mark class=\"entity\" style=\"background: #7aecec; padding: 0.45em 0.6em; margin: 0 0.25em; line-height: 1; border-radius: 0.35em;\">\n",
       "    7 Practical Advice\n",
       "    <span style=\"font-size: 0.8em; font-weight: bold; line-height: 1; border-radius: 0.35em; vertical-align: middle; margin-left: 0.5rem\">ORG</span>\n",
       "</mark>\n",
       "</br>\n",
       "<mark class=\"entity\" style=\"background: #e4e7d2; padding: 0.45em 0.6em; margin: 0 0.25em; line-height: 1; border-radius: 0.35em;\">\n",
       "    8 Further information/ Resources\n",
       "    <span style=\"font-size: 0.8em; font-weight: bold; line-height: 1; border-radius: 0.35em; vertical-align: middle; margin-left: 0.5rem\">PERCENT</span>\n",
       "</mark>\n",
       "</br></br>\n",
       "<mark class=\"entity\" style=\"background: #e4e7d2; padding: 0.45em 0.6em; margin: 0 0.25em; line-height: 1; border-radius: 0.35em;\">\n",
       "    8.1\n",
       "    <span style=\"font-size: 0.8em; font-weight: bold; line-height: 1; border-radius: 0.35em; vertical-align: middle; margin-left: 0.5rem\">CARDINAL</span>\n",
       "</mark>\n",
       " \n",
       "<mark class=\"entity\" style=\"background: #c887fb; padding: 0.45em 0.6em; margin: 0 0.25em; line-height: 1; border-radius: 0.35em;\">\n",
       "    Cystic\n",
       "    <span style=\"font-size: 0.8em; font-weight: bold; line-height: 1; border-radius: 0.35em; vertical-align: middle; margin-left: 0.5rem\">NORP</span>\n",
       "</mark>\n",
       " Fibrosis \n",
       "<mark class=\"entity\" style=\"background: #feca74; padding: 0.45em 0.6em; margin: 0 0.25em; line-height: 1; border-radius: 0.35em;\">\n",
       "    Australia\n",
       "    <span style=\"font-size: 0.8em; font-weight: bold; line-height: 1; border-radius: 0.35em; vertical-align: middle; margin-left: 0.5rem\">GPE</span>\n",
       "</mark>\n",
       "</br>\n",
       "<mark class=\"entity\" style=\"background: #e4e7d2; padding: 0.45em 0.6em; margin: 0 0.25em; line-height: 1; border-radius: 0.35em;\">\n",
       "    8.2\n",
       "    <span style=\"font-size: 0.8em; font-weight: bold; line-height: 1; border-radius: 0.35em; vertical-align: middle; margin-left: 0.5rem\">CARDINAL</span>\n",
       "</mark>\n",
       " \n",
       "<mark class=\"entity\" style=\"background: #7aecec; padding: 0.45em 0.6em; margin: 0 0.25em; line-height: 1; border-radius: 0.35em;\">\n",
       "    Cystic Fibrosis's\n",
       "    <span style=\"font-size: 0.8em; font-weight: bold; line-height: 1; border-radius: 0.35em; vertical-align: middle; margin-left: 0.5rem\">ORG</span>\n",
       "</mark>\n",
       " National Ambassador \n",
       "<mark class=\"entity\" style=\"background: #aa9cfc; padding: 0.45em 0.6em; margin: 0 0.25em; line-height: 1; border-radius: 0.35em;\">\n",
       "    Nathan Charles\n",
       "    <span style=\"font-size: 0.8em; font-weight: bold; line-height: 1; border-radius: 0.35em; vertical-align: middle; margin-left: 0.5rem\">PERSON</span>\n",
       "</mark>\n",
       "</br></br></br>9 References</br></br></br></br>Background of this research[edit | edit source]</br>The research was about the effects of taking part in exercise constantly or making it a habit in the population of children and teens that are severing from the genetic condition cystic Fibrosis.</br>What is  Cystic Fibrosis</br>It is a genetic condition, affecting lungs and digestion. Unfortunately, there is no cure. The condition \n",
       "<mark class=\"entity\" style=\"background: #7aecec; padding: 0.45em 0.6em; margin: 0 0.25em; line-height: 1; border-radius: 0.35em;\">\n",
       "    Cystic Fibrosis\n",
       "    <span style=\"font-size: 0.8em; font-weight: bold; line-height: 1; border-radius: 0.35em; vertical-align: middle; margin-left: 0.5rem\">ORG</span>\n",
       "</mark>\n",
       " (CF) is mostly inherited in the white population with \n",
       "<mark class=\"entity\" style=\"background: #e4e7d2; padding: 0.45em 0.6em; margin: 0 0.25em; line-height: 1; border-radius: 0.35em;\">\n",
       "    1\n",
       "    <span style=\"font-size: 0.8em; font-weight: bold; line-height: 1; border-radius: 0.35em; vertical-align: middle; margin-left: 0.5rem\">CARDINAL</span>\n",
       "</mark>\n",
       " in every \n",
       "<mark class=\"entity\" style=\"background: #e4e7d2; padding: 0.45em 0.6em; margin: 0 0.25em; line-height: 1; border-radius: 0.35em;\">\n",
       "    3300\n",
       "    <span style=\"font-size: 0.8em; font-weight: bold; line-height: 1; border-radius: 0.35em; vertical-align: middle; margin-left: 0.5rem\">CARDINAL</span>\n",
       "</mark>\n",
       " live births being diagnosed with the condition.[1]</br></br>Where is the research from ?[edit | edit source]</br>This research was based in \n",
       "<mark class=\"entity\" style=\"background: #7aecec; padding: 0.45em 0.6em; margin: 0 0.25em; line-height: 1; border-radius: 0.35em;\">\n",
       "    the American Children’s\n",
       "    <span style=\"font-size: 0.8em; font-weight: bold; line-height: 1; border-radius: 0.35em; vertical-align: middle; margin-left: 0.5rem\">ORG</span>\n",
       "</mark>\n",
       " hospital \n",
       "<mark class=\"entity\" style=\"background: #feca74; padding: 0.45em 0.6em; margin: 0 0.25em; line-height: 1; border-radius: 0.35em;\">\n",
       "    Pittsburgh\n",
       "    <span style=\"font-size: 0.8em; font-weight: bold; line-height: 1; border-radius: 0.35em; vertical-align: middle; margin-left: 0.5rem\">GPE</span>\n",
       "</mark>\n",
       " in the \n",
       "<mark class=\"entity\" style=\"background: #feca74; padding: 0.45em 0.6em; margin: 0 0.25em; line-height: 1; border-radius: 0.35em;\">\n",
       "    CF\n",
       "    <span style=\"font-size: 0.8em; font-weight: bold; line-height: 1; border-radius: 0.35em; vertical-align: middle; margin-left: 0.5rem\">GPE</span>\n",
       "</mark>\n",
       " centre. Volunteers for this research included siblings, friends and hospital employee’s children who did not have the condition. \n",
       "<mark class=\"entity\" style=\"background: #e4e7d2; padding: 0.45em 0.6em; margin: 0 0.25em; line-height: 1; border-radius: 0.35em;\">\n",
       "    Two\n",
       "    <span style=\"font-size: 0.8em; font-weight: bold; line-height: 1; border-radius: 0.35em; vertical-align: middle; margin-left: 0.5rem\">CARDINAL</span>\n",
       "</mark>\n",
       " authors of this research work within the department as paediatrics and others have conducted research regarding children with CF. This included \n",
       "<mark class=\"entity\" style=\"background: #aa9cfc; padding: 0.45em 0.6em; margin: 0 0.25em; line-height: 1; border-radius: 0.35em;\">\n",
       "    David Michael Orenstein\n",
       "    <span style=\"font-size: 0.8em; font-weight: bold; line-height: 1; border-radius: 0.35em; vertical-align: middle; margin-left: 0.5rem\">PERSON</span>\n",
       "</mark>\n",
       " who has many publications on \n",
       "<mark class=\"entity\" style=\"background: #7aecec; padding: 0.45em 0.6em; margin: 0 0.25em; line-height: 1; border-radius: 0.35em;\">\n",
       "    CF\n",
       "    <span style=\"font-size: 0.8em; font-weight: bold; line-height: 1; border-radius: 0.35em; vertical-align: middle; margin-left: 0.5rem\">ORG</span>\n",
       "</mark>\n",
       ". These authors have also conducted other research on children with CF with methods of exercise that can help combat the condition.[2]</br></br>What kind of research was this?[edit | edit source]</br>This was a meta-analysis form of research; even though this kind of research is time consuming the results are valid and reliable. Other studies that have been done have very similar results, regarding the effects of physical activity and the benefits it has on children and adolescents with \n",
       "<mark class=\"entity\" style=\"background: #7aecec; padding: 0.45em 0.6em; margin: 0 0.25em; line-height: 1; border-radius: 0.35em;\">\n",
       "    CF\n",
       "    <span style=\"font-size: 0.8em; font-weight: bold; line-height: 1; border-radius: 0.35em; vertical-align: middle; margin-left: 0.5rem\">ORG</span>\n",
       "</mark>\n",
       ". For an example, a study that was conducted in \n",
       "<mark class=\"entity\" style=\"background: #feca74; padding: 0.45em 0.6em; margin: 0 0.25em; line-height: 1; border-radius: 0.35em;\">\n",
       "    Austria\n",
       "    <span style=\"font-size: 0.8em; font-weight: bold; line-height: 1; border-radius: 0.35em; vertical-align: middle; margin-left: 0.5rem\">GPE</span>\n",
       "</mark>\n",
       " compared the effects of physical activity versus chest physiotherapy which is popular within \n",
       "<mark class=\"entity\" style=\"background: #7aecec; padding: 0.45em 0.6em; margin: 0 0.25em; line-height: 1; border-radius: 0.35em;\">\n",
       "    the CF community.[3] Two\n",
       "    <span style=\"font-size: 0.8em; font-weight: bold; line-height: 1; border-radius: 0.35em; vertical-align: middle; margin-left: 0.5rem\">ORG</span>\n",
       "</mark>\n",
       " of the authors, \n",
       "<mark class=\"entity\" style=\"background: #aa9cfc; padding: 0.45em 0.6em; margin: 0 0.25em; line-height: 1; border-radius: 0.35em;\">\n",
       "    David Michael\n",
       "    <span style=\"font-size: 0.8em; font-weight: bold; line-height: 1; border-radius: 0.35em; vertical-align: middle; margin-left: 0.5rem\">PERSON</span>\n",
       "</mark>\n",
       " and \n",
       "<mark class=\"entity\" style=\"background: #aa9cfc; padding: 0.45em 0.6em; margin: 0 0.25em; line-height: 1; border-radius: 0.35em;\">\n",
       "    Patricia\n",
       "    <span style=\"font-size: 0.8em; font-weight: bold; line-height: 1; border-radius: 0.35em; vertical-align: middle; margin-left: 0.5rem\">PERSON</span>\n",
       "</mark>\n",
       " from the research article have conducted a study of “The prognostic value of exercise testing in patients with CF”.[2] Also, \n",
       "<mark class=\"entity\" style=\"background: #7aecec; padding: 0.45em 0.6em; margin: 0 0.25em; line-height: 1; border-radius: 0.35em;\">\n",
       "    the Journal of Paediatric Pulmonology\n",
       "    <span style=\"font-size: 0.8em; font-weight: bold; line-height: 1; border-radius: 0.35em; vertical-align: middle; margin-left: 0.5rem\">ORG</span>\n",
       "</mark>\n",
       " had similar conclusions that through exercise there is an improvement in oxygen consumption and physical self-efficiency and appearance in patients. As well as, lots of positive changes in living conditions of the patients.[4] Even though the research method used in these \n",
       "<mark class=\"entity\" style=\"background: #e4e7d2; padding: 0.45em 0.6em; margin: 0 0.25em; line-height: 1; border-radius: 0.35em;\">\n",
       "    three\n",
       "    <span style=\"font-size: 0.8em; font-weight: bold; line-height: 1; border-radius: 0.35em; vertical-align: middle; margin-left: 0.5rem\">CARDINAL</span>\n",
       "</mark>\n",
       " studies differ, they all have very similar conclusions that exercise is beneficial for children with CF.</br></br>What did the research involve?[edit | edit source]</br>\n",
       "<mark class=\"entity\" style=\"background: #e4e7d2; padding: 0.45em 0.6em; margin: 0 0.25em; line-height: 1; border-radius: 0.35em;\">\n",
       "    60\n",
       "    <span style=\"font-size: 0.8em; font-weight: bold; line-height: 1; border-radius: 0.35em; vertical-align: middle; margin-left: 0.5rem\">CARDINAL</span>\n",
       "</mark>\n",
       " people in total \n",
       "<mark class=\"entity\" style=\"background: #bfe1d9; padding: 0.45em 0.6em; margin: 0 0.25em; line-height: 1; border-radius: 0.35em;\">\n",
       "    7–17 years\n",
       "    <span style=\"font-size: 0.8em; font-weight: bold; line-height: 1; border-radius: 0.35em; vertical-align: middle; margin-left: 0.5rem\">DATE</span>\n",
       "</mark>\n",
       " of age[5]</br>\n",
       "<mark class=\"entity\" style=\"background: #e4e7d2; padding: 0.45em 0.6em; margin: 0 0.25em; line-height: 1; border-radius: 0.35em;\">\n",
       "    30\n",
       "    <span style=\"font-size: 0.8em; font-weight: bold; line-height: 1; border-radius: 0.35em; vertical-align: middle; margin-left: 0.5rem\">CARDINAL</span>\n",
       "</mark>\n",
       " Patients with cystic fibrosis  (\n",
       "<mark class=\"entity\" style=\"background: #e4e7d2; padding: 0.45em 0.6em; margin: 0 0.25em; line-height: 1; border-radius: 0.35em;\">\n",
       "    18\n",
       "    <span style=\"font-size: 0.8em; font-weight: bold; line-height: 1; border-radius: 0.35em; vertical-align: middle; margin-left: 0.5rem\">CARDINAL</span>\n",
       "</mark>\n",
       " male, \n",
       "<mark class=\"entity\" style=\"background: #e4e7d2; padding: 0.45em 0.6em; margin: 0 0.25em; line-height: 1; border-radius: 0.35em;\">\n",
       "    12\n",
       "    <span style=\"font-size: 0.8em; font-weight: bold; line-height: 1; border-radius: 0.35em; vertical-align: middle; margin-left: 0.5rem\">CARDINAL</span>\n",
       "</mark>\n",
       " female)[5]</br>\n",
       "<mark class=\"entity\" style=\"background: #e4e7d2; padding: 0.45em 0.6em; margin: 0 0.25em; line-height: 1; border-radius: 0.35em;\">\n",
       "    30\n",
       "    <span style=\"font-size: 0.8em; font-weight: bold; line-height: 1; border-radius: 0.35em; vertical-align: middle; margin-left: 0.5rem\">CARDINAL</span>\n",
       "</mark>\n",
       " people in the control not affected (\n",
       "<mark class=\"entity\" style=\"background: #e4e7d2; padding: 0.45em 0.6em; margin: 0 0.25em; line-height: 1; border-radius: 0.35em;\">\n",
       "    17\n",
       "    <span style=\"font-size: 0.8em; font-weight: bold; line-height: 1; border-radius: 0.35em; vertical-align: middle; margin-left: 0.5rem\">CARDINAL</span>\n",
       "</mark>\n",
       " male, \n",
       "<mark class=\"entity\" style=\"background: #e4e7d2; padding: 0.45em 0.6em; margin: 0 0.25em; line-height: 1; border-radius: 0.35em;\">\n",
       "    13 female\n",
       "    <span style=\"font-size: 0.8em; font-weight: bold; line-height: 1; border-radius: 0.35em; vertical-align: middle; margin-left: 0.5rem\">QUANTITY</span>\n",
       "</mark>\n",
       " )[\n",
       "<mark class=\"entity\" style=\"background: #e4e7d2; padding: 0.45em 0.6em; margin: 0 0.25em; line-height: 1; border-radius: 0.35em;\">\n",
       "    5\n",
       "    <span style=\"font-size: 0.8em; font-weight: bold; line-height: 1; border-radius: 0.35em; vertical-align: middle; margin-left: 0.5rem\">CARDINAL</span>\n",
       "</mark>\n",
       "]</br>The participants completed a \n",
       "<mark class=\"entity\" style=\"background: #aa9cfc; padding: 0.45em 0.6em; margin: 0 0.25em; line-height: 1; border-radius: 0.35em;\">\n",
       "    Questionnaire\n",
       "    <span style=\"font-size: 0.8em; font-weight: bold; line-height: 1; border-radius: 0.35em; vertical-align: middle; margin-left: 0.5rem\">PERSON</span>\n",
       "</mark>\n",
       " about their activity levels. Children \n",
       "<mark class=\"entity\" style=\"background: #bfe1d9; padding: 0.45em 0.6em; margin: 0 0.25em; line-height: 1; border-radius: 0.35em;\">\n",
       "    12 years\n",
       "    <span style=\"font-size: 0.8em; font-weight: bold; line-height: 1; border-radius: 0.35em; vertical-align: middle; margin-left: 0.5rem\">DATE</span>\n",
       "</mark>\n",
       " and older completed it with no help or little assistant. Children \n",
       "<mark class=\"entity\" style=\"background: #bfe1d9; padding: 0.45em 0.6em; margin: 0 0.25em; line-height: 1; border-radius: 0.35em;\">\n",
       "    12 years\n",
       "    <span style=\"font-size: 0.8em; font-weight: bold; line-height: 1; border-radius: 0.35em; vertical-align: middle; margin-left: 0.5rem\">DATE</span>\n",
       "</mark>\n",
       " and under did it with a parent or guardian. </br>When getting tested the children did \n",
       "<mark class=\"entity\" style=\"background: #e4e7d2; padding: 0.45em 0.6em; margin: 0 0.25em; line-height: 1; border-radius: 0.35em;\">\n",
       "    2\n",
       "    <span style=\"font-size: 0.8em; font-weight: bold; line-height: 1; border-radius: 0.35em; vertical-align: middle; margin-left: 0.5rem\">CARDINAL</span>\n",
       "</mark>\n",
       " types of tests, a \n",
       "<mark class=\"entity\" style=\"background: #aa9cfc; padding: 0.45em 0.6em; margin: 0 0.25em; line-height: 1; border-radius: 0.35em;\">\n",
       "    Pulmonary Function\n",
       "    <span style=\"font-size: 0.8em; font-weight: bold; line-height: 1; border-radius: 0.35em; vertical-align: middle; margin-left: 0.5rem\">PERSON</span>\n",
       "</mark>\n",
       " test, and an Exercise Test. The level of aerobic fitness was tested by the participant completing a progressive exercise test on a stationary electronic bike (\n",
       "<mark class=\"entity\" style=\"background: #aa9cfc; padding: 0.45em 0.6em; margin: 0 0.25em; line-height: 1; border-radius: 0.35em;\">\n",
       "    cycle ergometer\n",
       "    <span style=\"font-size: 0.8em; font-weight: bold; line-height: 1; border-radius: 0.35em; vertical-align: middle; margin-left: 0.5rem\">PERSON</span>\n",
       "</mark>\n",
       ") using the \n",
       "<mark class=\"entity\" style=\"background: #aa9cfc; padding: 0.45em 0.6em; margin: 0 0.25em; line-height: 1; border-radius: 0.35em;\">\n",
       "    Godfrey\n",
       "    <span style=\"font-size: 0.8em; font-weight: bold; line-height: 1; border-radius: 0.35em; vertical-align: middle; margin-left: 0.5rem\">PERSON</span>\n",
       "</mark>\n",
       " protocol. Oxygen uptake was measured using a cart that you breathed into and then It  analysed the breath content. This was recorded during \n",
       "<mark class=\"entity\" style=\"background: #bfe1d9; padding: 0.45em 0.6em; margin: 0 0.25em; line-height: 1; border-radius: 0.35em;\">\n",
       "    the last 15 seconds\n",
       "    <span style=\"font-size: 0.8em; font-weight: bold; line-height: 1; border-radius: 0.35em; vertical-align: middle; margin-left: 0.5rem\">TIME</span>\n",
       "</mark>\n",
       " of each stage exercise</br></br>Pulmonary Function testing[edit | edit source]</br>\n",
       "<mark class=\"entity\" style=\"background: #aa9cfc; padding: 0.45em 0.6em; margin: 0 0.25em; line-height: 1; border-radius: 0.35em;\">\n",
       "    Pulmonary\n",
       "    <span style=\"font-size: 0.8em; font-weight: bold; line-height: 1; border-radius: 0.35em; vertical-align: middle; margin-left: 0.5rem\">PERSON</span>\n",
       "</mark>\n",
       " function was tested before exercising. Children who have \n",
       "<mark class=\"entity\" style=\"background: #7aecec; padding: 0.45em 0.6em; margin: 0 0.25em; line-height: 1; border-radius: 0.35em;\">\n",
       "    CF\n",
       "    <span style=\"font-size: 0.8em; font-weight: bold; line-height: 1; border-radius: 0.35em; vertical-align: middle; margin-left: 0.5rem\">ORG</span>\n",
       "</mark>\n",
       " had limited experience in doing these tests as they did not have regular exposure to the test due to the condition. A spirometry was used to measure \n",
       "<mark class=\"entity\" style=\"background: #aa9cfc; padding: 0.45em 0.6em; margin: 0 0.25em; line-height: 1; border-radius: 0.35em;\">\n",
       "    pulmonary lung\n",
       "    <span style=\"font-size: 0.8em; font-weight: bold; line-height: 1; border-radius: 0.35em; vertical-align: middle; margin-left: 0.5rem\">PERSON</span>\n",
       "</mark>\n",
       " function capacity. The aim of the test is to measure how much and how quickly an individual is able to move air out of their lungs” ([\n",
       "<mark class=\"entity\" style=\"background: #e4e7d2; padding: 0.45em 0.6em; margin: 0 0.25em; line-height: 1; border-radius: 0.35em;\">\n",
       "    6\n",
       "    <span style=\"font-size: 0.8em; font-weight: bold; line-height: 1; border-radius: 0.35em; vertical-align: middle; margin-left: 0.5rem\">CARDINAL</span>\n",
       "</mark>\n",
       "] this is done by breathing into a mouth piece connected to a device that records the air and it called a spirometer.</br></br>\n",
       "<mark class=\"entity\" style=\"background: #7aecec; padding: 0.45em 0.6em; margin: 0 0.25em; line-height: 1; border-radius: 0.35em;\">\n",
       "    Pros / Cons\n",
       "    <span style=\"font-size: 0.8em; font-weight: bold; line-height: 1; border-radius: 0.35em; vertical-align: middle; margin-left: 0.5rem\">ORG</span>\n",
       "</mark>\n",
       " of this test[edit | edit source]</br>This study was very good for testing but there were disadvantages on the younger population in the study due to being short as they were  unable to reach the pedals. Another limitation of the study is that focus was only on the effects of aerobic training and did not take into account the benefit of anaerobic or resistance training can have on an individual. Also, \n",
       "<mark class=\"entity\" style=\"background: #7aecec; padding: 0.45em 0.6em; margin: 0 0.25em; line-height: 1; border-radius: 0.35em;\">\n",
       "    the Australian Cystic Fibrosis Council\n",
       "    <span style=\"font-size: 0.8em; font-weight: bold; line-height: 1; border-radius: 0.35em; vertical-align: middle; margin-left: 0.5rem\">ORG</span>\n",
       "</mark>\n",
       " suggest that core strength is also an important component of helping with the clearance of mucus for patients[1]</br></br>What were the basic results?[edit | edit source]</br>The survival rate of living with \n",
       "<mark class=\"entity\" style=\"background: #7aecec; padding: 0.45em 0.6em; margin: 0 0.25em; line-height: 1; border-radius: 0.35em;\">\n",
       "    Cystic Fibrosis\n",
       "    <span style=\"font-size: 0.8em; font-weight: bold; line-height: 1; border-radius: 0.35em; vertical-align: middle; margin-left: 0.5rem\">ORG</span>\n",
       "</mark>\n",
       " is affected by the engagement of regulary physical Activity</br>The oxygen consumption improves with exercise.</br>Exercise helps with the removal of mucus</br>\n",
       "<mark class=\"entity\" style=\"background: #f0d0ff; padding: 0.45em 0.6em; margin: 0 0.25em; line-height: 1; border-radius: 0.35em;\">\n",
       "    Children with Cystic Fibrosis\n",
       "    <span style=\"font-size: 0.8em; font-weight: bold; line-height: 1; border-radius: 0.35em; vertical-align: middle; margin-left: 0.5rem\">WORK_OF_ART</span>\n",
       "</mark>\n",
       " participate in less vigorous physical exercise and activities when compared with children not affected by CF</br>What conclusion can we take from this research ?[edit | edit source]</br>In conclusion, this research demonstrates that exercise does have benefit's for children living with \n",
       "<mark class=\"entity\" style=\"background: #7aecec; padding: 0.45em 0.6em; margin: 0 0.25em; line-height: 1; border-radius: 0.35em;\">\n",
       "    CF\n",
       "    <span style=\"font-size: 0.8em; font-weight: bold; line-height: 1; border-radius: 0.35em; vertical-align: middle; margin-left: 0.5rem\">ORG</span>\n",
       "</mark>\n",
       " as it increases the survival rate and increase life expectancy. I believe \n",
       "<mark class=\"entity\" style=\"background: #e4e7d2; padding: 0.45em 0.6em; margin: 0 0.25em; line-height: 1; border-radius: 0.35em;\">\n",
       "    one\n",
       "    <span style=\"font-size: 0.8em; font-weight: bold; line-height: 1; border-radius: 0.35em; vertical-align: middle; margin-left: 0.5rem\">CARDINAL</span>\n",
       "</mark>\n",
       " thing that is important when trying to help treat children with \n",
       "<mark class=\"entity\" style=\"background: #7aecec; padding: 0.45em 0.6em; margin: 0 0.25em; line-height: 1; border-radius: 0.35em;\">\n",
       "    CF\n",
       "    <span style=\"font-size: 0.8em; font-weight: bold; line-height: 1; border-radius: 0.35em; vertical-align: middle; margin-left: 0.5rem\">ORG</span>\n",
       "</mark>\n",
       " is to treat them normally and allowing them to engage in the activity as their peers are doing, within reason.</br></br>Practical Advice[edit | edit source]</br>Before trying to treat \n",
       "<mark class=\"entity\" style=\"background: #7aecec; padding: 0.45em 0.6em; margin: 0 0.25em; line-height: 1; border-radius: 0.35em;\">\n",
       "    CF\n",
       "    <span style=\"font-size: 0.8em; font-weight: bold; line-height: 1; border-radius: 0.35em; vertical-align: middle; margin-left: 0.5rem\">ORG</span>\n",
       "</mark>\n",
       " with exercise consult Doctors about the type of exercise and don’t push yourself too hard. Build up the intensity.</br></br>Further information/ Resources[edit | edit source]</br>\n",
       "<mark class=\"entity\" style=\"background: #7aecec; padding: 0.45em 0.6em; margin: 0 0.25em; line-height: 1; border-radius: 0.35em;\">\n",
       "    Cystic Fibrosis\n",
       "    <span style=\"font-size: 0.8em; font-weight: bold; line-height: 1; border-radius: 0.35em; vertical-align: middle; margin-left: 0.5rem\">ORG</span>\n",
       "</mark>\n",
       " Australia[edit | edit source]</br>\n",
       "<mark class=\"entity\" style=\"background: #7aecec; padding: 0.45em 0.6em; margin: 0 0.25em; line-height: 1; border-radius: 0.35em;\">\n",
       "    Cystic Fibrosis\n",
       "    <span style=\"font-size: 0.8em; font-weight: bold; line-height: 1; border-radius: 0.35em; vertical-align: middle; margin-left: 0.5rem\">ORG</span>\n",
       "</mark>\n",
       " Australia even suggests that exercise is an important component of treating cystic fibrosis as it help with clearing the airways and building core strength.[1]</br>Web Page: http://www.cysticfibrosis.org.au</br></br>\n",
       "<mark class=\"entity\" style=\"background: #7aecec; padding: 0.45em 0.6em; margin: 0 0.25em; line-height: 1; border-radius: 0.35em;\">\n",
       "    Cystic Fibrosis's\n",
       "    <span style=\"font-size: 0.8em; font-weight: bold; line-height: 1; border-radius: 0.35em; vertical-align: middle; margin-left: 0.5rem\">ORG</span>\n",
       "</mark>\n",
       " National Ambassador Nathan Charles[edit | edit source]</br>\n",
       "<mark class=\"entity\" style=\"background: #7aecec; padding: 0.45em 0.6em; margin: 0 0.25em; line-height: 1; border-radius: 0.35em;\">\n",
       "    Cystic Fibrosis's\n",
       "    <span style=\"font-size: 0.8em; font-weight: bold; line-height: 1; border-radius: 0.35em; vertical-align: middle; margin-left: 0.5rem\">ORG</span>\n",
       "</mark>\n",
       " National Ambassador \n",
       "<mark class=\"entity\" style=\"background: #aa9cfc; padding: 0.45em 0.6em; margin: 0 0.25em; line-height: 1; border-radius: 0.35em;\">\n",
       "    Nathan Charles\n",
       "    <span style=\"font-size: 0.8em; font-weight: bold; line-height: 1; border-radius: 0.35em; vertical-align: middle; margin-left: 0.5rem\">PERSON</span>\n",
       "</mark>\n",
       " an elite rugby union player playing a contact sport while living with the condition cystic fibrosis. Shows that it is possible to stay fit and achieve great success with cystic fibrosis.[7]</br>\n",
       "<mark class=\"entity\" style=\"background: #aa9cfc; padding: 0.45em 0.6em; margin: 0 0.25em; line-height: 1; border-radius: 0.35em;\">\n",
       "    Nathan Charles\n",
       "    <span style=\"font-size: 0.8em; font-weight: bold; line-height: 1; border-radius: 0.35em; vertical-align: middle; margin-left: 0.5rem\">PERSON</span>\n",
       "</mark>\n",
       " Web page http://nathancharles.com.au</br>\n",
       "<mark class=\"entity\" style=\"background: #7aecec; padding: 0.45em 0.6em; margin: 0 0.25em; line-height: 1; border-radius: 0.35em;\">\n",
       "    Playing Elite Rugby\n",
       "    <span style=\"font-size: 0.8em; font-weight: bold; line-height: 1; border-radius: 0.35em; vertical-align: middle; margin-left: 0.5rem\">ORG</span>\n",
       "</mark>\n",
       " with CF:  http://nathancharles.com.au/nutri-grain-unstoppable/</br></br>References[edit | edit source]</br></br></br>↑ a b c Cystic Fibrosis [Internet]. Cysticfibrosis.org.au. \n",
       "<mark class=\"entity\" style=\"background: #bfe1d9; padding: 0.45em 0.6em; margin: 0 0.25em; line-height: 1; border-radius: 0.35em;\">\n",
       "    2016\n",
       "    <span style=\"font-size: 0.8em; font-weight: bold; line-height: 1; border-radius: 0.35em; vertical-align: middle; margin-left: 0.5rem\">DATE</span>\n",
       "</mark>\n",
       " [cited \n",
       "<mark class=\"entity\" style=\"background: #bfe1d9; padding: 0.45em 0.6em; margin: 0 0.25em; line-height: 1; border-radius: 0.35em;\">\n",
       "    24 September 2016\n",
       "    <span style=\"font-size: 0.8em; font-weight: bold; line-height: 1; border-radius: 0.35em; vertical-align: middle; margin-left: 0.5rem\">DATE</span>\n",
       "</mark>\n",
       "]. Available from: http://www.cysticfibrosis.org.au/all/learn/</br></br>↑ a b Nixon P, Orenstein D, \n",
       "<mark class=\"entity\" style=\"background: #aa9cfc; padding: 0.45em 0.6em; margin: 0 0.25em; line-height: 1; border-radius: 0.35em;\">\n",
       "    Kelsey S\n",
       "    <span style=\"font-size: 0.8em; font-weight: bold; line-height: 1; border-radius: 0.35em; vertical-align: middle; margin-left: 0.5rem\">PERSON</span>\n",
       "</mark>\n",
       ", \n",
       "<mark class=\"entity\" style=\"background: #aa9cfc; padding: 0.45em 0.6em; margin: 0 0.25em; line-height: 1; border-radius: 0.35em;\">\n",
       "    Doershuk C.\n",
       "    <span style=\"font-size: 0.8em; font-weight: bold; line-height: 1; border-radius: 0.35em; vertical-align: middle; margin-left: 0.5rem\">PERSON</span>\n",
       "</mark>\n",
       " The prognostic value of exercise testing in patients with cystic fibrosis [Internet]. \n",
       "<mark class=\"entity\" style=\"background: #7aecec; padding: 0.45em 0.6em; margin: 0 0.25em; line-height: 1; border-radius: 0.35em;\">\n",
       "    Saskatoon Public Library\n",
       "    <span style=\"font-size: 0.8em; font-weight: bold; line-height: 1; border-radius: 0.35em; vertical-align: middle; margin-left: 0.5rem\">ORG</span>\n",
       "</mark>\n",
       ". \n",
       "<mark class=\"entity\" style=\"background: #bfe1d9; padding: 0.45em 0.6em; margin: 0 0.25em; line-height: 1; border-radius: 0.35em;\">\n",
       "    2010\n",
       "    <span style=\"font-size: 0.8em; font-weight: bold; line-height: 1; border-radius: 0.35em; vertical-align: middle; margin-left: 0.5rem\">DATE</span>\n",
       "</mark>\n",
       " [cited \n",
       "<mark class=\"entity\" style=\"background: #bfe1d9; padding: 0.45em 0.6em; margin: 0 0.25em; line-height: 1; border-radius: 0.35em;\">\n",
       "    15 September 2016\n",
       "    <span style=\"font-size: 0.8em; font-weight: bold; line-height: 1; border-radius: 0.35em; vertical-align: middle; margin-left: 0.5rem\">DATE</span>\n",
       "</mark>\n",
       "]. Available from: http://saskatoonlibrary.ca/eds/item?dbid=edsgea&amp;an=edsgcl.13305971</br></br>\n",
       "<mark class=\"entity\" style=\"background: #aa9cfc; padding: 0.45em 0.6em; margin: 0 0.25em; line-height: 1; border-radius: 0.35em;\">\n",
       "    ↑ M. Orenstein\n",
       "    <span style=\"font-size: 0.8em; font-weight: bold; line-height: 1; border-radius: 0.35em; vertical-align: middle; margin-left: 0.5rem\">PERSON</span>\n",
       "</mark>\n",
       " D, A. Nixon P, A. Washburn , \n",
       "<mark class=\"entity\" style=\"background: #aa9cfc; padding: 0.45em 0.6em; margin: 0 0.25em; line-height: 1; border-radius: 0.35em;\">\n",
       "    F. Kelsey S. Measuring Physical Activity\n",
       "    <span style=\"font-size: 0.8em; font-weight: bold; line-height: 1; border-radius: 0.35em; vertical-align: middle; margin-left: 0.5rem\">PERSON</span>\n",
       "</mark>\n",
       " in Children with Cystic Fibrosis: Comparison of Four Methods: Paediatric Exercise Science: Vol 5, No 2. Paediatric Exercise Science [Internet]. \n",
       "<mark class=\"entity\" style=\"background: #bfe1d9; padding: 0.45em 0.6em; margin: 0 0.25em; line-height: 1; border-radius: 0.35em;\">\n",
       "    2016\n",
       "    <span style=\"font-size: 0.8em; font-weight: bold; line-height: 1; border-radius: 0.35em; vertical-align: middle; margin-left: 0.5rem\">DATE</span>\n",
       "</mark>\n",
       " [cited \n",
       "<mark class=\"entity\" style=\"background: #e4e7d2; padding: 0.45em 0.6em; margin: 0 0.25em; line-height: 1; border-radius: 0.35em;\">\n",
       "    13\n",
       "    <span style=\"font-size: 0.8em; font-weight: bold; line-height: 1; border-radius: 0.35em; vertical-align: middle; margin-left: 0.5rem\">CARDINAL</span>\n",
       "</mark>\n",
       " \n",
       "<mark class=\"entity\" style=\"background: #bfe1d9; padding: 0.45em 0.6em; margin: 0 0.25em; line-height: 1; border-radius: 0.35em;\">\n",
       "    September\n",
       "    <span style=\"font-size: 0.8em; font-weight: bold; line-height: 1; border-radius: 0.35em; vertical-align: middle; margin-left: 0.5rem\">DATE</span>\n",
       "</mark>\n",
       " \n",
       "<mark class=\"entity\" style=\"background: #e4e7d2; padding: 0.45em 0.6em; margin: 0 0.25em; line-height: 1; border-radius: 0.35em;\">\n",
       "    2016];5(2):125-133\n",
       "    <span style=\"font-size: 0.8em; font-weight: bold; line-height: 1; border-radius: 0.35em; vertical-align: middle; margin-left: 0.5rem\">CARDINAL</span>\n",
       "</mark>\n",
       ". Available from: http://journals.humankinetics.com/doi/pdf/10.1123/pes.5.2.125</br></br>\n",
       "<mark class=\"entity\" style=\"background: #aa9cfc; padding: 0.45em 0.6em; margin: 0 0.25em; line-height: 1; border-radius: 0.35em;\">\n",
       "    ↑ Gulmans V\n",
       "    <span style=\"font-size: 0.8em; font-weight: bold; line-height: 1; border-radius: 0.35em; vertical-align: middle; margin-left: 0.5rem\">PERSON</span>\n",
       "</mark>\n",
       ", de Meer K, \n",
       "<mark class=\"entity\" style=\"background: #7aecec; padding: 0.45em 0.6em; margin: 0 0.25em; line-height: 1; border-radius: 0.35em;\">\n",
       "    Brackel H\n",
       "    <span style=\"font-size: 0.8em; font-weight: bold; line-height: 1; border-radius: 0.35em; vertical-align: middle; margin-left: 0.5rem\">ORG</span>\n",
       "</mark>\n",
       ", \n",
       "<mark class=\"entity\" style=\"background: #aa9cfc; padding: 0.45em 0.6em; margin: 0 0.25em; line-height: 1; border-radius: 0.35em;\">\n",
       "    Faber J\n",
       "    <span style=\"font-size: 0.8em; font-weight: bold; line-height: 1; border-radius: 0.35em; vertical-align: middle; margin-left: 0.5rem\">PERSON</span>\n",
       "</mark>\n",
       ", \n",
       "<mark class=\"entity\" style=\"background: #aa9cfc; padding: 0.45em 0.6em; margin: 0 0.25em; line-height: 1; border-radius: 0.35em;\">\n",
       "    Berger R\n",
       "    <span style=\"font-size: 0.8em; font-weight: bold; line-height: 1; border-radius: 0.35em; vertical-align: middle; margin-left: 0.5rem\">PERSON</span>\n",
       "</mark>\n",
       ", \n",
       "<mark class=\"entity\" style=\"background: #7aecec; padding: 0.45em 0.6em; margin: 0 0.25em; line-height: 1; border-radius: 0.35em;\">\n",
       "    Helders P. Outpatient\n",
       "    <span style=\"font-size: 0.8em; font-weight: bold; line-height: 1; border-radius: 0.35em; vertical-align: middle; margin-left: 0.5rem\">ORG</span>\n",
       "</mark>\n",
       " exercise training in children with cystic fibrosis: Physiological effects, perceived competence, and acceptability. Pediatric Pulmonology [Internet]. \n",
       "<mark class=\"entity\" style=\"background: #bfe1d9; padding: 0.45em 0.6em; margin: 0 0.25em; line-height: 1; border-radius: 0.35em;\">\n",
       "    1999\n",
       "    <span style=\"font-size: 0.8em; font-weight: bold; line-height: 1; border-radius: 0.35em; vertical-align: middle; margin-left: 0.5rem\">DATE</span>\n",
       "</mark>\n",
       " [cited \n",
       "<mark class=\"entity\" style=\"background: #e4e7d2; padding: 0.45em 0.6em; margin: 0 0.25em; line-height: 1; border-radius: 0.35em;\">\n",
       "    15\n",
       "    <span style=\"font-size: 0.8em; font-weight: bold; line-height: 1; border-radius: 0.35em; vertical-align: middle; margin-left: 0.5rem\">CARDINAL</span>\n",
       "</mark>\n",
       " \n",
       "<mark class=\"entity\" style=\"background: #bfe1d9; padding: 0.45em 0.6em; margin: 0 0.25em; line-height: 1; border-radius: 0.35em;\">\n",
       "    September\n",
       "    <span style=\"font-size: 0.8em; font-weight: bold; line-height: 1; border-radius: 0.35em; vertical-align: middle; margin-left: 0.5rem\">DATE</span>\n",
       "</mark>\n",
       " \n",
       "<mark class=\"entity\" style=\"background: #e4e7d2; padding: 0.45em 0.6em; margin: 0 0.25em; line-height: 1; border-radius: 0.35em;\">\n",
       "    2016];28(1):39-46\n",
       "    <span style=\"font-size: 0.8em; font-weight: bold; line-height: 1; border-radius: 0.35em; vertical-align: middle; margin-left: 0.5rem\">CARDINAL</span>\n",
       "</mark>\n",
       ". Available from: http://onlinelibrary.wiley.com/doi/10.1002/(SICI)1099-0496(199907)28:1%3C39::AID-PPUL7%3E3.0.CO;2-8/abstract</br></br>↑ a b c \n",
       "<mark class=\"entity\" style=\"background: #7aecec; padding: 0.45em 0.6em; margin: 0 0.25em; line-height: 1; border-radius: 0.35em;\">\n",
       "    NIXON P\n",
       "    <span style=\"font-size: 0.8em; font-weight: bold; line-height: 1; border-radius: 0.35em; vertical-align: middle; margin-left: 0.5rem\">ORG</span>\n",
       "</mark>\n",
       ", ORENSTEIN D, \n",
       "<mark class=\"entity\" style=\"background: #c887fb; padding: 0.45em 0.6em; margin: 0 0.25em; line-height: 1; border-radius: 0.35em;\">\n",
       "    KELSEY\n",
       "    <span style=\"font-size: 0.8em; font-weight: bold; line-height: 1; border-radius: 0.35em; vertical-align: middle; margin-left: 0.5rem\">NORP</span>\n",
       "</mark>\n",
       " S. Habitual physical activity in children and adolescents with \n",
       "<mark class=\"entity\" style=\"background: #7aecec; padding: 0.45em 0.6em; margin: 0 0.25em; line-height: 1; border-radius: 0.35em;\">\n",
       "    CF.\n",
       "    <span style=\"font-size: 0.8em; font-weight: bold; line-height: 1; border-radius: 0.35em; vertical-align: middle; margin-left: 0.5rem\">ORG</span>\n",
       "</mark>\n",
       " Medicine and Science in Sports and Exercise [Internet]. \n",
       "<mark class=\"entity\" style=\"background: #bfe1d9; padding: 0.45em 0.6em; margin: 0 0.25em; line-height: 1; border-radius: 0.35em;\">\n",
       "    2001\n",
       "    <span style=\"font-size: 0.8em; font-weight: bold; line-height: 1; border-radius: 0.35em; vertical-align: middle; margin-left: 0.5rem\">DATE</span>\n",
       "</mark>\n",
       " [cited \n",
       "<mark class=\"entity\" style=\"background: #e4e7d2; padding: 0.45em 0.6em; margin: 0 0.25em; line-height: 1; border-radius: 0.35em;\">\n",
       "    2\n",
       "    <span style=\"font-size: 0.8em; font-weight: bold; line-height: 1; border-radius: 0.35em; vertical-align: middle; margin-left: 0.5rem\">CARDINAL</span>\n",
       "</mark>\n",
       " \n",
       "<mark class=\"entity\" style=\"background: #bfe1d9; padding: 0.45em 0.6em; margin: 0 0.25em; line-height: 1; border-radius: 0.35em;\">\n",
       "    September\n",
       "    <span style=\"font-size: 0.8em; font-weight: bold; line-height: 1; border-radius: 0.35em; vertical-align: middle; margin-left: 0.5rem\">DATE</span>\n",
       "</mark>\n",
       " \n",
       "<mark class=\"entity\" style=\"background: #e4e7d2; padding: 0.45em 0.6em; margin: 0 0.25em; line-height: 1; border-radius: 0.35em;\">\n",
       "    2016];33(1):30-35\n",
       "    <span style=\"font-size: 0.8em; font-weight: bold; line-height: 1; border-radius: 0.35em; vertical-align: middle; margin-left: 0.5rem\">CARDINAL</span>\n",
       "</mark>\n",
       ". Available from: \n",
       "<mark class=\"entity\" style=\"background: #feca74; padding: 0.45em 0.6em; margin: 0 0.25em; line-height: 1; border-radius: 0.35em;\">\n",
       "    http://zh9bf5sp6t.scholar.serialssolutions.com/?sid=google&amp;auinit=PA&amp;aulast=Nixon&amp;atitle=Habitual+physical+activity+in+children+and+adolescents+with+cystic+fibrosis.&amp;id=pmid:1119410\n",
       "    <span style=\"font-size: 0.8em; font-weight: bold; line-height: 1; border-radius: 0.35em; vertical-align: middle; margin-left: 0.5rem\">GPE</span>\n",
       "</mark>\n",
       "</br></br>↑ Lung Function Tests [Internet]. WebMD. \n",
       "<mark class=\"entity\" style=\"background: #bfe1d9; padding: 0.45em 0.6em; margin: 0 0.25em; line-height: 1; border-radius: 0.35em;\">\n",
       "    2016\n",
       "    <span style=\"font-size: 0.8em; font-weight: bold; line-height: 1; border-radius: 0.35em; vertical-align: middle; margin-left: 0.5rem\">DATE</span>\n",
       "</mark>\n",
       " [cited \n",
       "<mark class=\"entity\" style=\"background: #bfe1d9; padding: 0.45em 0.6em; margin: 0 0.25em; line-height: 1; border-radius: 0.35em;\">\n",
       "    14 September 2016\n",
       "    <span style=\"font-size: 0.8em; font-weight: bold; line-height: 1; border-radius: 0.35em; vertical-align: middle; margin-left: 0.5rem\">DATE</span>\n",
       "</mark>\n",
       "]. Available from: http://www.webmd.com/lung/lung-function-tests</br></br>\n",
       "<mark class=\"entity\" style=\"background: #aa9cfc; padding: 0.45em 0.6em; margin: 0 0.25em; line-height: 1; border-radius: 0.35em;\">\n",
       "    ↑ Charles N. NATIONAL\n",
       "    <span style=\"font-size: 0.8em; font-weight: bold; line-height: 1; border-radius: 0.35em; vertical-align: middle; margin-left: 0.5rem\">PERSON</span>\n",
       "</mark>\n",
       " AMBASSADOR FOR \n",
       "<mark class=\"entity\" style=\"background: #7aecec; padding: 0.45em 0.6em; margin: 0 0.25em; line-height: 1; border-radius: 0.35em;\">\n",
       "    CYSTIC FIBROSIS AUSTRALIA\n",
       "    <span style=\"font-size: 0.8em; font-weight: bold; line-height: 1; border-radius: 0.35em; vertical-align: middle; margin-left: 0.5rem\">ORG</span>\n",
       "</mark>\n",
       " [Internet]. \n",
       "<mark class=\"entity\" style=\"background: #aa9cfc; padding: 0.45em 0.6em; margin: 0 0.25em; line-height: 1; border-radius: 0.35em;\">\n",
       "    Nathan Charles\n",
       "    <span style=\"font-size: 0.8em; font-weight: bold; line-height: 1; border-radius: 0.35em; vertical-align: middle; margin-left: 0.5rem\">PERSON</span>\n",
       "</mark>\n",
       ". \n",
       "<mark class=\"entity\" style=\"background: #bfe1d9; padding: 0.45em 0.6em; margin: 0 0.25em; line-height: 1; border-radius: 0.35em;\">\n",
       "    2015\n",
       "    <span style=\"font-size: 0.8em; font-weight: bold; line-height: 1; border-radius: 0.35em; vertical-align: middle; margin-left: 0.5rem\">DATE</span>\n",
       "</mark>\n",
       " [cited \n",
       "<mark class=\"entity\" style=\"background: #e4e7d2; padding: 0.45em 0.6em; margin: 0 0.25em; line-height: 1; border-radius: 0.35em;\">\n",
       "    25\n",
       "    <span style=\"font-size: 0.8em; font-weight: bold; line-height: 1; border-radius: 0.35em; vertical-align: middle; margin-left: 0.5rem\">CARDINAL</span>\n",
       "</mark>\n",
       " September 2016]. Available from: http://nathancharles.com.au/bio/</div></span>"
      ],
      "text/plain": [
       "<IPython.core.display.HTML object>"
      ]
     },
     "metadata": {},
     "output_type": "display_data"
    }
   ],
   "source": [
    "from spacy import displacy\n",
    "displacy.render(doc, style=\"ent\", jupyter=True)"
   ]
  },
  {
   "cell_type": "markdown",
   "metadata": {},
   "source": [
    "<span style=\"color:red\">Questions:</span> Can you see problems in this annotation? What adaptations would you suggest?"
   ]
  },
  {
   "cell_type": "markdown",
   "metadata": {},
   "source": [
    "### Comparing accuracies with a pre-trained model\n",
    "\n",
    "We will now use a pre-trained BERT-based model from the ```transformers``` library. Assuming we use the model as is, and do not do any fine-tuning, we can use the high-level interface from the library, ```pipeline```.\n",
    "First, let's look at the model and the tags it uses. "
   ]
  },
  {
   "cell_type": "code",
   "execution_count": 19,
   "metadata": {},
   "outputs": [
    {
     "name": "stderr",
     "output_type": "stream",
     "text": [
      "Some weights of the model checkpoint at dslim/bert-base-NER were not used when initializing BertForTokenClassification: ['bert.pooler.dense.weight', 'bert.pooler.dense.bias']\n",
      "- This IS expected if you are initializing BertForTokenClassification from the checkpoint of a model trained on another task or with another architecture (e.g. initializing a BertForSequenceClassification model from a BertForPreTraining model).\n",
      "- This IS NOT expected if you are initializing BertForTokenClassification from the checkpoint of a model that you expect to be exactly identical (initializing a BertForSequenceClassification model from a BertForSequenceClassification model).\n"
     ]
    },
    {
     "name": "stdout",
     "output_type": "stream",
     "text": [
      "Entities from the pretrained model\n",
      "{0: 'O', 1: 'B-MISC', 2: 'I-MISC', 3: 'B-PER', 4: 'I-PER', 5: 'B-ORG', 6: 'I-ORG', 7: 'B-LOC', 8: 'I-LOC'}\n"
     ]
    }
   ],
   "source": [
    "from transformers import AutoModelForTokenClassification, AutoTokenizer\n",
    "\n",
    "tokenizer = AutoTokenizer.from_pretrained(\"dslim/bert-base-NER\")\n",
    "model = AutoModelForTokenClassification.from_pretrained(\"dslim/bert-base-NER\")\n",
    "print('Entities from the pretrained model')\n",
    "print(model.config.id2label)"
   ]
  },
  {
   "cell_type": "markdown",
   "metadata": {},
   "source": [
    "Now, let's look at one last dataset. It contains **reference tags** for every word in the sentences. However, the tagset is not exactly the same - we will need to use a mapping. For simplicity, we will only look at the *Location* tags in what follows ! "
   ]
  },
  {
   "cell_type": "code",
   "execution_count": 20,
   "metadata": {},
   "outputs": [],
   "source": [
    "# Let's re-format the dataset for convenience\n",
    "df = pd.read_csv('./entity-annotated-corpus/ner_dataset.csv', encoding='unicode_escape')\n",
    "df['Sentence #'] = df['Sentence #'].ffill()\n",
    "# Grouping sentences together into one sentence by row, for words, pos, tags\n",
    "df_gr = df.groupby('Sentence #').agg(lambda x: list(x))\n",
    "# Just renaming indexes\n",
    "df_gr.index  = [int(s[9:]) for s in df_gr.index]"
   ]
  },
  {
   "cell_type": "code",
   "execution_count": null,
   "metadata": {},
   "outputs": [],
   "source": [
    "# What's the tagset ? \n",
    "tags = []\n",
    "for tag in df_gr['Tag'].to_list():\n",
    "    tags.extend(tag)\n",
    "print('Entities in our data set')\n",
    "print(set(tags))"
   ]
  },
  {
   "cell_type": "markdown",
   "metadata": {},
   "source": [
    "<span style=\"color:red\">Questions:</span> What is the tagset used in the previous cell?"
   ]
  },
  {
   "cell_type": "code",
   "execution_count": 21,
   "metadata": {},
   "outputs": [
    {
     "ename": "NameError",
     "evalue": "name 'pipeline' is not defined",
     "output_type": "error",
     "traceback": [
      "\u001b[0;31m---------------------------------------------------------------------------\u001b[0m",
      "\u001b[0;31mNameError\u001b[0m                                 Traceback (most recent call last)",
      "\u001b[1;32m/Users/maria/Desktop/To reaffect/Teaching/Telecom Paris/Master Data Science/StructuredPrediction_Student.ipynb Cell 47\u001b[0m line \u001b[0;36m4\n\u001b[1;32m      <a href='vscode-notebook-cell:/Users/maria/Desktop/To%20reaffect/Teaching/Telecom%20Paris/Master%20Data%20Science/StructuredPrediction_Student.ipynb#Y111sZmlsZQ%3D%3D?line=1'>2</a>\u001b[0m example \u001b[39m=\u001b[39m df_gr\u001b[39m.\u001b[39mloc[\u001b[39m1\u001b[39m][\u001b[39m'\u001b[39m\u001b[39mWord\u001b[39m\u001b[39m'\u001b[39m]\n\u001b[1;32m      <a href='vscode-notebook-cell:/Users/maria/Desktop/To%20reaffect/Teaching/Telecom%20Paris/Master%20Data%20Science/StructuredPrediction_Student.ipynb#Y111sZmlsZQ%3D%3D?line=2'>3</a>\u001b[0m example_tag \u001b[39m=\u001b[39m df_gr\u001b[39m.\u001b[39mloc[\u001b[39m1\u001b[39m][\u001b[39m'\u001b[39m\u001b[39mTag\u001b[39m\u001b[39m'\u001b[39m]\n\u001b[0;32m----> <a href='vscode-notebook-cell:/Users/maria/Desktop/To%20reaffect/Teaching/Telecom%20Paris/Master%20Data%20Science/StructuredPrediction_Student.ipynb#Y111sZmlsZQ%3D%3D?line=3'>4</a>\u001b[0m NER_model \u001b[39m=\u001b[39m pipeline(\u001b[39m\"\u001b[39m\u001b[39mner\u001b[39m\u001b[39m\"\u001b[39m,\n\u001b[1;32m      <a href='vscode-notebook-cell:/Users/maria/Desktop/To%20reaffect/Teaching/Telecom%20Paris/Master%20Data%20Science/StructuredPrediction_Student.ipynb#Y111sZmlsZQ%3D%3D?line=4'>5</a>\u001b[0m                      model\u001b[39m=\u001b[39m\u001b[39m\"\u001b[39m\u001b[39mdslim/bert-base-NER\u001b[39m\u001b[39m\"\u001b[39m,\n\u001b[1;32m      <a href='vscode-notebook-cell:/Users/maria/Desktop/To%20reaffect/Teaching/Telecom%20Paris/Master%20Data%20Science/StructuredPrediction_Student.ipynb#Y111sZmlsZQ%3D%3D?line=5'>6</a>\u001b[0m                      grouped_entities\u001b[39m=\u001b[39m\u001b[39mTrue\u001b[39;00m)\n\u001b[1;32m      <a href='vscode-notebook-cell:/Users/maria/Desktop/To%20reaffect/Teaching/Telecom%20Paris/Master%20Data%20Science/StructuredPrediction_Student.ipynb#Y111sZmlsZQ%3D%3D?line=6'>7</a>\u001b[0m \u001b[39mprint\u001b[39m(\u001b[39m\"\u001b[39m\u001b[39mOutput from the pipeline containing the BERT-based model:\u001b[39m\u001b[39m\"\u001b[39m)\n\u001b[1;32m      <a href='vscode-notebook-cell:/Users/maria/Desktop/To%20reaffect/Teaching/Telecom%20Paris/Master%20Data%20Science/StructuredPrediction_Student.ipynb#Y111sZmlsZQ%3D%3D?line=7'>8</a>\u001b[0m \u001b[39mprint\u001b[39m(generator(example))\n",
      "\u001b[0;31mNameError\u001b[0m: name 'pipeline' is not defined"
     ]
    }
   ],
   "source": [
    "# Let's look at an example ! \n",
    "example = df_gr.loc[1]['Word']\n",
    "example_tag = df_gr.loc[1]['Tag']\n",
    "NER_model = pipeline(\"ner\",\n",
    "                     model=\"dslim/bert-base-NER\",\n",
    "                     grouped_entities=True)\n",
    "print(\"Output from the pipeline containing the BERT-based model:\")\n",
    "print(generator(example))\n",
    "print(\"Reference tag list\")\n",
    "print(example_tag)"
   ]
  },
  {
   "cell_type": "markdown",
   "metadata": {},
   "source": []
  },
  {
   "cell_type": "markdown",
   "metadata": {},
   "source": [
    "<span style=\"color:green\">To code:</span> Assuming the following mapping between the tags from the dataset and those output by the BERT model:\n",
    "```python\n",
    "entity_mapping = {\n",
    "'O': 'O',\n",
    "'B-per': 'B-PER',\n",
    "'I-per': 'I-PER',\n",
    "'B-org': 'B-ORG',\n",
    "'I-org': 'I-ORG',\n",
    "'B-geo': 'B-LOC',\n",
    "'I-geo': 'I-LOC',\n",
    "'B-art': 'B-MISC', 'B-eve': 'B-MISC', 'B-gpe': 'B-MISC', 'B-nat': 'B-MISC', 'B-tim': 'B-MISC',\n",
    "'I-art': 'I-MISC', 'I-eve': 'I-MISC', 'I-gpe': 'I-MISC', 'I-nat': 'I-MISC', 'I-tim': 'I-MISC',\n",
    "}\n",
    "``` \n",
    "\n",
    "Assuming you can use the less precise tagset (from the BERT model),\n",
    "Find a way to compute the accuracy of the BERT-based model on all **complete locations** on the dataset. Compare with the same value obtained for the NLTK model !"
   ]
  }
 ],
 "metadata": {
  "kernelspec": {
   "display_name": "struct-pred-TP",
   "language": "python",
   "name": "python3"
  },
  "language_info": {
   "codemirror_mode": {
    "name": "ipython",
    "version": 3
   },
   "file_extension": ".py",
   "mimetype": "text/x-python",
   "name": "python",
   "nbconvert_exporter": "python",
   "pygments_lexer": "ipython3",
   "version": "3.11.5"
  }
 },
 "nbformat": 4,
 "nbformat_minor": 2
}
