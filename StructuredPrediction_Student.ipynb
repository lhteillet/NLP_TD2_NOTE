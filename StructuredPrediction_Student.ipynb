{
  "cells": [
    {
      "cell_type": "markdown",
      "metadata": {
        "id": "view-in-github",
        "colab_type": "text"
      },
      "source": [
        "<a href=\"https://colab.research.google.com/github/lhteillet/NLP_TD2_NOTE/blob/main/StructuredPrediction_Student.ipynb\" target=\"_parent\"><img src=\"https://colab.research.google.com/assets/colab-badge.svg\" alt=\"Open In Colab\"/></a>"
      ]
    },
    {
      "cell_type": "markdown",
      "metadata": {
        "id": "qZH6qnB7cSRa"
      },
      "source": [
        "# Explore structured prediction tasks and compare different prediction methods\n",
        "\n",
        "**Authors: maria.boritchev@telecom-paris.fr and matthieu.labeau@telecom-paris.fr**\n",
        "\n",
        "## Objectives:\n",
        "\n",
        "- Explore Part-of-Speech (POS) tagging, in particular through tools integrated to the ```nltk``` library.\n",
        "\n",
        "- Use the notion of _chunking_ and its different implementations and explore sentence structure.\n",
        "\n",
        "- Implement a BIO tagging for POS and compare our implementation with tools integrated to the ```nltk``` library.\n",
        "\n",
        "- Explore Named Entity Recognition (NER) with tools integrated to the ```nltk``` library and ```spaCy``` visualisations.\n",
        "\n",
        "- Compare these tools with a neural network implementation using BERT.\n",
        "\n",
        "- Throughout this lab, we will use several datasets: ```nlp-getting-started```, ```entity-annotated-corpus```, and ```wikibooks-dataset```. These datasets need to be downloaded from the course page."
      ]
    },
    {
      "cell_type": "code",
      "execution_count": 34,
      "metadata": {
        "colab": {
          "base_uri": "https://localhost:8080/"
        },
        "id": "wq4ADOI2cSRq",
        "outputId": "9ede5ba2-be3b-465b-e88d-91ee5728f883"
      },
      "outputs": [
        {
          "output_type": "stream",
          "name": "stderr",
          "text": [
            "[nltk_data] Downloading package punkt to /root/nltk_data...\n",
            "[nltk_data]   Package punkt is already up-to-date!\n",
            "[nltk_data] Downloading package averaged_perceptron_tagger to\n",
            "[nltk_data]     /root/nltk_data...\n",
            "[nltk_data]   Package averaged_perceptron_tagger is already up-to-\n",
            "[nltk_data]       date!\n"
          ]
        },
        {
          "output_type": "execute_result",
          "data": {
            "text/plain": [
              "True"
            ]
          },
          "metadata": {},
          "execution_count": 34
        }
      ],
      "source": [
        "# The main packages needed for this lab:\n",
        "import numpy as np\n",
        "import pandas as pd\n",
        "import nltk\n",
        "import os\n",
        "nltk.download('punkt')\n",
        "nltk.download('averaged_perceptron_tagger')"
      ]
    },
    {
      "cell_type": "markdown",
      "metadata": {
        "id": "KvtIq0w5cSRw"
      },
      "source": [
        "In this lab, we will first use the functions ```word_tokenize``` and ```pos_tag``` for the POS tagging task."
      ]
    },
    {
      "cell_type": "markdown",
      "metadata": {
        "id": "vYQN4JUzcSRy"
      },
      "source": [
        "### Obtaining and exploring the data\n",
        "We start from the beginning with the ```nlp-getting-started``` dataset."
      ]
    },
    {
      "cell_type": "code",
      "execution_count": 35,
      "metadata": {
        "id": "ucIHD0n6cSRz"
      },
      "outputs": [],
      "source": [
        "# Read data from nlp-getting-started:\n",
        "nlp_start_df = pd.read_csv('nlp-getting-started/train.csv')"
      ]
    },
    {
      "cell_type": "markdown",
      "metadata": {
        "id": "zVaUmA8DcSR2"
      },
      "source": [
        "Explore the data directories and get familiar with their contents and type: how is the data organised?\n",
        "\n",
        "<span style=\"color:red\">Questions:</span> What type of natural language data are we working with (sentences, words)? What are the sources and languages of the data?"
      ]
    },
    {
      "cell_type": "code",
      "execution_count": 36,
      "metadata": {
        "colab": {
          "base_uri": "https://localhost:8080/"
        },
        "id": "YVfCT0KkcSR3",
        "outputId": "4f9dd297-7d6d-4d30-99da-d82991afc2ef"
      },
      "outputs": [
        {
          "output_type": "stream",
          "name": "stdout",
          "text": [
            "<class 'pandas.core.frame.DataFrame'>\n",
            "RangeIndex: 7613 entries, 0 to 7612\n",
            "Data columns (total 5 columns):\n",
            " #   Column    Non-Null Count  Dtype \n",
            "---  ------    --------------  ----- \n",
            " 0   id        7613 non-null   int64 \n",
            " 1   keyword   7552 non-null   object\n",
            " 2   location  5080 non-null   object\n",
            " 3   text      7613 non-null   object\n",
            " 4   target    7613 non-null   int64 \n",
            "dtypes: int64(2), object(3)\n",
            "memory usage: 297.5+ KB\n"
          ]
        }
      ],
      "source": [
        "# Examine example sentences:\n",
        "nlp_start_df.info()"
      ]
    },
    {
      "cell_type": "code",
      "source": [
        "nlp_start_df[nlp_start_df[\"target\"]==0].head(5)"
      ],
      "metadata": {
        "colab": {
          "base_uri": "https://localhost:8080/",
          "height": 204
        },
        "id": "gu0e3JSLdcXO",
        "outputId": "696c692c-6053-4589-a33e-3d55d3dfc957"
      },
      "execution_count": 37,
      "outputs": [
        {
          "output_type": "execute_result",
          "data": {
            "text/plain": [
              "    id keyword location                          text  target\n",
              "15  23     NaN      NaN                What's up man?       0\n",
              "16  24     NaN      NaN                 I love fruits       0\n",
              "17  25     NaN      NaN              Summer is lovely       0\n",
              "18  26     NaN      NaN             My car is so fast       0\n",
              "19  28     NaN      NaN  What a goooooooaaaaaal!!!!!!       0"
            ],
            "text/html": [
              "\n",
              "  <div id=\"df-fa8d4085-4634-437b-8fc5-038cbefdb5d0\" class=\"colab-df-container\">\n",
              "    <div>\n",
              "<style scoped>\n",
              "    .dataframe tbody tr th:only-of-type {\n",
              "        vertical-align: middle;\n",
              "    }\n",
              "\n",
              "    .dataframe tbody tr th {\n",
              "        vertical-align: top;\n",
              "    }\n",
              "\n",
              "    .dataframe thead th {\n",
              "        text-align: right;\n",
              "    }\n",
              "</style>\n",
              "<table border=\"1\" class=\"dataframe\">\n",
              "  <thead>\n",
              "    <tr style=\"text-align: right;\">\n",
              "      <th></th>\n",
              "      <th>id</th>\n",
              "      <th>keyword</th>\n",
              "      <th>location</th>\n",
              "      <th>text</th>\n",
              "      <th>target</th>\n",
              "    </tr>\n",
              "  </thead>\n",
              "  <tbody>\n",
              "    <tr>\n",
              "      <th>15</th>\n",
              "      <td>23</td>\n",
              "      <td>NaN</td>\n",
              "      <td>NaN</td>\n",
              "      <td>What's up man?</td>\n",
              "      <td>0</td>\n",
              "    </tr>\n",
              "    <tr>\n",
              "      <th>16</th>\n",
              "      <td>24</td>\n",
              "      <td>NaN</td>\n",
              "      <td>NaN</td>\n",
              "      <td>I love fruits</td>\n",
              "      <td>0</td>\n",
              "    </tr>\n",
              "    <tr>\n",
              "      <th>17</th>\n",
              "      <td>25</td>\n",
              "      <td>NaN</td>\n",
              "      <td>NaN</td>\n",
              "      <td>Summer is lovely</td>\n",
              "      <td>0</td>\n",
              "    </tr>\n",
              "    <tr>\n",
              "      <th>18</th>\n",
              "      <td>26</td>\n",
              "      <td>NaN</td>\n",
              "      <td>NaN</td>\n",
              "      <td>My car is so fast</td>\n",
              "      <td>0</td>\n",
              "    </tr>\n",
              "    <tr>\n",
              "      <th>19</th>\n",
              "      <td>28</td>\n",
              "      <td>NaN</td>\n",
              "      <td>NaN</td>\n",
              "      <td>What a goooooooaaaaaal!!!!!!</td>\n",
              "      <td>0</td>\n",
              "    </tr>\n",
              "  </tbody>\n",
              "</table>\n",
              "</div>\n",
              "    <div class=\"colab-df-buttons\">\n",
              "\n",
              "  <div class=\"colab-df-container\">\n",
              "    <button class=\"colab-df-convert\" onclick=\"convertToInteractive('df-fa8d4085-4634-437b-8fc5-038cbefdb5d0')\"\n",
              "            title=\"Convert this dataframe to an interactive table.\"\n",
              "            style=\"display:none;\">\n",
              "\n",
              "  <svg xmlns=\"http://www.w3.org/2000/svg\" height=\"24px\" viewBox=\"0 -960 960 960\">\n",
              "    <path d=\"M120-120v-720h720v720H120Zm60-500h600v-160H180v160Zm220 220h160v-160H400v160Zm0 220h160v-160H400v160ZM180-400h160v-160H180v160Zm440 0h160v-160H620v160ZM180-180h160v-160H180v160Zm440 0h160v-160H620v160Z\"/>\n",
              "  </svg>\n",
              "    </button>\n",
              "\n",
              "  <style>\n",
              "    .colab-df-container {\n",
              "      display:flex;\n",
              "      gap: 12px;\n",
              "    }\n",
              "\n",
              "    .colab-df-convert {\n",
              "      background-color: #E8F0FE;\n",
              "      border: none;\n",
              "      border-radius: 50%;\n",
              "      cursor: pointer;\n",
              "      display: none;\n",
              "      fill: #1967D2;\n",
              "      height: 32px;\n",
              "      padding: 0 0 0 0;\n",
              "      width: 32px;\n",
              "    }\n",
              "\n",
              "    .colab-df-convert:hover {\n",
              "      background-color: #E2EBFA;\n",
              "      box-shadow: 0px 1px 2px rgba(60, 64, 67, 0.3), 0px 1px 3px 1px rgba(60, 64, 67, 0.15);\n",
              "      fill: #174EA6;\n",
              "    }\n",
              "\n",
              "    .colab-df-buttons div {\n",
              "      margin-bottom: 4px;\n",
              "    }\n",
              "\n",
              "    [theme=dark] .colab-df-convert {\n",
              "      background-color: #3B4455;\n",
              "      fill: #D2E3FC;\n",
              "    }\n",
              "\n",
              "    [theme=dark] .colab-df-convert:hover {\n",
              "      background-color: #434B5C;\n",
              "      box-shadow: 0px 1px 3px 1px rgba(0, 0, 0, 0.15);\n",
              "      filter: drop-shadow(0px 1px 2px rgba(0, 0, 0, 0.3));\n",
              "      fill: #FFFFFF;\n",
              "    }\n",
              "  </style>\n",
              "\n",
              "    <script>\n",
              "      const buttonEl =\n",
              "        document.querySelector('#df-fa8d4085-4634-437b-8fc5-038cbefdb5d0 button.colab-df-convert');\n",
              "      buttonEl.style.display =\n",
              "        google.colab.kernel.accessAllowed ? 'block' : 'none';\n",
              "\n",
              "      async function convertToInteractive(key) {\n",
              "        const element = document.querySelector('#df-fa8d4085-4634-437b-8fc5-038cbefdb5d0');\n",
              "        const dataTable =\n",
              "          await google.colab.kernel.invokeFunction('convertToInteractive',\n",
              "                                                    [key], {});\n",
              "        if (!dataTable) return;\n",
              "\n",
              "        const docLinkHtml = 'Like what you see? Visit the ' +\n",
              "          '<a target=\"_blank\" href=https://colab.research.google.com/notebooks/data_table.ipynb>data table notebook</a>'\n",
              "          + ' to learn more about interactive tables.';\n",
              "        element.innerHTML = '';\n",
              "        dataTable['output_type'] = 'display_data';\n",
              "        await google.colab.output.renderOutput(dataTable, element);\n",
              "        const docLink = document.createElement('div');\n",
              "        docLink.innerHTML = docLinkHtml;\n",
              "        element.appendChild(docLink);\n",
              "      }\n",
              "    </script>\n",
              "  </div>\n",
              "\n",
              "\n",
              "<div id=\"df-e00e8ff4-3900-4d65-9f57-ed9ca3fd9909\">\n",
              "  <button class=\"colab-df-quickchart\" onclick=\"quickchart('df-e00e8ff4-3900-4d65-9f57-ed9ca3fd9909')\"\n",
              "            title=\"Suggest charts\"\n",
              "            style=\"display:none;\">\n",
              "\n",
              "<svg xmlns=\"http://www.w3.org/2000/svg\" height=\"24px\"viewBox=\"0 0 24 24\"\n",
              "     width=\"24px\">\n",
              "    <g>\n",
              "        <path d=\"M19 3H5c-1.1 0-2 .9-2 2v14c0 1.1.9 2 2 2h14c1.1 0 2-.9 2-2V5c0-1.1-.9-2-2-2zM9 17H7v-7h2v7zm4 0h-2V7h2v10zm4 0h-2v-4h2v4z\"/>\n",
              "    </g>\n",
              "</svg>\n",
              "  </button>\n",
              "\n",
              "<style>\n",
              "  .colab-df-quickchart {\n",
              "      --bg-color: #E8F0FE;\n",
              "      --fill-color: #1967D2;\n",
              "      --hover-bg-color: #E2EBFA;\n",
              "      --hover-fill-color: #174EA6;\n",
              "      --disabled-fill-color: #AAA;\n",
              "      --disabled-bg-color: #DDD;\n",
              "  }\n",
              "\n",
              "  [theme=dark] .colab-df-quickchart {\n",
              "      --bg-color: #3B4455;\n",
              "      --fill-color: #D2E3FC;\n",
              "      --hover-bg-color: #434B5C;\n",
              "      --hover-fill-color: #FFFFFF;\n",
              "      --disabled-bg-color: #3B4455;\n",
              "      --disabled-fill-color: #666;\n",
              "  }\n",
              "\n",
              "  .colab-df-quickchart {\n",
              "    background-color: var(--bg-color);\n",
              "    border: none;\n",
              "    border-radius: 50%;\n",
              "    cursor: pointer;\n",
              "    display: none;\n",
              "    fill: var(--fill-color);\n",
              "    height: 32px;\n",
              "    padding: 0;\n",
              "    width: 32px;\n",
              "  }\n",
              "\n",
              "  .colab-df-quickchart:hover {\n",
              "    background-color: var(--hover-bg-color);\n",
              "    box-shadow: 0 1px 2px rgba(60, 64, 67, 0.3), 0 1px 3px 1px rgba(60, 64, 67, 0.15);\n",
              "    fill: var(--button-hover-fill-color);\n",
              "  }\n",
              "\n",
              "  .colab-df-quickchart-complete:disabled,\n",
              "  .colab-df-quickchart-complete:disabled:hover {\n",
              "    background-color: var(--disabled-bg-color);\n",
              "    fill: var(--disabled-fill-color);\n",
              "    box-shadow: none;\n",
              "  }\n",
              "\n",
              "  .colab-df-spinner {\n",
              "    border: 2px solid var(--fill-color);\n",
              "    border-color: transparent;\n",
              "    border-bottom-color: var(--fill-color);\n",
              "    animation:\n",
              "      spin 1s steps(1) infinite;\n",
              "  }\n",
              "\n",
              "  @keyframes spin {\n",
              "    0% {\n",
              "      border-color: transparent;\n",
              "      border-bottom-color: var(--fill-color);\n",
              "      border-left-color: var(--fill-color);\n",
              "    }\n",
              "    20% {\n",
              "      border-color: transparent;\n",
              "      border-left-color: var(--fill-color);\n",
              "      border-top-color: var(--fill-color);\n",
              "    }\n",
              "    30% {\n",
              "      border-color: transparent;\n",
              "      border-left-color: var(--fill-color);\n",
              "      border-top-color: var(--fill-color);\n",
              "      border-right-color: var(--fill-color);\n",
              "    }\n",
              "    40% {\n",
              "      border-color: transparent;\n",
              "      border-right-color: var(--fill-color);\n",
              "      border-top-color: var(--fill-color);\n",
              "    }\n",
              "    60% {\n",
              "      border-color: transparent;\n",
              "      border-right-color: var(--fill-color);\n",
              "    }\n",
              "    80% {\n",
              "      border-color: transparent;\n",
              "      border-right-color: var(--fill-color);\n",
              "      border-bottom-color: var(--fill-color);\n",
              "    }\n",
              "    90% {\n",
              "      border-color: transparent;\n",
              "      border-bottom-color: var(--fill-color);\n",
              "    }\n",
              "  }\n",
              "</style>\n",
              "\n",
              "  <script>\n",
              "    async function quickchart(key) {\n",
              "      const quickchartButtonEl =\n",
              "        document.querySelector('#' + key + ' button');\n",
              "      quickchartButtonEl.disabled = true;  // To prevent multiple clicks.\n",
              "      quickchartButtonEl.classList.add('colab-df-spinner');\n",
              "      try {\n",
              "        const charts = await google.colab.kernel.invokeFunction(\n",
              "            'suggestCharts', [key], {});\n",
              "      } catch (error) {\n",
              "        console.error('Error during call to suggestCharts:', error);\n",
              "      }\n",
              "      quickchartButtonEl.classList.remove('colab-df-spinner');\n",
              "      quickchartButtonEl.classList.add('colab-df-quickchart-complete');\n",
              "    }\n",
              "    (() => {\n",
              "      let quickchartButtonEl =\n",
              "        document.querySelector('#df-e00e8ff4-3900-4d65-9f57-ed9ca3fd9909 button');\n",
              "      quickchartButtonEl.style.display =\n",
              "        google.colab.kernel.accessAllowed ? 'block' : 'none';\n",
              "    })();\n",
              "  </script>\n",
              "</div>\n",
              "    </div>\n",
              "  </div>\n"
            ]
          },
          "metadata": {},
          "execution_count": 37
        }
      ]
    },
    {
      "cell_type": "code",
      "source": [
        "nlp_start_df[nlp_start_df[\"target\"]==1].head(5)"
      ],
      "metadata": {
        "colab": {
          "base_uri": "https://localhost:8080/",
          "height": 204
        },
        "id": "B45_i-Tbdsvf",
        "outputId": "eef0ac9b-24ba-46fb-c04f-ac4d762bde69"
      },
      "execution_count": 38,
      "outputs": [
        {
          "output_type": "execute_result",
          "data": {
            "text/plain": [
              "   id keyword location                                               text  \\\n",
              "0   1     NaN      NaN  Our Deeds are the Reason of this #earthquake M...   \n",
              "1   4     NaN      NaN             Forest fire near La Ronge Sask. Canada   \n",
              "2   5     NaN      NaN  All residents asked to 'shelter in place' are ...   \n",
              "3   6     NaN      NaN  13,000 people receive #wildfires evacuation or...   \n",
              "4   7     NaN      NaN  Just got sent this photo from Ruby #Alaska as ...   \n",
              "\n",
              "   target  \n",
              "0       1  \n",
              "1       1  \n",
              "2       1  \n",
              "3       1  \n",
              "4       1  "
            ],
            "text/html": [
              "\n",
              "  <div id=\"df-1c9b0430-604a-4ef5-9b98-444b638b1d3b\" class=\"colab-df-container\">\n",
              "    <div>\n",
              "<style scoped>\n",
              "    .dataframe tbody tr th:only-of-type {\n",
              "        vertical-align: middle;\n",
              "    }\n",
              "\n",
              "    .dataframe tbody tr th {\n",
              "        vertical-align: top;\n",
              "    }\n",
              "\n",
              "    .dataframe thead th {\n",
              "        text-align: right;\n",
              "    }\n",
              "</style>\n",
              "<table border=\"1\" class=\"dataframe\">\n",
              "  <thead>\n",
              "    <tr style=\"text-align: right;\">\n",
              "      <th></th>\n",
              "      <th>id</th>\n",
              "      <th>keyword</th>\n",
              "      <th>location</th>\n",
              "      <th>text</th>\n",
              "      <th>target</th>\n",
              "    </tr>\n",
              "  </thead>\n",
              "  <tbody>\n",
              "    <tr>\n",
              "      <th>0</th>\n",
              "      <td>1</td>\n",
              "      <td>NaN</td>\n",
              "      <td>NaN</td>\n",
              "      <td>Our Deeds are the Reason of this #earthquake M...</td>\n",
              "      <td>1</td>\n",
              "    </tr>\n",
              "    <tr>\n",
              "      <th>1</th>\n",
              "      <td>4</td>\n",
              "      <td>NaN</td>\n",
              "      <td>NaN</td>\n",
              "      <td>Forest fire near La Ronge Sask. Canada</td>\n",
              "      <td>1</td>\n",
              "    </tr>\n",
              "    <tr>\n",
              "      <th>2</th>\n",
              "      <td>5</td>\n",
              "      <td>NaN</td>\n",
              "      <td>NaN</td>\n",
              "      <td>All residents asked to 'shelter in place' are ...</td>\n",
              "      <td>1</td>\n",
              "    </tr>\n",
              "    <tr>\n",
              "      <th>3</th>\n",
              "      <td>6</td>\n",
              "      <td>NaN</td>\n",
              "      <td>NaN</td>\n",
              "      <td>13,000 people receive #wildfires evacuation or...</td>\n",
              "      <td>1</td>\n",
              "    </tr>\n",
              "    <tr>\n",
              "      <th>4</th>\n",
              "      <td>7</td>\n",
              "      <td>NaN</td>\n",
              "      <td>NaN</td>\n",
              "      <td>Just got sent this photo from Ruby #Alaska as ...</td>\n",
              "      <td>1</td>\n",
              "    </tr>\n",
              "  </tbody>\n",
              "</table>\n",
              "</div>\n",
              "    <div class=\"colab-df-buttons\">\n",
              "\n",
              "  <div class=\"colab-df-container\">\n",
              "    <button class=\"colab-df-convert\" onclick=\"convertToInteractive('df-1c9b0430-604a-4ef5-9b98-444b638b1d3b')\"\n",
              "            title=\"Convert this dataframe to an interactive table.\"\n",
              "            style=\"display:none;\">\n",
              "\n",
              "  <svg xmlns=\"http://www.w3.org/2000/svg\" height=\"24px\" viewBox=\"0 -960 960 960\">\n",
              "    <path d=\"M120-120v-720h720v720H120Zm60-500h600v-160H180v160Zm220 220h160v-160H400v160Zm0 220h160v-160H400v160ZM180-400h160v-160H180v160Zm440 0h160v-160H620v160ZM180-180h160v-160H180v160Zm440 0h160v-160H620v160Z\"/>\n",
              "  </svg>\n",
              "    </button>\n",
              "\n",
              "  <style>\n",
              "    .colab-df-container {\n",
              "      display:flex;\n",
              "      gap: 12px;\n",
              "    }\n",
              "\n",
              "    .colab-df-convert {\n",
              "      background-color: #E8F0FE;\n",
              "      border: none;\n",
              "      border-radius: 50%;\n",
              "      cursor: pointer;\n",
              "      display: none;\n",
              "      fill: #1967D2;\n",
              "      height: 32px;\n",
              "      padding: 0 0 0 0;\n",
              "      width: 32px;\n",
              "    }\n",
              "\n",
              "    .colab-df-convert:hover {\n",
              "      background-color: #E2EBFA;\n",
              "      box-shadow: 0px 1px 2px rgba(60, 64, 67, 0.3), 0px 1px 3px 1px rgba(60, 64, 67, 0.15);\n",
              "      fill: #174EA6;\n",
              "    }\n",
              "\n",
              "    .colab-df-buttons div {\n",
              "      margin-bottom: 4px;\n",
              "    }\n",
              "\n",
              "    [theme=dark] .colab-df-convert {\n",
              "      background-color: #3B4455;\n",
              "      fill: #D2E3FC;\n",
              "    }\n",
              "\n",
              "    [theme=dark] .colab-df-convert:hover {\n",
              "      background-color: #434B5C;\n",
              "      box-shadow: 0px 1px 3px 1px rgba(0, 0, 0, 0.15);\n",
              "      filter: drop-shadow(0px 1px 2px rgba(0, 0, 0, 0.3));\n",
              "      fill: #FFFFFF;\n",
              "    }\n",
              "  </style>\n",
              "\n",
              "    <script>\n",
              "      const buttonEl =\n",
              "        document.querySelector('#df-1c9b0430-604a-4ef5-9b98-444b638b1d3b button.colab-df-convert');\n",
              "      buttonEl.style.display =\n",
              "        google.colab.kernel.accessAllowed ? 'block' : 'none';\n",
              "\n",
              "      async function convertToInteractive(key) {\n",
              "        const element = document.querySelector('#df-1c9b0430-604a-4ef5-9b98-444b638b1d3b');\n",
              "        const dataTable =\n",
              "          await google.colab.kernel.invokeFunction('convertToInteractive',\n",
              "                                                    [key], {});\n",
              "        if (!dataTable) return;\n",
              "\n",
              "        const docLinkHtml = 'Like what you see? Visit the ' +\n",
              "          '<a target=\"_blank\" href=https://colab.research.google.com/notebooks/data_table.ipynb>data table notebook</a>'\n",
              "          + ' to learn more about interactive tables.';\n",
              "        element.innerHTML = '';\n",
              "        dataTable['output_type'] = 'display_data';\n",
              "        await google.colab.output.renderOutput(dataTable, element);\n",
              "        const docLink = document.createElement('div');\n",
              "        docLink.innerHTML = docLinkHtml;\n",
              "        element.appendChild(docLink);\n",
              "      }\n",
              "    </script>\n",
              "  </div>\n",
              "\n",
              "\n",
              "<div id=\"df-5204d872-193e-4f66-9dcb-3193567690cb\">\n",
              "  <button class=\"colab-df-quickchart\" onclick=\"quickchart('df-5204d872-193e-4f66-9dcb-3193567690cb')\"\n",
              "            title=\"Suggest charts\"\n",
              "            style=\"display:none;\">\n",
              "\n",
              "<svg xmlns=\"http://www.w3.org/2000/svg\" height=\"24px\"viewBox=\"0 0 24 24\"\n",
              "     width=\"24px\">\n",
              "    <g>\n",
              "        <path d=\"M19 3H5c-1.1 0-2 .9-2 2v14c0 1.1.9 2 2 2h14c1.1 0 2-.9 2-2V5c0-1.1-.9-2-2-2zM9 17H7v-7h2v7zm4 0h-2V7h2v10zm4 0h-2v-4h2v4z\"/>\n",
              "    </g>\n",
              "</svg>\n",
              "  </button>\n",
              "\n",
              "<style>\n",
              "  .colab-df-quickchart {\n",
              "      --bg-color: #E8F0FE;\n",
              "      --fill-color: #1967D2;\n",
              "      --hover-bg-color: #E2EBFA;\n",
              "      --hover-fill-color: #174EA6;\n",
              "      --disabled-fill-color: #AAA;\n",
              "      --disabled-bg-color: #DDD;\n",
              "  }\n",
              "\n",
              "  [theme=dark] .colab-df-quickchart {\n",
              "      --bg-color: #3B4455;\n",
              "      --fill-color: #D2E3FC;\n",
              "      --hover-bg-color: #434B5C;\n",
              "      --hover-fill-color: #FFFFFF;\n",
              "      --disabled-bg-color: #3B4455;\n",
              "      --disabled-fill-color: #666;\n",
              "  }\n",
              "\n",
              "  .colab-df-quickchart {\n",
              "    background-color: var(--bg-color);\n",
              "    border: none;\n",
              "    border-radius: 50%;\n",
              "    cursor: pointer;\n",
              "    display: none;\n",
              "    fill: var(--fill-color);\n",
              "    height: 32px;\n",
              "    padding: 0;\n",
              "    width: 32px;\n",
              "  }\n",
              "\n",
              "  .colab-df-quickchart:hover {\n",
              "    background-color: var(--hover-bg-color);\n",
              "    box-shadow: 0 1px 2px rgba(60, 64, 67, 0.3), 0 1px 3px 1px rgba(60, 64, 67, 0.15);\n",
              "    fill: var(--button-hover-fill-color);\n",
              "  }\n",
              "\n",
              "  .colab-df-quickchart-complete:disabled,\n",
              "  .colab-df-quickchart-complete:disabled:hover {\n",
              "    background-color: var(--disabled-bg-color);\n",
              "    fill: var(--disabled-fill-color);\n",
              "    box-shadow: none;\n",
              "  }\n",
              "\n",
              "  .colab-df-spinner {\n",
              "    border: 2px solid var(--fill-color);\n",
              "    border-color: transparent;\n",
              "    border-bottom-color: var(--fill-color);\n",
              "    animation:\n",
              "      spin 1s steps(1) infinite;\n",
              "  }\n",
              "\n",
              "  @keyframes spin {\n",
              "    0% {\n",
              "      border-color: transparent;\n",
              "      border-bottom-color: var(--fill-color);\n",
              "      border-left-color: var(--fill-color);\n",
              "    }\n",
              "    20% {\n",
              "      border-color: transparent;\n",
              "      border-left-color: var(--fill-color);\n",
              "      border-top-color: var(--fill-color);\n",
              "    }\n",
              "    30% {\n",
              "      border-color: transparent;\n",
              "      border-left-color: var(--fill-color);\n",
              "      border-top-color: var(--fill-color);\n",
              "      border-right-color: var(--fill-color);\n",
              "    }\n",
              "    40% {\n",
              "      border-color: transparent;\n",
              "      border-right-color: var(--fill-color);\n",
              "      border-top-color: var(--fill-color);\n",
              "    }\n",
              "    60% {\n",
              "      border-color: transparent;\n",
              "      border-right-color: var(--fill-color);\n",
              "    }\n",
              "    80% {\n",
              "      border-color: transparent;\n",
              "      border-right-color: var(--fill-color);\n",
              "      border-bottom-color: var(--fill-color);\n",
              "    }\n",
              "    90% {\n",
              "      border-color: transparent;\n",
              "      border-bottom-color: var(--fill-color);\n",
              "    }\n",
              "  }\n",
              "</style>\n",
              "\n",
              "  <script>\n",
              "    async function quickchart(key) {\n",
              "      const quickchartButtonEl =\n",
              "        document.querySelector('#' + key + ' button');\n",
              "      quickchartButtonEl.disabled = true;  // To prevent multiple clicks.\n",
              "      quickchartButtonEl.classList.add('colab-df-spinner');\n",
              "      try {\n",
              "        const charts = await google.colab.kernel.invokeFunction(\n",
              "            'suggestCharts', [key], {});\n",
              "      } catch (error) {\n",
              "        console.error('Error during call to suggestCharts:', error);\n",
              "      }\n",
              "      quickchartButtonEl.classList.remove('colab-df-spinner');\n",
              "      quickchartButtonEl.classList.add('colab-df-quickchart-complete');\n",
              "    }\n",
              "    (() => {\n",
              "      let quickchartButtonEl =\n",
              "        document.querySelector('#df-5204d872-193e-4f66-9dcb-3193567690cb button');\n",
              "      quickchartButtonEl.style.display =\n",
              "        google.colab.kernel.accessAllowed ? 'block' : 'none';\n",
              "    })();\n",
              "  </script>\n",
              "</div>\n",
              "    </div>\n",
              "  </div>\n"
            ]
          },
          "metadata": {},
          "execution_count": 38
        }
      ]
    },
    {
      "cell_type": "markdown",
      "source": [
        "**What type of natural language data are we working with (sentences, words)?**\n",
        "\n",
        "We are workings with sentences (set of words)\n",
        "\n",
        "** What are the sources and languages of the data?**\n",
        "The data are sentences in english,\n"
      ],
      "metadata": {
        "id": "iNQr_wBffEHE"
      }
    },
    {
      "cell_type": "markdown",
      "metadata": {
        "id": "kceX1pDFcSR5"
      },
      "source": [
        "<span style=\"color:green\">To code:</span> Using the functions ```word_tokenize``` and ```pos_tag``` of ```nltk```, tokenize an example sentence and apply POS tagging to it."
      ]
    },
    {
      "cell_type": "code",
      "execution_count": 50,
      "metadata": {
        "colab": {
          "base_uri": "https://localhost:8080/"
        },
        "id": "Yafun169cSR6",
        "outputId": "7620fede-6bfa-4ae9-9f01-0be61d5ce5da"
      },
      "outputs": [
        {
          "output_type": "stream",
          "name": "stdout",
          "text": [
            "[('.', '.'), ('@', 'CC'), ('NorwayMFA', 'NNP'), ('#', '#'), ('Bahrain', 'NNP'), ('police', 'NNS'), ('had', 'VBD'), ('previously', 'RB'), ('died', 'VBN'), ('in', 'IN'), ('a', 'DT'), ('road', 'NN'), ('accident', 'NN'), ('they', 'PRP'), ('were', 'VBD'), ('not', 'RB'), ('killed', 'VBN'), ('by', 'IN'), ('explosion', 'NN'), ('https', 'NN'), (':', ':'), ('//t.co/gFJfgTodad', 'NN')]\n"
          ]
        }
      ],
      "source": [
        "from nltk import word_tokenize, pos_tag\n",
        "# Tokenize a sentence and apply POS tagging:\n",
        "sentence = nlp_start_df.iloc[100][\"text\"]\n",
        "tokens = word_tokenize(sentence)\n",
        "# Apply POS tagging\n",
        "pos_tags = pos_tag(tokens)\n",
        "print(pos_tags)"
      ]
    },
    {
      "cell_type": "markdown",
      "metadata": {
        "id": "zxU9WHObcSR7"
      },
      "source": [
        "<span style=\"color:red\">Question:</span> What is the set of POS-tags used by the ```pos_tag``` function?"
      ]
    },
    {
      "cell_type": "code",
      "source": [
        "print(\"The set of POS-tags used by the pos_tag function on our sentence is :\")\n",
        "print(set([ptag[1] for ptag in pos_tags]))"
      ],
      "metadata": {
        "colab": {
          "base_uri": "https://localhost:8080/"
        },
        "id": "uCv15ZPBftoy",
        "outputId": "78248cb0-5d97-4286-a195-b37cf372c0cf"
      },
      "execution_count": 51,
      "outputs": [
        {
          "output_type": "stream",
          "name": "stdout",
          "text": [
            "The set of POS-tags used by the pos_tag function on our sentence is :\n",
            "{'.', 'CC', 'IN', 'PRP', 'NNS', 'NN', ':', 'VBN', 'RB', '#', 'NNP', 'DT', 'VBD'}\n"
          ]
        }
      ]
    },
    {
      "cell_type": "markdown",
      "metadata": {
        "id": "nyquMXy3cSR7"
      },
      "source": [
        "As we discussed during the lecture, there can be different sets of POS-tags. The following shows you the documentation for the ```UPENN``` tagset."
      ]
    },
    {
      "cell_type": "code",
      "execution_count": 52,
      "metadata": {
        "colab": {
          "base_uri": "https://localhost:8080/"
        },
        "id": "xO9rkk7OcSR9",
        "outputId": "06e193b6-83b8-4b03-d0cb-b6a464f54a20"
      },
      "outputs": [
        {
          "output_type": "stream",
          "name": "stdout",
          "text": [
            "NN: noun, common, singular or mass\n",
            "    common-carrier cabbage knuckle-duster Casino afghan shed thermostat\n",
            "    investment slide humour falloff slick wind hyena override subhumanity\n",
            "    machinist ...\n",
            "IN: preposition or conjunction, subordinating\n",
            "    astride among uppon whether out inside pro despite on by throughout\n",
            "    below within for towards near behind atop around if like until below\n",
            "    next into if beside ...\n",
            "DT: determiner\n",
            "    all an another any both del each either every half la many much nary\n",
            "    neither no some such that the them these this those\n"
          ]
        },
        {
          "output_type": "stream",
          "name": "stderr",
          "text": [
            "[nltk_data] Downloading package tagsets to /root/nltk_data...\n",
            "[nltk_data]   Package tagsets is already up-to-date!\n"
          ]
        }
      ],
      "source": [
        "nltk.download('tagsets')\n",
        "\n",
        "nltk.help.upenn_tagset('NN')\n",
        "nltk.help.upenn_tagset('IN')\n",
        "nltk.help.upenn_tagset('DT')"
      ]
    },
    {
      "cell_type": "markdown",
      "metadata": {
        "id": "YwbP5BbJcSSB"
      },
      "source": [
        "<span style=\"color:green\">To code:</span>  Produce a different POS tagging of the same sentence using a different set of POS-tags of your choice."
      ]
    },
    {
      "cell_type": "code",
      "execution_count": 53,
      "metadata": {
        "colab": {
          "base_uri": "https://localhost:8080/"
        },
        "id": "YBUnM5XVcSSC",
        "outputId": "a1f59688-74a8-42df-c8a1-0acdd7d11d11"
      },
      "outputs": [
        {
          "output_type": "stream",
          "name": "stdout",
          "text": [
            "[('.', '.'), ('@', 'CONJ'), ('NorwayMFA', 'NOUN'), ('#', '.'), ('Bahrain', 'NOUN'), ('police', 'NOUN'), ('had', 'VERB'), ('previously', 'ADV'), ('died', 'VERB'), ('in', 'ADP'), ('a', 'DET'), ('road', 'NOUN'), ('accident', 'NOUN'), ('they', 'PRON'), ('were', 'VERB'), ('not', 'ADV'), ('killed', 'VERB'), ('by', 'ADP'), ('explosion', 'NOUN'), ('https', 'NOUN'), (':', '.'), ('//t.co/gFJfgTodad', 'NOUN')]\n"
          ]
        },
        {
          "output_type": "stream",
          "name": "stderr",
          "text": [
            "[nltk_data] Downloading package universal_tagset to /root/nltk_data...\n",
            "[nltk_data]   Package universal_tagset is already up-to-date!\n"
          ]
        }
      ],
      "source": [
        "# Tokenize the sentence and apply a different set of POS-tags of your choice:\n",
        "nltk.download('universal_tagset')\n",
        "\n",
        "pos_tags_bis = pos_tag(tokens,tagset=\"universal\")\n",
        "print(pos_tags_bis)\n"
      ]
    },
    {
      "cell_type": "markdown",
      "metadata": {
        "id": "tJVQBOACcSSD"
      },
      "source": [
        "### Chunking\n",
        "_Chunking_  is a process of grouping small pieces of information into large units. The primary use of chunking in the context of POS-tagging is in building sub-syntactic trees, using POS-tags-based grammars, implemented using _regular expressions_. The resulting subsentences are called _chunks_. For example, we can use chunking to subdivide a sentence in groups of _noun phrases_ (NPs). There are no pre-defined rules or grammars for chunking, these need to be implemented using regular expressions depending on our need. For example, if we want to chunk **only** ```NN``` tags, we need to use the pattern ````mychunk:{<NN>}````. Conversly, if we want to chunk **all types of tags** which start with 'NN', we'll use `mychunk:{<NN.*>}`."
      ]
    },
    {
      "cell_type": "markdown",
      "metadata": {
        "id": "fifSNpvRcSSF"
      },
      "source": [
        "<span style=\"color:green\">To code:</span>  Apply the chunking method to a sentence from the ```nlp-getting-started``` dataset."
      ]
    },
    {
      "cell_type": "code",
      "source": [
        "!pip install svgling"
      ],
      "metadata": {
        "colab": {
          "base_uri": "https://localhost:8080/"
        },
        "id": "AP73kzxqh0nI",
        "outputId": "d1a0c569-b356-430e-e5f2-602add6abc40"
      },
      "execution_count": 46,
      "outputs": [
        {
          "output_type": "stream",
          "name": "stdout",
          "text": [
            "Collecting svgling\n",
            "  Downloading svgling-0.4.0-py3-none-any.whl (23 kB)\n",
            "Collecting svgwrite (from svgling)\n",
            "  Downloading svgwrite-1.4.3-py3-none-any.whl (67 kB)\n",
            "\u001b[2K     \u001b[90m━━━━━━━━━━━━━━━━━━━━━━━━━━━━━━━━━━━━━━━━\u001b[0m \u001b[32m67.1/67.1 kB\u001b[0m \u001b[31m2.0 MB/s\u001b[0m eta \u001b[36m0:00:00\u001b[0m\n",
            "\u001b[?25hInstalling collected packages: svgwrite, svgling\n",
            "Successfully installed svgling-0.4.0 svgwrite-1.4.3\n"
          ]
        }
      ]
    },
    {
      "cell_type": "code",
      "execution_count": 63,
      "metadata": {
        "colab": {
          "base_uri": "https://localhost:8080/",
          "height": 651
        },
        "id": "Azkvjiz5cSSH",
        "outputId": "b4eafecd-20a1-4a17-d80b-423dd989a64c"
      },
      "outputs": [
        {
          "output_type": "stream",
          "name": "stdout",
          "text": [
            "After Chunking:\n",
            " (S\n",
            "  All/DT\n",
            "  residents/NNS\n",
            "  asked/VBD\n",
            "  to/TO\n",
            "  'shelter/VB\n",
            "  in/IN\n",
            "  (mychunk place/NN)\n",
            "  '/''\n",
            "  are/VBP\n",
            "  being/VBG\n",
            "  notified/VBN\n",
            "  by/IN\n",
            "  officers/NNS\n",
            "  ./.\n",
            "  No/DT\n",
            "  other/JJ\n",
            "  (mychunk evacuation/NN)\n",
            "  or/CC\n",
            "  (mychunk shelter/NN)\n",
            "  in/IN\n",
            "  (mychunk place/NN)\n",
            "  orders/NNS\n",
            "  are/VBP\n",
            "  expected/VBN)\n"
          ]
        },
        {
          "output_type": "execute_result",
          "data": {
            "text/plain": [
              "TreeLayout(Tree('S', [('All', 'DT'), ('residents', 'NNS'), ('asked', 'VBD'), ('to', 'TO'), (\"'shelter\", 'VB'), ('in', 'IN'), Tree('mychunk', [('place', 'NN')]), (\"'\", \"''\"), ('are', 'VBP'), ('being', 'VBG'), ('notified', 'VBN'), ('by', 'IN'), ('officers', 'NNS'), ('.', '.'), ('No', 'DT'), ('other', 'JJ'), Tree('mychunk', [('evacuation', 'NN')]), ('or', 'CC'), Tree('mychunk', [('shelter', 'NN')]), ('in', 'IN'), Tree('mychunk', [('place', 'NN')]), ('orders', 'NNS'), ('are', 'VBP'), ('expected', 'VBN')]))"
            ],
            "image/svg+xml": "<svg baseProfile=\"full\" height=\"168px\" preserveAspectRatio=\"xMidYMid meet\" style=\"font-family: times, serif; font-weight: normal; font-style: normal; font-size: 16px;\" version=\"1.1\" viewBox=\"0,0,1320.0,168.0\" width=\"1320px\" xmlns=\"http://www.w3.org/2000/svg\" xmlns:ev=\"http://www.w3.org/2001/xml-events\" xmlns:xlink=\"http://www.w3.org/1999/xlink\"><defs /><svg width=\"100%\" x=\"0\" y=\"0px\"><defs /><text text-anchor=\"middle\" x=\"50%\" y=\"16px\">S</text></svg><svg width=\"3.0303%\" x=\"0%\" y=\"48px\"><defs /><svg width=\"100%\" x=\"0\" y=\"0px\"><defs /><text text-anchor=\"middle\" x=\"50%\" y=\"16px\">All</text></svg><svg width=\"100%\" x=\"0%\" y=\"48px\"><defs /><svg width=\"100%\" x=\"0\" y=\"0px\"><defs /><text text-anchor=\"middle\" x=\"50%\" y=\"16px\">DT</text></svg></svg><line stroke=\"black\" x1=\"50%\" x2=\"50%\" y1=\"19.2px\" y2=\"48px\" /></svg><line stroke=\"black\" x1=\"50%\" x2=\"1.51515%\" y1=\"19.2px\" y2=\"48px\" /><svg width=\"6.66667%\" x=\"3.0303%\" y=\"48px\"><defs /><svg width=\"100%\" x=\"0\" y=\"0px\"><defs /><text text-anchor=\"middle\" x=\"50%\" y=\"16px\">residents</text></svg><svg width=\"100%\" x=\"0%\" y=\"48px\"><defs /><svg width=\"100%\" x=\"0\" y=\"0px\"><defs /><text text-anchor=\"middle\" x=\"50%\" y=\"16px\">NNS</text></svg></svg><line stroke=\"black\" x1=\"50%\" x2=\"50%\" y1=\"19.2px\" y2=\"48px\" /></svg><line stroke=\"black\" x1=\"50%\" x2=\"6.36364%\" y1=\"19.2px\" y2=\"48px\" /><svg width=\"4.24242%\" x=\"9.69697%\" y=\"48px\"><defs /><svg width=\"100%\" x=\"0\" y=\"0px\"><defs /><text text-anchor=\"middle\" x=\"50%\" y=\"16px\">asked</text></svg><svg width=\"100%\" x=\"0%\" y=\"48px\"><defs /><svg width=\"100%\" x=\"0\" y=\"0px\"><defs /><text text-anchor=\"middle\" x=\"50%\" y=\"16px\">VBD</text></svg></svg><line stroke=\"black\" x1=\"50%\" x2=\"50%\" y1=\"19.2px\" y2=\"48px\" /></svg><line stroke=\"black\" x1=\"50%\" x2=\"11.8182%\" y1=\"19.2px\" y2=\"48px\" /><svg width=\"2.42424%\" x=\"13.9394%\" y=\"48px\"><defs /><svg width=\"100%\" x=\"0\" y=\"0px\"><defs /><text text-anchor=\"middle\" x=\"50%\" y=\"16px\">to</text></svg><svg width=\"100%\" x=\"0%\" y=\"48px\"><defs /><svg width=\"100%\" x=\"0\" y=\"0px\"><defs /><text text-anchor=\"middle\" x=\"50%\" y=\"16px\">TO</text></svg></svg><line stroke=\"black\" x1=\"50%\" x2=\"50%\" y1=\"19.2px\" y2=\"48px\" /></svg><line stroke=\"black\" x1=\"50%\" x2=\"15.1515%\" y1=\"19.2px\" y2=\"48px\" /><svg width=\"6.06061%\" x=\"16.3636%\" y=\"48px\"><defs /><svg width=\"100%\" x=\"0\" y=\"0px\"><defs /><text text-anchor=\"middle\" x=\"50%\" y=\"16px\">'shelter</text></svg><svg width=\"100%\" x=\"0%\" y=\"48px\"><defs /><svg width=\"100%\" x=\"0\" y=\"0px\"><defs /><text text-anchor=\"middle\" x=\"50%\" y=\"16px\">VB</text></svg></svg><line stroke=\"black\" x1=\"50%\" x2=\"50%\" y1=\"19.2px\" y2=\"48px\" /></svg><line stroke=\"black\" x1=\"50%\" x2=\"19.3939%\" y1=\"19.2px\" y2=\"48px\" /><svg width=\"2.42424%\" x=\"22.4242%\" y=\"48px\"><defs /><svg width=\"100%\" x=\"0\" y=\"0px\"><defs /><text text-anchor=\"middle\" x=\"50%\" y=\"16px\">in</text></svg><svg width=\"100%\" x=\"0%\" y=\"48px\"><defs /><svg width=\"100%\" x=\"0\" y=\"0px\"><defs /><text text-anchor=\"middle\" x=\"50%\" y=\"16px\">IN</text></svg></svg><line stroke=\"black\" x1=\"50%\" x2=\"50%\" y1=\"19.2px\" y2=\"48px\" /></svg><line stroke=\"black\" x1=\"50%\" x2=\"23.6364%\" y1=\"19.2px\" y2=\"48px\" /><svg width=\"5.45455%\" x=\"24.8485%\" y=\"48px\"><defs /><svg width=\"100%\" x=\"0\" y=\"0px\"><defs /><text text-anchor=\"middle\" x=\"50%\" y=\"16px\">mychunk</text></svg><svg width=\"100%\" x=\"0%\" y=\"48px\"><defs /><svg width=\"100%\" x=\"0\" y=\"0px\"><defs /><text text-anchor=\"middle\" x=\"50%\" y=\"16px\">place</text></svg><svg width=\"100%\" x=\"0%\" y=\"48px\"><defs /><svg width=\"100%\" x=\"0\" y=\"0px\"><defs /><text text-anchor=\"middle\" x=\"50%\" y=\"16px\">NN</text></svg></svg><line stroke=\"black\" x1=\"50%\" x2=\"50%\" y1=\"19.2px\" y2=\"48px\" /></svg><line stroke=\"black\" x1=\"50%\" x2=\"50%\" y1=\"19.2px\" y2=\"48px\" /></svg><line stroke=\"black\" x1=\"50%\" x2=\"27.5758%\" y1=\"19.2px\" y2=\"48px\" /><svg width=\"2.42424%\" x=\"30.303%\" y=\"48px\"><defs /><svg width=\"100%\" x=\"0\" y=\"0px\"><defs /><text text-anchor=\"middle\" x=\"50%\" y=\"16px\">'</text></svg><svg width=\"100%\" x=\"0%\" y=\"48px\"><defs /><svg width=\"100%\" x=\"0\" y=\"0px\"><defs /><text text-anchor=\"middle\" x=\"50%\" y=\"16px\">''</text></svg></svg><line stroke=\"black\" x1=\"50%\" x2=\"50%\" y1=\"19.2px\" y2=\"48px\" /></svg><line stroke=\"black\" x1=\"50%\" x2=\"31.5152%\" y1=\"19.2px\" y2=\"48px\" /><svg width=\"3.0303%\" x=\"32.7273%\" y=\"48px\"><defs /><svg width=\"100%\" x=\"0\" y=\"0px\"><defs /><text text-anchor=\"middle\" x=\"50%\" y=\"16px\">are</text></svg><svg width=\"100%\" x=\"0%\" y=\"48px\"><defs /><svg width=\"100%\" x=\"0\" y=\"0px\"><defs /><text text-anchor=\"middle\" x=\"50%\" y=\"16px\">VBP</text></svg></svg><line stroke=\"black\" x1=\"50%\" x2=\"50%\" y1=\"19.2px\" y2=\"48px\" /></svg><line stroke=\"black\" x1=\"50%\" x2=\"34.2424%\" y1=\"19.2px\" y2=\"48px\" /><svg width=\"4.24242%\" x=\"35.7576%\" y=\"48px\"><defs /><svg width=\"100%\" x=\"0\" y=\"0px\"><defs /><text text-anchor=\"middle\" x=\"50%\" y=\"16px\">being</text></svg><svg width=\"100%\" x=\"0%\" y=\"48px\"><defs /><svg width=\"100%\" x=\"0\" y=\"0px\"><defs /><text text-anchor=\"middle\" x=\"50%\" y=\"16px\">VBG</text></svg></svg><line stroke=\"black\" x1=\"50%\" x2=\"50%\" y1=\"19.2px\" y2=\"48px\" /></svg><line stroke=\"black\" x1=\"50%\" x2=\"37.8788%\" y1=\"19.2px\" y2=\"48px\" /><svg width=\"6.06061%\" x=\"40%\" y=\"48px\"><defs /><svg width=\"100%\" x=\"0\" y=\"0px\"><defs /><text text-anchor=\"middle\" x=\"50%\" y=\"16px\">notified</text></svg><svg width=\"100%\" x=\"0%\" y=\"48px\"><defs /><svg width=\"100%\" x=\"0\" y=\"0px\"><defs /><text text-anchor=\"middle\" x=\"50%\" y=\"16px\">VBN</text></svg></svg><line stroke=\"black\" x1=\"50%\" x2=\"50%\" y1=\"19.2px\" y2=\"48px\" /></svg><line stroke=\"black\" x1=\"50%\" x2=\"43.0303%\" y1=\"19.2px\" y2=\"48px\" /><svg width=\"2.42424%\" x=\"46.0606%\" y=\"48px\"><defs /><svg width=\"100%\" x=\"0\" y=\"0px\"><defs /><text text-anchor=\"middle\" x=\"50%\" y=\"16px\">by</text></svg><svg width=\"100%\" x=\"0%\" y=\"48px\"><defs /><svg width=\"100%\" x=\"0\" y=\"0px\"><defs /><text text-anchor=\"middle\" x=\"50%\" y=\"16px\">IN</text></svg></svg><line stroke=\"black\" x1=\"50%\" x2=\"50%\" y1=\"19.2px\" y2=\"48px\" /></svg><line stroke=\"black\" x1=\"50%\" x2=\"47.2727%\" y1=\"19.2px\" y2=\"48px\" /><svg width=\"6.06061%\" x=\"48.4848%\" y=\"48px\"><defs /><svg width=\"100%\" x=\"0\" y=\"0px\"><defs /><text text-anchor=\"middle\" x=\"50%\" y=\"16px\">officers</text></svg><svg width=\"100%\" x=\"0%\" y=\"48px\"><defs /><svg width=\"100%\" x=\"0\" y=\"0px\"><defs /><text text-anchor=\"middle\" x=\"50%\" y=\"16px\">NNS</text></svg></svg><line stroke=\"black\" x1=\"50%\" x2=\"50%\" y1=\"19.2px\" y2=\"48px\" /></svg><line stroke=\"black\" x1=\"50%\" x2=\"51.5152%\" y1=\"19.2px\" y2=\"48px\" /><svg width=\"1.81818%\" x=\"54.5455%\" y=\"48px\"><defs /><svg width=\"100%\" x=\"0\" y=\"0px\"><defs /><text text-anchor=\"middle\" x=\"50%\" y=\"16px\">.</text></svg><svg width=\"100%\" x=\"0%\" y=\"48px\"><defs /><svg width=\"100%\" x=\"0\" y=\"0px\"><defs /><text text-anchor=\"middle\" x=\"50%\" y=\"16px\">.</text></svg></svg><line stroke=\"black\" x1=\"50%\" x2=\"50%\" y1=\"19.2px\" y2=\"48px\" /></svg><line stroke=\"black\" x1=\"50%\" x2=\"55.4545%\" y1=\"19.2px\" y2=\"48px\" /><svg width=\"2.42424%\" x=\"56.3636%\" y=\"48px\"><defs /><svg width=\"100%\" x=\"0\" y=\"0px\"><defs /><text text-anchor=\"middle\" x=\"50%\" y=\"16px\">No</text></svg><svg width=\"100%\" x=\"0%\" y=\"48px\"><defs /><svg width=\"100%\" x=\"0\" y=\"0px\"><defs /><text text-anchor=\"middle\" x=\"50%\" y=\"16px\">DT</text></svg></svg><line stroke=\"black\" x1=\"50%\" x2=\"50%\" y1=\"19.2px\" y2=\"48px\" /></svg><line stroke=\"black\" x1=\"50%\" x2=\"57.5758%\" y1=\"19.2px\" y2=\"48px\" /><svg width=\"4.24242%\" x=\"58.7879%\" y=\"48px\"><defs /><svg width=\"100%\" x=\"0\" y=\"0px\"><defs /><text text-anchor=\"middle\" x=\"50%\" y=\"16px\">other</text></svg><svg width=\"100%\" x=\"0%\" y=\"48px\"><defs /><svg width=\"100%\" x=\"0\" y=\"0px\"><defs /><text text-anchor=\"middle\" x=\"50%\" y=\"16px\">JJ</text></svg></svg><line stroke=\"black\" x1=\"50%\" x2=\"50%\" y1=\"19.2px\" y2=\"48px\" /></svg><line stroke=\"black\" x1=\"50%\" x2=\"60.9091%\" y1=\"19.2px\" y2=\"48px\" /><svg width=\"7.27273%\" x=\"63.0303%\" y=\"48px\"><defs /><svg width=\"100%\" x=\"0\" y=\"0px\"><defs /><text text-anchor=\"middle\" x=\"50%\" y=\"16px\">mychunk</text></svg><svg width=\"100%\" x=\"0%\" y=\"48px\"><defs /><svg width=\"100%\" x=\"0\" y=\"0px\"><defs /><text text-anchor=\"middle\" x=\"50%\" y=\"16px\">evacuation</text></svg><svg width=\"100%\" x=\"0%\" y=\"48px\"><defs /><svg width=\"100%\" x=\"0\" y=\"0px\"><defs /><text text-anchor=\"middle\" x=\"50%\" y=\"16px\">NN</text></svg></svg><line stroke=\"black\" x1=\"50%\" x2=\"50%\" y1=\"19.2px\" y2=\"48px\" /></svg><line stroke=\"black\" x1=\"50%\" x2=\"50%\" y1=\"19.2px\" y2=\"48px\" /></svg><line stroke=\"black\" x1=\"50%\" x2=\"66.6667%\" y1=\"19.2px\" y2=\"48px\" /><svg width=\"2.42424%\" x=\"70.303%\" y=\"48px\"><defs /><svg width=\"100%\" x=\"0\" y=\"0px\"><defs /><text text-anchor=\"middle\" x=\"50%\" y=\"16px\">or</text></svg><svg width=\"100%\" x=\"0%\" y=\"48px\"><defs /><svg width=\"100%\" x=\"0\" y=\"0px\"><defs /><text text-anchor=\"middle\" x=\"50%\" y=\"16px\">CC</text></svg></svg><line stroke=\"black\" x1=\"50%\" x2=\"50%\" y1=\"19.2px\" y2=\"48px\" /></svg><line stroke=\"black\" x1=\"50%\" x2=\"71.5152%\" y1=\"19.2px\" y2=\"48px\" /><svg width=\"5.45455%\" x=\"72.7273%\" y=\"48px\"><defs /><svg width=\"100%\" x=\"0\" y=\"0px\"><defs /><text text-anchor=\"middle\" x=\"50%\" y=\"16px\">mychunk</text></svg><svg width=\"100%\" x=\"0%\" y=\"48px\"><defs /><svg width=\"100%\" x=\"0\" y=\"0px\"><defs /><text text-anchor=\"middle\" x=\"50%\" y=\"16px\">shelter</text></svg><svg width=\"100%\" x=\"0%\" y=\"48px\"><defs /><svg width=\"100%\" x=\"0\" y=\"0px\"><defs /><text text-anchor=\"middle\" x=\"50%\" y=\"16px\">NN</text></svg></svg><line stroke=\"black\" x1=\"50%\" x2=\"50%\" y1=\"19.2px\" y2=\"48px\" /></svg><line stroke=\"black\" x1=\"50%\" x2=\"50%\" y1=\"19.2px\" y2=\"48px\" /></svg><line stroke=\"black\" x1=\"50%\" x2=\"75.4545%\" y1=\"19.2px\" y2=\"48px\" /><svg width=\"2.42424%\" x=\"78.1818%\" y=\"48px\"><defs /><svg width=\"100%\" x=\"0\" y=\"0px\"><defs /><text text-anchor=\"middle\" x=\"50%\" y=\"16px\">in</text></svg><svg width=\"100%\" x=\"0%\" y=\"48px\"><defs /><svg width=\"100%\" x=\"0\" y=\"0px\"><defs /><text text-anchor=\"middle\" x=\"50%\" y=\"16px\">IN</text></svg></svg><line stroke=\"black\" x1=\"50%\" x2=\"50%\" y1=\"19.2px\" y2=\"48px\" /></svg><line stroke=\"black\" x1=\"50%\" x2=\"79.3939%\" y1=\"19.2px\" y2=\"48px\" /><svg width=\"5.45455%\" x=\"80.6061%\" y=\"48px\"><defs /><svg width=\"100%\" x=\"0\" y=\"0px\"><defs /><text text-anchor=\"middle\" x=\"50%\" y=\"16px\">mychunk</text></svg><svg width=\"100%\" x=\"0%\" y=\"48px\"><defs /><svg width=\"100%\" x=\"0\" y=\"0px\"><defs /><text text-anchor=\"middle\" x=\"50%\" y=\"16px\">place</text></svg><svg width=\"100%\" x=\"0%\" y=\"48px\"><defs /><svg width=\"100%\" x=\"0\" y=\"0px\"><defs /><text text-anchor=\"middle\" x=\"50%\" y=\"16px\">NN</text></svg></svg><line stroke=\"black\" x1=\"50%\" x2=\"50%\" y1=\"19.2px\" y2=\"48px\" /></svg><line stroke=\"black\" x1=\"50%\" x2=\"50%\" y1=\"19.2px\" y2=\"48px\" /></svg><line stroke=\"black\" x1=\"50%\" x2=\"83.3333%\" y1=\"19.2px\" y2=\"48px\" /><svg width=\"4.84848%\" x=\"86.0606%\" y=\"48px\"><defs /><svg width=\"100%\" x=\"0\" y=\"0px\"><defs /><text text-anchor=\"middle\" x=\"50%\" y=\"16px\">orders</text></svg><svg width=\"100%\" x=\"0%\" y=\"48px\"><defs /><svg width=\"100%\" x=\"0\" y=\"0px\"><defs /><text text-anchor=\"middle\" x=\"50%\" y=\"16px\">NNS</text></svg></svg><line stroke=\"black\" x1=\"50%\" x2=\"50%\" y1=\"19.2px\" y2=\"48px\" /></svg><line stroke=\"black\" x1=\"50%\" x2=\"88.4848%\" y1=\"19.2px\" y2=\"48px\" /><svg width=\"3.0303%\" x=\"90.9091%\" y=\"48px\"><defs /><svg width=\"100%\" x=\"0\" y=\"0px\"><defs /><text text-anchor=\"middle\" x=\"50%\" y=\"16px\">are</text></svg><svg width=\"100%\" x=\"0%\" y=\"48px\"><defs /><svg width=\"100%\" x=\"0\" y=\"0px\"><defs /><text text-anchor=\"middle\" x=\"50%\" y=\"16px\">VBP</text></svg></svg><line stroke=\"black\" x1=\"50%\" x2=\"50%\" y1=\"19.2px\" y2=\"48px\" /></svg><line stroke=\"black\" x1=\"50%\" x2=\"92.4242%\" y1=\"19.2px\" y2=\"48px\" /><svg width=\"6.06061%\" x=\"93.9394%\" y=\"48px\"><defs /><svg width=\"100%\" x=\"0\" y=\"0px\"><defs /><text text-anchor=\"middle\" x=\"50%\" y=\"16px\">expected</text></svg><svg width=\"100%\" x=\"0%\" y=\"48px\"><defs /><svg width=\"100%\" x=\"0\" y=\"0px\"><defs /><text text-anchor=\"middle\" x=\"50%\" y=\"16px\">VBN</text></svg></svg><line stroke=\"black\" x1=\"50%\" x2=\"50%\" y1=\"19.2px\" y2=\"48px\" /></svg><line stroke=\"black\" x1=\"50%\" x2=\"96.9697%\" y1=\"19.2px\" y2=\"48px\" /></svg>"
          },
          "metadata": {},
          "execution_count": 63
        }
      ],
      "source": [
        "from nltk import RegexpParser\n",
        "from nltk.draw.tree import TreeView\n",
        "from IPython.display import Image\n",
        "import svgling\n",
        "\n",
        "# Chunk all nouns from 'sentence' sentence\n",
        "sentence = nlp_start_df.iloc[2][\"text\"]\n",
        "tokens = word_tokenize(sentence)\n",
        "sentence = pos_tag(tokens)\n",
        "patterns= \"\"\"mychunk:{<NN>+}\"\"\"\n",
        "chunker = RegexpParser(patterns)\n",
        "output = chunker.parse(sentence)\n",
        "print(\"After Chunking:\\n\",output)\n",
        "svgling.draw_tree(output)"
      ]
    },
    {
      "cell_type": "markdown",
      "metadata": {
        "id": "2ZJ-5I7KcSSJ"
      },
      "source": [
        "<span style=\"color:green\">To code:</span>  Produce a chunking of the same sentence retrieving all the adjacence nouns (noun-based tags)."
      ]
    },
    {
      "cell_type": "code",
      "execution_count": 87,
      "metadata": {
        "colab": {
          "base_uri": "https://localhost:8080/",
          "height": 634
        },
        "id": "WXEoJzKgcSSJ",
        "outputId": "35c5064b-54b0-4277-9eda-d6b9e50506c9"
      },
      "outputs": [
        {
          "output_type": "stream",
          "name": "stdout",
          "text": [
            "After Chunking:\n",
            " (S\n",
            "  Anyone/NNP\n",
            "  need/VBP\n",
            "  a/DT\n",
            "  (mychunk P/U/NNP tonight/NN)\n",
            "  ?/.\n",
            "  I/PRP\n",
            "  play/VBP\n",
            "  Hybrid/JJ\n",
            "  (mychunk Slayer/NNP ps4/NN EU/NNP)\n",
            "  ./.\n",
            "  (mychunk\n",
            "    HMU/NNP\n",
            "    @/NNP\n",
            "    Cod8sandscrims/NNP\n",
            "    @/NNP\n",
            "    EmpirikGaming/NNP\n",
            "    @/NNP\n",
            "    CoDAWScrims/NNP\n",
            "    @/NNP)\n",
            "  4TP_KOTC/CD\n",
            "  @/VBD\n",
            "  4TPFA/CD\n",
            "  (mychunk @/NNS afterShock_Org/NN))\n"
          ]
        },
        {
          "output_type": "execute_result",
          "data": {
            "text/plain": [
              "TreeLayout(Tree('S', [('Anyone', 'NNP'), ('need', 'VBP'), ('a', 'DT'), Tree('mychunk', [('P/U', 'NNP'), ('tonight', 'NN')]), ('?', '.'), ('I', 'PRP'), ('play', 'VBP'), ('Hybrid', 'JJ'), Tree('mychunk', [('Slayer', 'NNP'), ('ps4', 'NN'), ('EU', 'NNP')]), ('.', '.'), Tree('mychunk', [('HMU', 'NNP'), ('@', 'NNP'), ('Cod8sandscrims', 'NNP'), ('@', 'NNP'), ('EmpirikGaming', 'NNP'), ('@', 'NNP'), ('CoDAWScrims', 'NNP'), ('@', 'NNP')]), ('4TP_KOTC', 'CD'), ('@', 'VBD'), ('4TPFA', 'CD'), Tree('mychunk', [('@', 'NNS'), ('afterShock_Org', 'NN')])]))"
            ],
            "image/svg+xml": "<svg baseProfile=\"full\" height=\"168px\" preserveAspectRatio=\"xMidYMid meet\" style=\"font-family: times, serif; font-weight: normal; font-style: normal; font-size: 16px;\" version=\"1.1\" viewBox=\"0,0,1496.0,168.0\" width=\"1496px\" xmlns=\"http://www.w3.org/2000/svg\" xmlns:ev=\"http://www.w3.org/2001/xml-events\" xmlns:xlink=\"http://www.w3.org/1999/xlink\"><defs /><svg width=\"100%\" x=\"0\" y=\"0px\"><defs /><text text-anchor=\"middle\" x=\"50%\" y=\"16px\">S</text></svg><svg width=\"4.27807%\" x=\"0%\" y=\"48px\"><defs /><svg width=\"100%\" x=\"0\" y=\"0px\"><defs /><text text-anchor=\"middle\" x=\"50%\" y=\"16px\">Anyone</text></svg><svg width=\"100%\" x=\"0%\" y=\"48px\"><defs /><svg width=\"100%\" x=\"0\" y=\"0px\"><defs /><text text-anchor=\"middle\" x=\"50%\" y=\"16px\">NNP</text></svg></svg><line stroke=\"black\" x1=\"50%\" x2=\"50%\" y1=\"19.2px\" y2=\"48px\" /></svg><line stroke=\"black\" x1=\"50%\" x2=\"2.13904%\" y1=\"19.2px\" y2=\"48px\" /><svg width=\"3.20856%\" x=\"4.27807%\" y=\"48px\"><defs /><svg width=\"100%\" x=\"0\" y=\"0px\"><defs /><text text-anchor=\"middle\" x=\"50%\" y=\"16px\">need</text></svg><svg width=\"100%\" x=\"0%\" y=\"48px\"><defs /><svg width=\"100%\" x=\"0\" y=\"0px\"><defs /><text text-anchor=\"middle\" x=\"50%\" y=\"16px\">VBP</text></svg></svg><line stroke=\"black\" x1=\"50%\" x2=\"50%\" y1=\"19.2px\" y2=\"48px\" /></svg><line stroke=\"black\" x1=\"50%\" x2=\"5.88235%\" y1=\"19.2px\" y2=\"48px\" /><svg width=\"2.13904%\" x=\"7.48663%\" y=\"48px\"><defs /><svg width=\"100%\" x=\"0\" y=\"0px\"><defs /><text text-anchor=\"middle\" x=\"50%\" y=\"16px\">a</text></svg><svg width=\"100%\" x=\"0%\" y=\"48px\"><defs /><svg width=\"100%\" x=\"0\" y=\"0px\"><defs /><text text-anchor=\"middle\" x=\"50%\" y=\"16px\">DT</text></svg></svg><line stroke=\"black\" x1=\"50%\" x2=\"50%\" y1=\"19.2px\" y2=\"48px\" /></svg><line stroke=\"black\" x1=\"50%\" x2=\"8.55615%\" y1=\"19.2px\" y2=\"48px\" /><svg width=\"7.48663%\" x=\"9.62567%\" y=\"48px\"><defs /><svg width=\"100%\" x=\"0\" y=\"0px\"><defs /><text text-anchor=\"middle\" x=\"50%\" y=\"16px\">mychunk</text></svg><svg width=\"35.7143%\" x=\"0%\" y=\"48px\"><defs /><svg width=\"100%\" x=\"0\" y=\"0px\"><defs /><text text-anchor=\"middle\" x=\"50%\" y=\"16px\">P/U</text></svg><svg width=\"100%\" x=\"0%\" y=\"48px\"><defs /><svg width=\"100%\" x=\"0\" y=\"0px\"><defs /><text text-anchor=\"middle\" x=\"50%\" y=\"16px\">NNP</text></svg></svg><line stroke=\"black\" x1=\"50%\" x2=\"50%\" y1=\"19.2px\" y2=\"48px\" /></svg><line stroke=\"black\" x1=\"50%\" x2=\"17.8571%\" y1=\"19.2px\" y2=\"48px\" /><svg width=\"64.2857%\" x=\"35.7143%\" y=\"48px\"><defs /><svg width=\"100%\" x=\"0\" y=\"0px\"><defs /><text text-anchor=\"middle\" x=\"50%\" y=\"16px\">tonight</text></svg><svg width=\"100%\" x=\"0%\" y=\"48px\"><defs /><svg width=\"100%\" x=\"0\" y=\"0px\"><defs /><text text-anchor=\"middle\" x=\"50%\" y=\"16px\">NN</text></svg></svg><line stroke=\"black\" x1=\"50%\" x2=\"50%\" y1=\"19.2px\" y2=\"48px\" /></svg><line stroke=\"black\" x1=\"50%\" x2=\"67.8571%\" y1=\"19.2px\" y2=\"48px\" /></svg><line stroke=\"black\" x1=\"50%\" x2=\"13.369%\" y1=\"19.2px\" y2=\"48px\" /><svg width=\"1.60428%\" x=\"17.1123%\" y=\"48px\"><defs /><svg width=\"100%\" x=\"0\" y=\"0px\"><defs /><text text-anchor=\"middle\" x=\"50%\" y=\"16px\">?</text></svg><svg width=\"100%\" x=\"0%\" y=\"48px\"><defs /><svg width=\"100%\" x=\"0\" y=\"0px\"><defs /><text text-anchor=\"middle\" x=\"50%\" y=\"16px\">.</text></svg></svg><line stroke=\"black\" x1=\"50%\" x2=\"50%\" y1=\"19.2px\" y2=\"48px\" /></svg><line stroke=\"black\" x1=\"50%\" x2=\"17.9144%\" y1=\"19.2px\" y2=\"48px\" /><svg width=\"2.6738%\" x=\"18.7166%\" y=\"48px\"><defs /><svg width=\"100%\" x=\"0\" y=\"0px\"><defs /><text text-anchor=\"middle\" x=\"50%\" y=\"16px\">I</text></svg><svg width=\"100%\" x=\"0%\" y=\"48px\"><defs /><svg width=\"100%\" x=\"0\" y=\"0px\"><defs /><text text-anchor=\"middle\" x=\"50%\" y=\"16px\">PRP</text></svg></svg><line stroke=\"black\" x1=\"50%\" x2=\"50%\" y1=\"19.2px\" y2=\"48px\" /></svg><line stroke=\"black\" x1=\"50%\" x2=\"20.0535%\" y1=\"19.2px\" y2=\"48px\" /><svg width=\"3.20856%\" x=\"21.3904%\" y=\"48px\"><defs /><svg width=\"100%\" x=\"0\" y=\"0px\"><defs /><text text-anchor=\"middle\" x=\"50%\" y=\"16px\">play</text></svg><svg width=\"100%\" x=\"0%\" y=\"48px\"><defs /><svg width=\"100%\" x=\"0\" y=\"0px\"><defs /><text text-anchor=\"middle\" x=\"50%\" y=\"16px\">VBP</text></svg></svg><line stroke=\"black\" x1=\"50%\" x2=\"50%\" y1=\"19.2px\" y2=\"48px\" /></svg><line stroke=\"black\" x1=\"50%\" x2=\"22.9947%\" y1=\"19.2px\" y2=\"48px\" /><svg width=\"4.27807%\" x=\"24.5989%\" y=\"48px\"><defs /><svg width=\"100%\" x=\"0\" y=\"0px\"><defs /><text text-anchor=\"middle\" x=\"50%\" y=\"16px\">Hybrid</text></svg><svg width=\"100%\" x=\"0%\" y=\"48px\"><defs /><svg width=\"100%\" x=\"0\" y=\"0px\"><defs /><text text-anchor=\"middle\" x=\"50%\" y=\"16px\">JJ</text></svg></svg><line stroke=\"black\" x1=\"50%\" x2=\"50%\" y1=\"19.2px\" y2=\"48px\" /></svg><line stroke=\"black\" x1=\"50%\" x2=\"26.738%\" y1=\"19.2px\" y2=\"48px\" /><svg width=\"9.62567%\" x=\"28.877%\" y=\"48px\"><defs /><svg width=\"100%\" x=\"0\" y=\"0px\"><defs /><text text-anchor=\"middle\" x=\"50%\" y=\"16px\">mychunk</text></svg><svg width=\"44.4444%\" x=\"0%\" y=\"48px\"><defs /><svg width=\"100%\" x=\"0\" y=\"0px\"><defs /><text text-anchor=\"middle\" x=\"50%\" y=\"16px\">Slayer</text></svg><svg width=\"100%\" x=\"0%\" y=\"48px\"><defs /><svg width=\"100%\" x=\"0\" y=\"0px\"><defs /><text text-anchor=\"middle\" x=\"50%\" y=\"16px\">NNP</text></svg></svg><line stroke=\"black\" x1=\"50%\" x2=\"50%\" y1=\"19.2px\" y2=\"48px\" /></svg><line stroke=\"black\" x1=\"50%\" x2=\"22.2222%\" y1=\"19.2px\" y2=\"48px\" /><svg width=\"27.7778%\" x=\"44.4444%\" y=\"48px\"><defs /><svg width=\"100%\" x=\"0\" y=\"0px\"><defs /><text text-anchor=\"middle\" x=\"50%\" y=\"16px\">ps4</text></svg><svg width=\"100%\" x=\"0%\" y=\"48px\"><defs /><svg width=\"100%\" x=\"0\" y=\"0px\"><defs /><text text-anchor=\"middle\" x=\"50%\" y=\"16px\">NN</text></svg></svg><line stroke=\"black\" x1=\"50%\" x2=\"50%\" y1=\"19.2px\" y2=\"48px\" /></svg><line stroke=\"black\" x1=\"50%\" x2=\"58.3333%\" y1=\"19.2px\" y2=\"48px\" /><svg width=\"27.7778%\" x=\"72.2222%\" y=\"48px\"><defs /><svg width=\"100%\" x=\"0\" y=\"0px\"><defs /><text text-anchor=\"middle\" x=\"50%\" y=\"16px\">EU</text></svg><svg width=\"100%\" x=\"0%\" y=\"48px\"><defs /><svg width=\"100%\" x=\"0\" y=\"0px\"><defs /><text text-anchor=\"middle\" x=\"50%\" y=\"16px\">NNP</text></svg></svg><line stroke=\"black\" x1=\"50%\" x2=\"50%\" y1=\"19.2px\" y2=\"48px\" /></svg><line stroke=\"black\" x1=\"50%\" x2=\"86.1111%\" y1=\"19.2px\" y2=\"48px\" /></svg><line stroke=\"black\" x1=\"50%\" x2=\"33.6898%\" y1=\"19.2px\" y2=\"48px\" /><svg width=\"1.60428%\" x=\"38.5027%\" y=\"48px\"><defs /><svg width=\"100%\" x=\"0\" y=\"0px\"><defs /><text text-anchor=\"middle\" x=\"50%\" y=\"16px\">.</text></svg><svg width=\"100%\" x=\"0%\" y=\"48px\"><defs /><svg width=\"100%\" x=\"0\" y=\"0px\"><defs /><text text-anchor=\"middle\" x=\"50%\" y=\"16px\">.</text></svg></svg><line stroke=\"black\" x1=\"50%\" x2=\"50%\" y1=\"19.2px\" y2=\"48px\" /></svg><line stroke=\"black\" x1=\"50%\" x2=\"39.3048%\" y1=\"19.2px\" y2=\"48px\" /><svg width=\"36.8984%\" x=\"40.107%\" y=\"48px\"><defs /><svg width=\"100%\" x=\"0\" y=\"0px\"><defs /><text text-anchor=\"middle\" x=\"50%\" y=\"16px\">mychunk</text></svg><svg width=\"7.24638%\" x=\"0%\" y=\"48px\"><defs /><svg width=\"100%\" x=\"0\" y=\"0px\"><defs /><text text-anchor=\"middle\" x=\"50%\" y=\"16px\">HMU</text></svg><svg width=\"100%\" x=\"0%\" y=\"48px\"><defs /><svg width=\"100%\" x=\"0\" y=\"0px\"><defs /><text text-anchor=\"middle\" x=\"50%\" y=\"16px\">NNP</text></svg></svg><line stroke=\"black\" x1=\"50%\" x2=\"50%\" y1=\"19.2px\" y2=\"48px\" /></svg><line stroke=\"black\" x1=\"50%\" x2=\"3.62319%\" y1=\"19.2px\" y2=\"48px\" /><svg width=\"7.24638%\" x=\"7.24638%\" y=\"48px\"><defs /><svg width=\"100%\" x=\"0\" y=\"0px\"><defs /><text text-anchor=\"middle\" x=\"50%\" y=\"16px\">@</text></svg><svg width=\"100%\" x=\"0%\" y=\"48px\"><defs /><svg width=\"100%\" x=\"0\" y=\"0px\"><defs /><text text-anchor=\"middle\" x=\"50%\" y=\"16px\">NNP</text></svg></svg><line stroke=\"black\" x1=\"50%\" x2=\"50%\" y1=\"19.2px\" y2=\"48px\" /></svg><line stroke=\"black\" x1=\"50%\" x2=\"10.8696%\" y1=\"19.2px\" y2=\"48px\" /><svg width=\"23.1884%\" x=\"14.4928%\" y=\"48px\"><defs /><svg width=\"100%\" x=\"0\" y=\"0px\"><defs /><text text-anchor=\"middle\" x=\"50%\" y=\"16px\">Cod8sandscrims</text></svg><svg width=\"100%\" x=\"0%\" y=\"48px\"><defs /><svg width=\"100%\" x=\"0\" y=\"0px\"><defs /><text text-anchor=\"middle\" x=\"50%\" y=\"16px\">NNP</text></svg></svg><line stroke=\"black\" x1=\"50%\" x2=\"50%\" y1=\"19.2px\" y2=\"48px\" /></svg><line stroke=\"black\" x1=\"50%\" x2=\"26.087%\" y1=\"19.2px\" y2=\"48px\" /><svg width=\"7.24638%\" x=\"37.6812%\" y=\"48px\"><defs /><svg width=\"100%\" x=\"0\" y=\"0px\"><defs /><text text-anchor=\"middle\" x=\"50%\" y=\"16px\">@</text></svg><svg width=\"100%\" x=\"0%\" y=\"48px\"><defs /><svg width=\"100%\" x=\"0\" y=\"0px\"><defs /><text text-anchor=\"middle\" x=\"50%\" y=\"16px\">NNP</text></svg></svg><line stroke=\"black\" x1=\"50%\" x2=\"50%\" y1=\"19.2px\" y2=\"48px\" /></svg><line stroke=\"black\" x1=\"50%\" x2=\"41.3043%\" y1=\"19.2px\" y2=\"48px\" /><svg width=\"21.7391%\" x=\"44.9275%\" y=\"48px\"><defs /><svg width=\"100%\" x=\"0\" y=\"0px\"><defs /><text text-anchor=\"middle\" x=\"50%\" y=\"16px\">EmpirikGaming</text></svg><svg width=\"100%\" x=\"0%\" y=\"48px\"><defs /><svg width=\"100%\" x=\"0\" y=\"0px\"><defs /><text text-anchor=\"middle\" x=\"50%\" y=\"16px\">NNP</text></svg></svg><line stroke=\"black\" x1=\"50%\" x2=\"50%\" y1=\"19.2px\" y2=\"48px\" /></svg><line stroke=\"black\" x1=\"50%\" x2=\"55.7971%\" y1=\"19.2px\" y2=\"48px\" /><svg width=\"7.24638%\" x=\"66.6667%\" y=\"48px\"><defs /><svg width=\"100%\" x=\"0\" y=\"0px\"><defs /><text text-anchor=\"middle\" x=\"50%\" y=\"16px\">@</text></svg><svg width=\"100%\" x=\"0%\" y=\"48px\"><defs /><svg width=\"100%\" x=\"0\" y=\"0px\"><defs /><text text-anchor=\"middle\" x=\"50%\" y=\"16px\">NNP</text></svg></svg><line stroke=\"black\" x1=\"50%\" x2=\"50%\" y1=\"19.2px\" y2=\"48px\" /></svg><line stroke=\"black\" x1=\"50%\" x2=\"70.2899%\" y1=\"19.2px\" y2=\"48px\" /><svg width=\"18.8406%\" x=\"73.913%\" y=\"48px\"><defs /><svg width=\"100%\" x=\"0\" y=\"0px\"><defs /><text text-anchor=\"middle\" x=\"50%\" y=\"16px\">CoDAWScrims</text></svg><svg width=\"100%\" x=\"0%\" y=\"48px\"><defs /><svg width=\"100%\" x=\"0\" y=\"0px\"><defs /><text text-anchor=\"middle\" x=\"50%\" y=\"16px\">NNP</text></svg></svg><line stroke=\"black\" x1=\"50%\" x2=\"50%\" y1=\"19.2px\" y2=\"48px\" /></svg><line stroke=\"black\" x1=\"50%\" x2=\"83.3333%\" y1=\"19.2px\" y2=\"48px\" /><svg width=\"7.24638%\" x=\"92.7536%\" y=\"48px\"><defs /><svg width=\"100%\" x=\"0\" y=\"0px\"><defs /><text text-anchor=\"middle\" x=\"50%\" y=\"16px\">@</text></svg><svg width=\"100%\" x=\"0%\" y=\"48px\"><defs /><svg width=\"100%\" x=\"0\" y=\"0px\"><defs /><text text-anchor=\"middle\" x=\"50%\" y=\"16px\">NNP</text></svg></svg><line stroke=\"black\" x1=\"50%\" x2=\"50%\" y1=\"19.2px\" y2=\"48px\" /></svg><line stroke=\"black\" x1=\"50%\" x2=\"96.3768%\" y1=\"19.2px\" y2=\"48px\" /></svg><line stroke=\"black\" x1=\"50%\" x2=\"58.5561%\" y1=\"19.2px\" y2=\"48px\" /><svg width=\"5.34759%\" x=\"77.0053%\" y=\"48px\"><defs /><svg width=\"100%\" x=\"0\" y=\"0px\"><defs /><text text-anchor=\"middle\" x=\"50%\" y=\"16px\">4TP_KOTC</text></svg><svg width=\"100%\" x=\"0%\" y=\"48px\"><defs /><svg width=\"100%\" x=\"0\" y=\"0px\"><defs /><text text-anchor=\"middle\" x=\"50%\" y=\"16px\">CD</text></svg></svg><line stroke=\"black\" x1=\"50%\" x2=\"50%\" y1=\"19.2px\" y2=\"48px\" /></svg><line stroke=\"black\" x1=\"50%\" x2=\"79.6791%\" y1=\"19.2px\" y2=\"48px\" /><svg width=\"2.6738%\" x=\"82.3529%\" y=\"48px\"><defs /><svg width=\"100%\" x=\"0\" y=\"0px\"><defs /><text text-anchor=\"middle\" x=\"50%\" y=\"16px\">@</text></svg><svg width=\"100%\" x=\"0%\" y=\"48px\"><defs /><svg width=\"100%\" x=\"0\" y=\"0px\"><defs /><text text-anchor=\"middle\" x=\"50%\" y=\"16px\">VBD</text></svg></svg><line stroke=\"black\" x1=\"50%\" x2=\"50%\" y1=\"19.2px\" y2=\"48px\" /></svg><line stroke=\"black\" x1=\"50%\" x2=\"83.6898%\" y1=\"19.2px\" y2=\"48px\" /><svg width=\"3.74332%\" x=\"85.0267%\" y=\"48px\"><defs /><svg width=\"100%\" x=\"0\" y=\"0px\"><defs /><text text-anchor=\"middle\" x=\"50%\" y=\"16px\">4TPFA</text></svg><svg width=\"100%\" x=\"0%\" y=\"48px\"><defs /><svg width=\"100%\" x=\"0\" y=\"0px\"><defs /><text text-anchor=\"middle\" x=\"50%\" y=\"16px\">CD</text></svg></svg><line stroke=\"black\" x1=\"50%\" x2=\"50%\" y1=\"19.2px\" y2=\"48px\" /></svg><line stroke=\"black\" x1=\"50%\" x2=\"86.8984%\" y1=\"19.2px\" y2=\"48px\" /><svg width=\"11.2299%\" x=\"88.7701%\" y=\"48px\"><defs /><svg width=\"100%\" x=\"0\" y=\"0px\"><defs /><text text-anchor=\"middle\" x=\"50%\" y=\"16px\">mychunk</text></svg><svg width=\"23.8095%\" x=\"0%\" y=\"48px\"><defs /><svg width=\"100%\" x=\"0\" y=\"0px\"><defs /><text text-anchor=\"middle\" x=\"50%\" y=\"16px\">@</text></svg><svg width=\"100%\" x=\"0%\" y=\"48px\"><defs /><svg width=\"100%\" x=\"0\" y=\"0px\"><defs /><text text-anchor=\"middle\" x=\"50%\" y=\"16px\">NNS</text></svg></svg><line stroke=\"black\" x1=\"50%\" x2=\"50%\" y1=\"19.2px\" y2=\"48px\" /></svg><line stroke=\"black\" x1=\"50%\" x2=\"11.9048%\" y1=\"19.2px\" y2=\"48px\" /><svg width=\"76.1905%\" x=\"23.8095%\" y=\"48px\"><defs /><svg width=\"100%\" x=\"0\" y=\"0px\"><defs /><text text-anchor=\"middle\" x=\"50%\" y=\"16px\">afterShock_Org</text></svg><svg width=\"100%\" x=\"0%\" y=\"48px\"><defs /><svg width=\"100%\" x=\"0\" y=\"0px\"><defs /><text text-anchor=\"middle\" x=\"50%\" y=\"16px\">NN</text></svg></svg><line stroke=\"black\" x1=\"50%\" x2=\"50%\" y1=\"19.2px\" y2=\"48px\" /></svg><line stroke=\"black\" x1=\"50%\" x2=\"61.9048%\" y1=\"19.2px\" y2=\"48px\" /></svg><line stroke=\"black\" x1=\"50%\" x2=\"94.385%\" y1=\"19.2px\" y2=\"48px\" /></svg>"
          },
          "metadata": {},
          "execution_count": 87
        }
      ],
      "source": [
        "# Chunk all adjacence nouns from 'sentence' sentence\n",
        "sentence = nlp_start_df.iloc[135][\"text\"]\n",
        "tokens = word_tokenize(sentence)\n",
        "sentence = pos_tag(tokens)\n",
        "patterns= \"\"\"mychunk:{<NN.*><NN.*>+}\"\"\"\n",
        "chunker = RegexpParser(patterns)\n",
        "output = chunker.parse(sentence)\n",
        "print(\"After Chunking:\\n\",output)\n",
        "svgling.draw_tree(output)"
      ]
    },
    {
      "cell_type": "markdown",
      "metadata": {
        "id": "FOANE15ZcSSK"
      },
      "source": [
        "Chunking can also be done using BIO algorithm: ```B```eginning of a chunk, ```I```inside of a chunk, ```O```utside of a chunk."
      ]
    },
    {
      "cell_type": "code",
      "execution_count": 111,
      "metadata": {
        "colab": {
          "base_uri": "https://localhost:8080/"
        },
        "id": "HJiPARQdcSSL",
        "outputId": "5ed16bcc-d629-41e1-8273-33f70b034789"
      },
      "outputs": [
        {
          "output_type": "execute_result",
          "data": {
            "text/plain": [
              "[('Anyone', 'NNP', 'O'),\n",
              " ('need', 'VBP', 'O'),\n",
              " ('a', 'DT', 'O'),\n",
              " ('P/U', 'NNP', 'B-mychunk'),\n",
              " ('tonight', 'NN', 'I-mychunk'),\n",
              " ('?', '.', 'O'),\n",
              " ('I', 'PRP', 'O'),\n",
              " ('play', 'VBP', 'O'),\n",
              " ('Hybrid', 'JJ', 'O'),\n",
              " ('Slayer', 'NNP', 'B-mychunk'),\n",
              " ('ps4', 'NN', 'I-mychunk'),\n",
              " ('EU', 'NNP', 'I-mychunk'),\n",
              " ('.', '.', 'O'),\n",
              " ('HMU', 'NNP', 'B-mychunk'),\n",
              " ('@', 'NNP', 'I-mychunk'),\n",
              " ('Cod8sandscrims', 'NNP', 'I-mychunk'),\n",
              " ('@', 'NNP', 'I-mychunk'),\n",
              " ('EmpirikGaming', 'NNP', 'I-mychunk'),\n",
              " ('@', 'NNP', 'I-mychunk'),\n",
              " ('CoDAWScrims', 'NNP', 'I-mychunk'),\n",
              " ('@', 'NNP', 'I-mychunk'),\n",
              " ('4TP_KOTC', 'CD', 'O'),\n",
              " ('@', 'VBD', 'O'),\n",
              " ('4TPFA', 'CD', 'O'),\n",
              " ('@', 'NNS', 'B-mychunk'),\n",
              " ('afterShock_Org', 'NN', 'I-mychunk')]"
            ]
          },
          "metadata": {},
          "execution_count": 111
        }
      ],
      "source": [
        "from nltk.chunk import conlltags2tree, tree2conlltags\n",
        "from pprint import pprint # To display the list nicely\n",
        "\n",
        "iob_tagged = tree2conlltags(output)\n",
        "iob_tagged"
      ]
    },
    {
      "cell_type": "markdown",
      "metadata": {
        "id": "HI_yLWghcSSM"
      },
      "source": [
        "<span style=\"color:green\">To code:</span> Implement a tree-crawling retrieving the list of triples ```('word','POS-tag','BIO-tag')``` from ```chunker.parse``` output trees."
      ]
    },
    {
      "cell_type": "code",
      "execution_count": 210,
      "metadata": {
        "colab": {
          "base_uri": "https://localhost:8080/"
        },
        "id": "CrWP5temcSSO",
        "outputId": "5e8cff8b-e9db-492f-81d6-cdf42a27b717"
      },
      "outputs": [
        {
          "output_type": "stream",
          "name": "stdout",
          "text": [
            "[('Anyone', 'NNP', 'O'),\n",
            " ('need', 'VBP', 'B-B-mychunk'),\n",
            " ('a', 'DT', 'B-I-B-mychunk'),\n",
            " ('P/U', 'NNP', 'B-I-I-B-mychunk'),\n",
            " ('tonight', 'NN', 'B-I-I-I-B-mychunk'),\n",
            " ('?', '.', 'B-I-I-B-mychunk'),\n",
            " ('I', 'PRP', 'B-I-I-I-B-mychunk'),\n",
            " ('play', 'VBP', 'B-I-I-I-I-B-mychunk'),\n",
            " ('Hybrid', 'JJ', 'B-I-I-I-I-I-B-mychunk'),\n",
            " ('Slayer', 'NNP', 'B-I-I-I-I-I-I-B-mychunk'),\n",
            " ('ps4', 'NN', 'B-I-I-I-I-I-I-I-B-mychunk'),\n",
            " ('EU', 'NNP', 'B-I-I-I-I-I-I-I-I-B-mychunk'),\n",
            " ('.', '.', 'B-I-I-I-I-I-I-B-mychunk'),\n",
            " ('HMU', 'NNP', 'B-I-I-I-I-I-I-I-B-mychunk'),\n",
            " ('@', 'NNP', 'B-I-I-I-I-I-I-I-I-B-mychunk'),\n",
            " ('Cod8sandscrims', 'NNP', 'B-I-I-I-I-I-I-I-I-I-B-mychunk'),\n",
            " ('@', 'NNP', 'B-I-I-I-I-I-I-I-I-I-I-B-mychunk'),\n",
            " ('EmpirikGaming', 'NNP', 'B-I-I-I-I-I-I-I-I-I-I-I-B-mychunk'),\n",
            " ('@', 'NNP', 'B-I-I-I-I-I-I-I-I-I-I-I-I-B-mychunk'),\n",
            " ('CoDAWScrims', 'NNP', 'B-I-I-I-I-I-I-I-I-I-I-I-I-I-B-mychunk'),\n",
            " ('@', 'NNP', 'B-I-I-I-I-I-I-I-I-I-I-I-I-I-I-B-mychunk'),\n",
            " ('4TP_KOTC', 'CD', 'B-I-I-I-I-I-I-I-B-mychunk'),\n",
            " ('@', 'VBD', 'B-I-I-I-I-I-I-I-I-B-mychunk'),\n",
            " ('4TPFA', 'CD', 'B-I-I-I-I-I-I-I-I-I-B-mychunk'),\n",
            " ('@', 'NNS', 'B-I-I-I-I-I-I-I-I-I-I-B-mychunk'),\n",
            " ('afterShock_Org', 'NN', 'B-I-I-I-I-I-I-I-I-I-I-I-B-mychunk')]\n"
          ]
        }
      ],
      "source": [
        "# Tree crawler retrieval of triples from chunker.parser output trees\n",
        "# Function to retrieve triples ('word', 'POS-tag', 'BIO-tag') from the tree\n",
        "def extract_triples(tree):\n",
        "    triples = []\n",
        "    for subtree in tree:\n",
        "      current_triple = []\n",
        "      if isinstance(subtree,tuple):\n",
        "        current_triple.append(subtree[0])\n",
        "        current_triple.append(subtree[1])\n",
        "        current_triple.append('0')\n",
        "        triples.append(tuple(current_triple))\n",
        "      else:\n",
        "        c = 0 # Use to determine the begining and end of a chunck\n",
        "        for subsubtree in subtree:\n",
        "          current_triple = []\n",
        "          if isinstance(subsubtree,tuple):\n",
        "            current_triple.append(subsubtree[0])\n",
        "            current_triple.append(subsubtree[1])\n",
        "            if c==0:\n",
        "              current_triple.append('B-mychunk')\n",
        "            else:\n",
        "              current_triple.append('I-mychunk')\n",
        "            c += 1\n",
        "          triples.append(tuple(current_triple))\n",
        "    return triples\n",
        "\n",
        "\n",
        "def extract_triples(tree):\n",
        "    triples = []\n",
        "    for subtree in tree:\n",
        "      current_triple = []\n",
        "      if isinstance(subtree,tuple):\n",
        "        current_triple.append(subtree[0])\n",
        "        current_triple.append(subtree[1])\n",
        "        current_triple.append('0')\n",
        "        triples.append(tuple(current_triple))\n",
        "      else:\n",
        "        c = 0 # Use to determine the begining and end of a chunck\n",
        "        for subsubtree in subtree:\n",
        "          current_triple = []\n",
        "          if isinstance(subsubtree,tuple):\n",
        "            current_triple.append(subsubtree[0])\n",
        "            current_triple.append(subsubtree[1])\n",
        "            if c==0:\n",
        "              current_triple.append('B-mychunk')\n",
        "            else:\n",
        "              current_triple.append('I-mychunk')\n",
        "            c += 1\n",
        "          triples.append(tuple(current_triple))\n",
        "    return triples\n",
        "\n",
        "\n",
        "\n",
        "# Extract triples from the tree\n",
        "result_triples = extract_triples_recursive(output)\n",
        "\n",
        "# Print the result\n",
        "pprint(result_triples)"
      ]
    },
    {
      "cell_type": "code",
      "source": [],
      "metadata": {
        "id": "EmqnLF-YGqd7"
      },
      "execution_count": null,
      "outputs": []
    },
    {
      "cell_type": "markdown",
      "metadata": {
        "id": "0CzullkMcSSP"
      },
      "source": [
        "# Named Entity Recognition (NER)\n",
        "\n",
        "NER is also implemented in ```nltk```, using chunking: the ```ne_chunk()``` method in the ```nltk.chunk``` module."
      ]
    },
    {
      "cell_type": "markdown",
      "metadata": {
        "id": "wDL0Rj7ucSSQ"
      },
      "source": [
        "<span style=\"color:green\">To code:</span>  Implement NER on the same sentence with the method showcased below."
      ]
    },
    {
      "cell_type": "code",
      "execution_count": 157,
      "metadata": {
        "colab": {
          "base_uri": "https://localhost:8080/"
        },
        "id": "oiqGnZhEcSSR",
        "outputId": "1b923495-dd63-407b-c9e4-9a427cfe5f14"
      },
      "outputs": [
        {
          "output_type": "stream",
          "name": "stdout",
          "text": [
            "[Tree('ORGANIZATION', [('HMU', 'NNP')]), Tree('ORGANIZATION', [('afterShock_Org', 'NN')])]\n"
          ]
        }
      ],
      "source": [
        "#nltk.download('maxent_ne_chunker')\n",
        "#nltk.download('words')\n",
        "from nltk.chunk import ne_chunk\n",
        "\n",
        "def extract_ne(trees, labels):\n",
        "\n",
        "    ne_list = []\n",
        "    for tree in ne_res:\n",
        "        if hasattr(tree, 'label'):\n",
        "            if tree.label() in labels:\n",
        "                ne_list.append(tree)\n",
        "\n",
        "    return ne_list\n",
        "\n",
        "# NER on 'sentence' sentence\n",
        "sentence = nlp_start_df.iloc[135][\"text\"]\n",
        "ne_res = ne_chunk(pos_tag(word_tokenize(sentence)))\n",
        "labels = ['ORGANIZATION']\n",
        "\n",
        "print(extract_ne(ne_res, labels))"
      ]
    },
    {
      "cell_type": "markdown",
      "metadata": {
        "id": "9o0xlOiBcSST"
      },
      "source": [
        "<span style=\"color:red\">Questions:</span> What other labels are available?"
      ]
    },
    {
      "cell_type": "markdown",
      "metadata": {
        "id": "PC7aYiE0cSST"
      },
      "source": [
        "<span style=\"color:green\">To code:</span> Implement a NE extraction using two or more different labels."
      ]
    },
    {
      "cell_type": "code",
      "execution_count": null,
      "metadata": {
        "id": "UqDCo35YcSSU"
      },
      "outputs": [],
      "source": [
        "# NER using two or more different labels"
      ]
    },
    {
      "cell_type": "markdown",
      "metadata": {
        "id": "8uvgI8CccSSW"
      },
      "source": [
        "## NER and ```spaCy```\n",
        "\n",
        "```spaCy``` module also contains a statistical NER system. It is trained to identify named and numeric entities, such as companies, locations, organizations and products. First, we need more complex data."
      ]
    },
    {
      "cell_type": "code",
      "execution_count": null,
      "metadata": {
        "id": "pI1UNWpncSSX"
      },
      "outputs": [],
      "source": [
        "import sqlite3\n",
        "\n",
        "cnx = sqlite3.connect('wikibooks.sqlite')\n",
        "df_wikibooks = pd.read_sql_query(\"SELECT * FROM en\", cnx)\n",
        "df_wikibooks.head()"
      ]
    },
    {
      "cell_type": "markdown",
      "metadata": {
        "id": "itNN6U12cSSY"
      },
      "source": [
        "The following displays ```spaCy```'s NER on a given document from the ```wikibooks``` dataset."
      ]
    },
    {
      "cell_type": "code",
      "execution_count": null,
      "metadata": {
        "id": "iRd4LjQecSSa"
      },
      "outputs": [],
      "source": [
        "import spacy\n",
        "#spacy.cli.download('en_core_web_sm')\n",
        "nlp = spacy.load(\"en_core_web_sm\")\n",
        "wiki_ex = df_wikibooks.iloc[11]['body_text']\n",
        "# print(wiki_ex)\n",
        "doc = nlp(wiki_ex)\n",
        "doc"
      ]
    },
    {
      "cell_type": "code",
      "execution_count": null,
      "metadata": {
        "id": "UEB7wrJ-cSSc"
      },
      "outputs": [],
      "source": [
        "print('All entity types that spacy recognised from the document above')\n",
        "set([ent.label_ for ent in doc.ents])"
      ]
    },
    {
      "cell_type": "markdown",
      "metadata": {
        "id": "aYo52bP1cSSg"
      },
      "source": [
        "<span style=\"color:red\">Questions:</span> What other labels are available?"
      ]
    },
    {
      "cell_type": "markdown",
      "metadata": {
        "id": "-9KVHcTVcSSh"
      },
      "source": [
        "<span style=\"color:green\">To code:</span> Print out all persons and organizations recognised in the document."
      ]
    },
    {
      "cell_type": "code",
      "execution_count": null,
      "metadata": {
        "id": "RKEAaFNycSSi"
      },
      "outputs": [],
      "source": [
        "# Print out all persons and organisations from the document above\n"
      ]
    },
    {
      "cell_type": "markdown",
      "metadata": {
        "id": "s3xOgaZscSSj"
      },
      "source": [
        "```spaCy``` also features a very nice visualization tool for NE. The following showcases this tool on a Wikibooks page."
      ]
    },
    {
      "cell_type": "code",
      "execution_count": null,
      "metadata": {
        "id": "NqMXidTzcSSk"
      },
      "outputs": [],
      "source": [
        "from spacy import displacy\n",
        "displacy.render(doc, style=\"ent\", jupyter=True)"
      ]
    },
    {
      "cell_type": "markdown",
      "metadata": {
        "id": "7MnFWsnncSSn"
      },
      "source": [
        "<span style=\"color:red\">Questions:</span> Can you see problems in this annotation? What adaptations would you suggest?"
      ]
    },
    {
      "cell_type": "markdown",
      "metadata": {
        "id": "uRIjsxBYcSSo"
      },
      "source": [
        "### Comparing accuracies with a pre-trained model\n",
        "\n",
        "We will now use a pre-trained BERT-based model from the ```transformers``` library. Assuming we use the model as is, and do not do any fine-tuning, we can use the high-level interface from the library, ```pipeline```.\n",
        "First, let's look at the model and the tags it uses."
      ]
    },
    {
      "cell_type": "code",
      "execution_count": 163,
      "metadata": {
        "colab": {
          "base_uri": "https://localhost:8080/"
        },
        "id": "YwGh4YMGcSSp",
        "outputId": "936a3623-12fb-4355-8ff9-c5db3ad5ddb4"
      },
      "outputs": [
        {
          "output_type": "stream",
          "name": "stderr",
          "text": [
            "Some weights of the model checkpoint at dslim/bert-base-NER were not used when initializing BertForTokenClassification: ['bert.pooler.dense.weight', 'bert.pooler.dense.bias']\n",
            "- This IS expected if you are initializing BertForTokenClassification from the checkpoint of a model trained on another task or with another architecture (e.g. initializing a BertForSequenceClassification model from a BertForPreTraining model).\n",
            "- This IS NOT expected if you are initializing BertForTokenClassification from the checkpoint of a model that you expect to be exactly identical (initializing a BertForSequenceClassification model from a BertForSequenceClassification model).\n"
          ]
        },
        {
          "output_type": "stream",
          "name": "stdout",
          "text": [
            "Entities from the pretrained model\n",
            "{0: 'O', 1: 'B-MISC', 2: 'I-MISC', 3: 'B-PER', 4: 'I-PER', 5: 'B-ORG', 6: 'I-ORG', 7: 'B-LOC', 8: 'I-LOC'}\n"
          ]
        }
      ],
      "source": [
        "from transformers import AutoModelForTokenClassification, AutoTokenizer, pipeline\n",
        "\n",
        "tokenizer = AutoTokenizer.from_pretrained(\"dslim/bert-base-NER\")\n",
        "model = AutoModelForTokenClassification.from_pretrained(\"dslim/bert-base-NER\")\n",
        "print('Entities from the pretrained model')\n",
        "print(model.config.id2label)"
      ]
    },
    {
      "cell_type": "markdown",
      "metadata": {
        "id": "ebmAuShQcSSs"
      },
      "source": [
        "Now, let's look at one last dataset. It contains **reference tags** for every word in the sentences. However, the tagset is not exactly the same - we will need to use a mapping. For simplicity, we will only look at the *Location* tags in what follows !"
      ]
    },
    {
      "cell_type": "code",
      "execution_count": 161,
      "metadata": {
        "id": "17QQMWDYcSSu"
      },
      "outputs": [],
      "source": [
        "# Let's re-format the dataset for convenience\n",
        "df = pd.read_csv('./entity-annotated-corpus/ner_dataset.csv', encoding='unicode_escape')\n",
        "df['Sentence #'] = df['Sentence #'].ffill()\n",
        "# Grouping sentences together into one sentence by row, for words, pos, tags\n",
        "df_gr = df.groupby('Sentence #').agg(lambda x: list(x))\n",
        "# Just renaming indexes\n",
        "df_gr.index  = [int(s[9:]) for s in df_gr.index]"
      ]
    },
    {
      "cell_type": "code",
      "source": [
        "df_gr.iloc[0][\"Word\"]"
      ],
      "metadata": {
        "colab": {
          "base_uri": "https://localhost:8080/"
        },
        "id": "QUoT2Xd53iqi",
        "outputId": "5ad5fca4-5ebb-4f0e-fcd6-7f6fbc5a3e81"
      },
      "execution_count": 168,
      "outputs": [
        {
          "output_type": "execute_result",
          "data": {
            "text/plain": [
              "['Thousands',\n",
              " 'of',\n",
              " 'demonstrators',\n",
              " 'have',\n",
              " 'marched',\n",
              " 'through',\n",
              " 'London',\n",
              " 'to',\n",
              " 'protest',\n",
              " 'the',\n",
              " 'war',\n",
              " 'in',\n",
              " 'Iraq',\n",
              " 'and',\n",
              " 'demand',\n",
              " 'the',\n",
              " 'withdrawal',\n",
              " 'of',\n",
              " 'British',\n",
              " 'troops',\n",
              " 'from',\n",
              " 'that',\n",
              " 'country',\n",
              " '.']"
            ]
          },
          "metadata": {},
          "execution_count": 168
        }
      ]
    },
    {
      "cell_type": "code",
      "source": [
        "df_gr"
      ],
      "metadata": {
        "colab": {
          "base_uri": "https://localhost:8080/",
          "height": 572
        },
        "id": "vPz6E2Wy4Bpo",
        "outputId": "3868640c-ac18-43c6-b97e-433eed6e4023"
      },
      "execution_count": 170,
      "outputs": [
        {
          "output_type": "execute_result",
          "data": {
            "text/plain": [
              "                                                    Word  \\\n",
              "1      [Thousands, of, demonstrators, have, marched, ...   \n",
              "10     [Iranian, officials, say, they, expect, to, ge...   \n",
              "100    [Helicopter, gunships, Saturday, pounded, mili...   \n",
              "1000   [They, left, after, a, tense, hour-long, stand...   \n",
              "10000  [U.N., relief, coordinator, Jan, Egeland, said...   \n",
              "...                                                  ...   \n",
              "9995   [Opposition, leader, Mir, Hossein, Mousavi, ha...   \n",
              "9996   [On, Thursday, ,, Iranian, state, media, publi...   \n",
              "9997   [Following, Iran, 's, disputed, June, 12, elec...   \n",
              "9998   [Since, then, ,, authorities, have, held, publ...   \n",
              "9999   [The, United, Nations, is, praising, the, use,...   \n",
              "\n",
              "                                                     POS  \\\n",
              "1      [NNS, IN, NNS, VBP, VBN, IN, NNP, TO, VB, DT, ...   \n",
              "10     [JJ, NNS, VBP, PRP, VBP, TO, VB, NN, TO, JJ, J...   \n",
              "100    [NN, NNS, NNP, VBD, JJ, NNS, IN, DT, NNP, JJ, ...   \n",
              "1000      [PRP, VBD, IN, DT, NN, JJ, NN, IN, NN, NNS, .]   \n",
              "10000  [NNP, NN, NN, NNP, NNP, VBD, NNP, ,, NNP, ,, J...   \n",
              "...                                                  ...   \n",
              "9995   [NNP, NN, NNP, NNP, NNP, VBZ, VBN, PRP, VBZ, T...   \n",
              "9996   [IN, NNP, ,, JJ, NN, NNS, VBN, DT, NN, IN, DT,...   \n",
              "9997   [VBG, NNP, POS, JJ, NNP, CD, NNS, ,, NNS, NNS,...   \n",
              "9998   [IN, RB, ,, NNS, VBP, VBN, JJ, NNS, IN, DT, VB...   \n",
              "9999   [DT, NNP, NNP, VBZ, VBG, DT, NN, IN, JJ, NNS, ...   \n",
              "\n",
              "                                                     Tag  \n",
              "1      [O, O, O, O, O, O, B-geo, O, O, O, O, O, B-geo...  \n",
              "10     [B-gpe, O, O, O, O, O, O, O, O, O, O, O, O, O,...  \n",
              "100    [O, O, B-tim, O, O, O, O, O, B-geo, O, O, O, O...  \n",
              "1000                   [O, O, O, O, O, O, O, O, O, O, O]  \n",
              "10000  [B-geo, O, O, B-per, I-per, O, B-tim, O, B-geo...  \n",
              "...                                                  ...  \n",
              "9995   [O, O, O, B-per, I-per, O, O, O, O, O, O, O, O...  \n",
              "9996   [O, B-tim, O, B-gpe, O, O, O, O, O, O, O, O, B...  \n",
              "9997   [O, B-geo, O, O, B-tim, I-tim, O, O, O, O, O, ...  \n",
              "9998   [O, O, O, O, O, O, O, O, O, O, O, O, O, O, O, ...  \n",
              "9999   [O, B-org, I-org, O, O, O, O, O, O, O, O, O, O...  \n",
              "\n",
              "[47959 rows x 3 columns]"
            ],
            "text/html": [
              "\n",
              "  <div id=\"df-de799756-5357-4e43-835d-75a04c69441f\" class=\"colab-df-container\">\n",
              "    <div>\n",
              "<style scoped>\n",
              "    .dataframe tbody tr th:only-of-type {\n",
              "        vertical-align: middle;\n",
              "    }\n",
              "\n",
              "    .dataframe tbody tr th {\n",
              "        vertical-align: top;\n",
              "    }\n",
              "\n",
              "    .dataframe thead th {\n",
              "        text-align: right;\n",
              "    }\n",
              "</style>\n",
              "<table border=\"1\" class=\"dataframe\">\n",
              "  <thead>\n",
              "    <tr style=\"text-align: right;\">\n",
              "      <th></th>\n",
              "      <th>Word</th>\n",
              "      <th>POS</th>\n",
              "      <th>Tag</th>\n",
              "    </tr>\n",
              "  </thead>\n",
              "  <tbody>\n",
              "    <tr>\n",
              "      <th>1</th>\n",
              "      <td>[Thousands, of, demonstrators, have, marched, ...</td>\n",
              "      <td>[NNS, IN, NNS, VBP, VBN, IN, NNP, TO, VB, DT, ...</td>\n",
              "      <td>[O, O, O, O, O, O, B-geo, O, O, O, O, O, B-geo...</td>\n",
              "    </tr>\n",
              "    <tr>\n",
              "      <th>10</th>\n",
              "      <td>[Iranian, officials, say, they, expect, to, ge...</td>\n",
              "      <td>[JJ, NNS, VBP, PRP, VBP, TO, VB, NN, TO, JJ, J...</td>\n",
              "      <td>[B-gpe, O, O, O, O, O, O, O, O, O, O, O, O, O,...</td>\n",
              "    </tr>\n",
              "    <tr>\n",
              "      <th>100</th>\n",
              "      <td>[Helicopter, gunships, Saturday, pounded, mili...</td>\n",
              "      <td>[NN, NNS, NNP, VBD, JJ, NNS, IN, DT, NNP, JJ, ...</td>\n",
              "      <td>[O, O, B-tim, O, O, O, O, O, B-geo, O, O, O, O...</td>\n",
              "    </tr>\n",
              "    <tr>\n",
              "      <th>1000</th>\n",
              "      <td>[They, left, after, a, tense, hour-long, stand...</td>\n",
              "      <td>[PRP, VBD, IN, DT, NN, JJ, NN, IN, NN, NNS, .]</td>\n",
              "      <td>[O, O, O, O, O, O, O, O, O, O, O]</td>\n",
              "    </tr>\n",
              "    <tr>\n",
              "      <th>10000</th>\n",
              "      <td>[U.N., relief, coordinator, Jan, Egeland, said...</td>\n",
              "      <td>[NNP, NN, NN, NNP, NNP, VBD, NNP, ,, NNP, ,, J...</td>\n",
              "      <td>[B-geo, O, O, B-per, I-per, O, B-tim, O, B-geo...</td>\n",
              "    </tr>\n",
              "    <tr>\n",
              "      <th>...</th>\n",
              "      <td>...</td>\n",
              "      <td>...</td>\n",
              "      <td>...</td>\n",
              "    </tr>\n",
              "    <tr>\n",
              "      <th>9995</th>\n",
              "      <td>[Opposition, leader, Mir, Hossein, Mousavi, ha...</td>\n",
              "      <td>[NNP, NN, NNP, NNP, NNP, VBZ, VBN, PRP, VBZ, T...</td>\n",
              "      <td>[O, O, O, B-per, I-per, O, O, O, O, O, O, O, O...</td>\n",
              "    </tr>\n",
              "    <tr>\n",
              "      <th>9996</th>\n",
              "      <td>[On, Thursday, ,, Iranian, state, media, publi...</td>\n",
              "      <td>[IN, NNP, ,, JJ, NN, NNS, VBN, DT, NN, IN, DT,...</td>\n",
              "      <td>[O, B-tim, O, B-gpe, O, O, O, O, O, O, O, O, B...</td>\n",
              "    </tr>\n",
              "    <tr>\n",
              "      <th>9997</th>\n",
              "      <td>[Following, Iran, 's, disputed, June, 12, elec...</td>\n",
              "      <td>[VBG, NNP, POS, JJ, NNP, CD, NNS, ,, NNS, NNS,...</td>\n",
              "      <td>[O, B-geo, O, O, B-tim, I-tim, O, O, O, O, O, ...</td>\n",
              "    </tr>\n",
              "    <tr>\n",
              "      <th>9998</th>\n",
              "      <td>[Since, then, ,, authorities, have, held, publ...</td>\n",
              "      <td>[IN, RB, ,, NNS, VBP, VBN, JJ, NNS, IN, DT, VB...</td>\n",
              "      <td>[O, O, O, O, O, O, O, O, O, O, O, O, O, O, O, ...</td>\n",
              "    </tr>\n",
              "    <tr>\n",
              "      <th>9999</th>\n",
              "      <td>[The, United, Nations, is, praising, the, use,...</td>\n",
              "      <td>[DT, NNP, NNP, VBZ, VBG, DT, NN, IN, JJ, NNS, ...</td>\n",
              "      <td>[O, B-org, I-org, O, O, O, O, O, O, O, O, O, O...</td>\n",
              "    </tr>\n",
              "  </tbody>\n",
              "</table>\n",
              "<p>47959 rows × 3 columns</p>\n",
              "</div>\n",
              "    <div class=\"colab-df-buttons\">\n",
              "\n",
              "  <div class=\"colab-df-container\">\n",
              "    <button class=\"colab-df-convert\" onclick=\"convertToInteractive('df-de799756-5357-4e43-835d-75a04c69441f')\"\n",
              "            title=\"Convert this dataframe to an interactive table.\"\n",
              "            style=\"display:none;\">\n",
              "\n",
              "  <svg xmlns=\"http://www.w3.org/2000/svg\" height=\"24px\" viewBox=\"0 -960 960 960\">\n",
              "    <path d=\"M120-120v-720h720v720H120Zm60-500h600v-160H180v160Zm220 220h160v-160H400v160Zm0 220h160v-160H400v160ZM180-400h160v-160H180v160Zm440 0h160v-160H620v160ZM180-180h160v-160H180v160Zm440 0h160v-160H620v160Z\"/>\n",
              "  </svg>\n",
              "    </button>\n",
              "\n",
              "  <style>\n",
              "    .colab-df-container {\n",
              "      display:flex;\n",
              "      gap: 12px;\n",
              "    }\n",
              "\n",
              "    .colab-df-convert {\n",
              "      background-color: #E8F0FE;\n",
              "      border: none;\n",
              "      border-radius: 50%;\n",
              "      cursor: pointer;\n",
              "      display: none;\n",
              "      fill: #1967D2;\n",
              "      height: 32px;\n",
              "      padding: 0 0 0 0;\n",
              "      width: 32px;\n",
              "    }\n",
              "\n",
              "    .colab-df-convert:hover {\n",
              "      background-color: #E2EBFA;\n",
              "      box-shadow: 0px 1px 2px rgba(60, 64, 67, 0.3), 0px 1px 3px 1px rgba(60, 64, 67, 0.15);\n",
              "      fill: #174EA6;\n",
              "    }\n",
              "\n",
              "    .colab-df-buttons div {\n",
              "      margin-bottom: 4px;\n",
              "    }\n",
              "\n",
              "    [theme=dark] .colab-df-convert {\n",
              "      background-color: #3B4455;\n",
              "      fill: #D2E3FC;\n",
              "    }\n",
              "\n",
              "    [theme=dark] .colab-df-convert:hover {\n",
              "      background-color: #434B5C;\n",
              "      box-shadow: 0px 1px 3px 1px rgba(0, 0, 0, 0.15);\n",
              "      filter: drop-shadow(0px 1px 2px rgba(0, 0, 0, 0.3));\n",
              "      fill: #FFFFFF;\n",
              "    }\n",
              "  </style>\n",
              "\n",
              "    <script>\n",
              "      const buttonEl =\n",
              "        document.querySelector('#df-de799756-5357-4e43-835d-75a04c69441f button.colab-df-convert');\n",
              "      buttonEl.style.display =\n",
              "        google.colab.kernel.accessAllowed ? 'block' : 'none';\n",
              "\n",
              "      async function convertToInteractive(key) {\n",
              "        const element = document.querySelector('#df-de799756-5357-4e43-835d-75a04c69441f');\n",
              "        const dataTable =\n",
              "          await google.colab.kernel.invokeFunction('convertToInteractive',\n",
              "                                                    [key], {});\n",
              "        if (!dataTable) return;\n",
              "\n",
              "        const docLinkHtml = 'Like what you see? Visit the ' +\n",
              "          '<a target=\"_blank\" href=https://colab.research.google.com/notebooks/data_table.ipynb>data table notebook</a>'\n",
              "          + ' to learn more about interactive tables.';\n",
              "        element.innerHTML = '';\n",
              "        dataTable['output_type'] = 'display_data';\n",
              "        await google.colab.output.renderOutput(dataTable, element);\n",
              "        const docLink = document.createElement('div');\n",
              "        docLink.innerHTML = docLinkHtml;\n",
              "        element.appendChild(docLink);\n",
              "      }\n",
              "    </script>\n",
              "  </div>\n",
              "\n",
              "\n",
              "<div id=\"df-d33f930b-b686-4953-adfc-74487847a4d8\">\n",
              "  <button class=\"colab-df-quickchart\" onclick=\"quickchart('df-d33f930b-b686-4953-adfc-74487847a4d8')\"\n",
              "            title=\"Suggest charts\"\n",
              "            style=\"display:none;\">\n",
              "\n",
              "<svg xmlns=\"http://www.w3.org/2000/svg\" height=\"24px\"viewBox=\"0 0 24 24\"\n",
              "     width=\"24px\">\n",
              "    <g>\n",
              "        <path d=\"M19 3H5c-1.1 0-2 .9-2 2v14c0 1.1.9 2 2 2h14c1.1 0 2-.9 2-2V5c0-1.1-.9-2-2-2zM9 17H7v-7h2v7zm4 0h-2V7h2v10zm4 0h-2v-4h2v4z\"/>\n",
              "    </g>\n",
              "</svg>\n",
              "  </button>\n",
              "\n",
              "<style>\n",
              "  .colab-df-quickchart {\n",
              "      --bg-color: #E8F0FE;\n",
              "      --fill-color: #1967D2;\n",
              "      --hover-bg-color: #E2EBFA;\n",
              "      --hover-fill-color: #174EA6;\n",
              "      --disabled-fill-color: #AAA;\n",
              "      --disabled-bg-color: #DDD;\n",
              "  }\n",
              "\n",
              "  [theme=dark] .colab-df-quickchart {\n",
              "      --bg-color: #3B4455;\n",
              "      --fill-color: #D2E3FC;\n",
              "      --hover-bg-color: #434B5C;\n",
              "      --hover-fill-color: #FFFFFF;\n",
              "      --disabled-bg-color: #3B4455;\n",
              "      --disabled-fill-color: #666;\n",
              "  }\n",
              "\n",
              "  .colab-df-quickchart {\n",
              "    background-color: var(--bg-color);\n",
              "    border: none;\n",
              "    border-radius: 50%;\n",
              "    cursor: pointer;\n",
              "    display: none;\n",
              "    fill: var(--fill-color);\n",
              "    height: 32px;\n",
              "    padding: 0;\n",
              "    width: 32px;\n",
              "  }\n",
              "\n",
              "  .colab-df-quickchart:hover {\n",
              "    background-color: var(--hover-bg-color);\n",
              "    box-shadow: 0 1px 2px rgba(60, 64, 67, 0.3), 0 1px 3px 1px rgba(60, 64, 67, 0.15);\n",
              "    fill: var(--button-hover-fill-color);\n",
              "  }\n",
              "\n",
              "  .colab-df-quickchart-complete:disabled,\n",
              "  .colab-df-quickchart-complete:disabled:hover {\n",
              "    background-color: var(--disabled-bg-color);\n",
              "    fill: var(--disabled-fill-color);\n",
              "    box-shadow: none;\n",
              "  }\n",
              "\n",
              "  .colab-df-spinner {\n",
              "    border: 2px solid var(--fill-color);\n",
              "    border-color: transparent;\n",
              "    border-bottom-color: var(--fill-color);\n",
              "    animation:\n",
              "      spin 1s steps(1) infinite;\n",
              "  }\n",
              "\n",
              "  @keyframes spin {\n",
              "    0% {\n",
              "      border-color: transparent;\n",
              "      border-bottom-color: var(--fill-color);\n",
              "      border-left-color: var(--fill-color);\n",
              "    }\n",
              "    20% {\n",
              "      border-color: transparent;\n",
              "      border-left-color: var(--fill-color);\n",
              "      border-top-color: var(--fill-color);\n",
              "    }\n",
              "    30% {\n",
              "      border-color: transparent;\n",
              "      border-left-color: var(--fill-color);\n",
              "      border-top-color: var(--fill-color);\n",
              "      border-right-color: var(--fill-color);\n",
              "    }\n",
              "    40% {\n",
              "      border-color: transparent;\n",
              "      border-right-color: var(--fill-color);\n",
              "      border-top-color: var(--fill-color);\n",
              "    }\n",
              "    60% {\n",
              "      border-color: transparent;\n",
              "      border-right-color: var(--fill-color);\n",
              "    }\n",
              "    80% {\n",
              "      border-color: transparent;\n",
              "      border-right-color: var(--fill-color);\n",
              "      border-bottom-color: var(--fill-color);\n",
              "    }\n",
              "    90% {\n",
              "      border-color: transparent;\n",
              "      border-bottom-color: var(--fill-color);\n",
              "    }\n",
              "  }\n",
              "</style>\n",
              "\n",
              "  <script>\n",
              "    async function quickchart(key) {\n",
              "      const quickchartButtonEl =\n",
              "        document.querySelector('#' + key + ' button');\n",
              "      quickchartButtonEl.disabled = true;  // To prevent multiple clicks.\n",
              "      quickchartButtonEl.classList.add('colab-df-spinner');\n",
              "      try {\n",
              "        const charts = await google.colab.kernel.invokeFunction(\n",
              "            'suggestCharts', [key], {});\n",
              "      } catch (error) {\n",
              "        console.error('Error during call to suggestCharts:', error);\n",
              "      }\n",
              "      quickchartButtonEl.classList.remove('colab-df-spinner');\n",
              "      quickchartButtonEl.classList.add('colab-df-quickchart-complete');\n",
              "    }\n",
              "    (() => {\n",
              "      let quickchartButtonEl =\n",
              "        document.querySelector('#df-d33f930b-b686-4953-adfc-74487847a4d8 button');\n",
              "      quickchartButtonEl.style.display =\n",
              "        google.colab.kernel.accessAllowed ? 'block' : 'none';\n",
              "    })();\n",
              "  </script>\n",
              "</div>\n",
              "    </div>\n",
              "  </div>\n"
            ]
          },
          "metadata": {},
          "execution_count": 170
        }
      ]
    },
    {
      "cell_type": "code",
      "execution_count": 162,
      "metadata": {
        "colab": {
          "base_uri": "https://localhost:8080/"
        },
        "id": "e-zoTOWZcSSv",
        "outputId": "cc0ccfbb-55e8-4270-b672-5ab3678356fd"
      },
      "outputs": [
        {
          "output_type": "stream",
          "name": "stdout",
          "text": [
            "Entities in our data set\n",
            "{'I-nat', 'I-art', 'I-geo', 'B-gpe', 'O', 'I-tim', 'I-gpe', 'I-eve', 'B-tim', 'B-geo', 'B-org', 'B-per', 'I-per', 'I-org', 'B-eve', 'B-nat', 'B-art'}\n"
          ]
        }
      ],
      "source": [
        "# What's the tagset ?\n",
        "tags = []\n",
        "for tag in df_gr['Tag'].to_list():\n",
        "    tags.extend(tag)\n",
        "print('Entities in our data set')\n",
        "print(set(tags))"
      ]
    },
    {
      "cell_type": "markdown",
      "metadata": {
        "id": "4RlOq1uDcSSw"
      },
      "source": [
        "<span style=\"color:red\">Questions:</span> What is the tagset used in the previous cell?"
      ]
    },
    {
      "cell_type": "code",
      "execution_count": 175,
      "metadata": {
        "colab": {
          "base_uri": "https://localhost:8080/"
        },
        "id": "OUCdsSB2cSSx",
        "outputId": "92e1c4c6-4e3e-43af-cd1b-742e1588453b"
      },
      "outputs": [
        {
          "output_type": "stream",
          "name": "stderr",
          "text": [
            "Some weights of the model checkpoint at dslim/bert-base-NER were not used when initializing BertForTokenClassification: ['bert.pooler.dense.weight', 'bert.pooler.dense.bias']\n",
            "- This IS expected if you are initializing BertForTokenClassification from the checkpoint of a model trained on another task or with another architecture (e.g. initializing a BertForSequenceClassification model from a BertForPreTraining model).\n",
            "- This IS NOT expected if you are initializing BertForTokenClassification from the checkpoint of a model that you expect to be exactly identical (initializing a BertForSequenceClassification model from a BertForSequenceClassification model).\n",
            "/usr/local/lib/python3.10/dist-packages/transformers/pipelines/token_classification.py:169: UserWarning: `grouped_entities` is deprecated and will be removed in version v5.0.0, defaulted to `aggregation_strategy=\"none\"` instead.\n",
            "  warnings.warn(\n"
          ]
        },
        {
          "output_type": "stream",
          "name": "stdout",
          "text": [
            "Output from the pipeline containing the BERT-based model:\n",
            "[[], [], [], [], [], [], [{'entity': 'B-LOC', 'score': 0.9994006, 'index': 1, 'word': 'London', 'start': 0, 'end': 6}], [], [], [], [], [], [{'entity': 'B-LOC', 'score': 0.99984574, 'index': 1, 'word': 'Iraq', 'start': 0, 'end': 4}], [], [], [], [], [], [{'entity': 'B-MISC', 'score': 0.9996024, 'index': 1, 'word': 'British', 'start': 0, 'end': 7}], [], [], [], [], []]\n",
            "Reference tag list\n",
            "['O', 'O', 'O', 'O', 'O', 'O', 'B-geo', 'O', 'O', 'O', 'O', 'O', 'B-geo', 'O', 'O', 'O', 'O', 'O', 'B-gpe', 'O', 'O', 'O', 'O', 'O']\n"
          ]
        }
      ],
      "source": [
        "# Let's look at an example !\n",
        "example = df_gr.loc[1]['Word']\n",
        "example_tag = df_gr.loc[1]['Tag']\n",
        "NER_model = pipeline(\"ner\",\n",
        "                     model=\"dslim/bert-base-NER\",\n",
        "                     grouped_entities=False)\n",
        "print(\"Output from the pipeline containing the BERT-based model:\")\n",
        "print(NER_model(example))\n",
        "print(\"Reference tag list\")\n",
        "print(example_tag)"
      ]
    },
    {
      "cell_type": "markdown",
      "metadata": {
        "id": "4aNNSOvTcSSy"
      },
      "source": []
    },
    {
      "cell_type": "markdown",
      "metadata": {
        "id": "1qK7RosUcSSy"
      },
      "source": [
        "<span style=\"color:green\">To code:</span> Assuming the following mapping between the tags from the dataset and those output by the BERT model:\n",
        "```python\n",
        "entity_mapping = {\n",
        "'O': 'O',\n",
        "'B-per': 'B-PER',\n",
        "'I-per': 'I-PER',\n",
        "'B-org': 'B-ORG',\n",
        "'I-org': 'I-ORG',\n",
        "'B-geo': 'B-LOC',\n",
        "'I-geo': 'I-LOC',\n",
        "'B-art': 'B-MISC', 'B-eve': 'B-MISC', 'B-gpe': 'B-MISC', 'B-nat': 'B-MISC', 'B-tim': 'B-MISC',\n",
        "'I-art': 'I-MISC', 'I-eve': 'I-MISC', 'I-gpe': 'I-MISC', 'I-nat': 'I-MISC', 'I-tim': 'I-MISC',\n",
        "}\n",
        "```\n",
        "\n",
        "Assuming you can use the less precise tagset (from the BERT model),\n",
        "Find a way to compute the accuracy of the BERT-based model on all **complete locations** on the dataset. Compare with the same value obtained for the NLTK model !"
      ]
    },
    {
      "cell_type": "code",
      "source": [
        "def accuracy_BERT(dataset,userMapping,howMany=10):\n",
        "  NER_model = pipeline(\"ner\",\n",
        "                     model=\"dslim/bert-base-NER\",\n",
        "                     grouped_entities=False)\n",
        "  acc = 0\n",
        "  n_tot = 0\n",
        "  for k_sentence in range(len(dataset[:20])):\n",
        "      true_label = dataset.iloc[k_sentence][\"Tag\"]\n",
        "      prediction = NER_model(dataset.iloc[k_sentence][\"Word\"])\n",
        "      for k in range(len(true_label)):\n",
        "        if \"geo\" in true_label[k]:\n",
        "          print(true_label[k],prediction[k])\n",
        "          if (prediction[k]==[]) and (true_label[k]=='O'):\n",
        "            acc +=1\n",
        "          elif prediction[k][0][\"entity\"] == userMapping[true_label[k]]:\n",
        "            acc +=1\n",
        "          n_tot += 1\n",
        "  return acc/n_tot\n",
        "\n",
        "entity_mapping = {\n",
        "'O': 'O',\n",
        "'B-per': 'B-PER',\n",
        "'I-per': 'I-PER',\n",
        "'B-org': 'B-ORG',\n",
        "'I-org': 'I-ORG',\n",
        "'B-geo': 'B-LOC',\n",
        "'I-geo': 'I-LOC',\n",
        "'B-art': 'B-MISC', 'B-eve': 'B-MISC', 'B-gpe': 'B-MISC', 'B-nat': 'B-MISC', 'B-tim': 'B-MISC',\n",
        "'I-art': 'I-MISC', 'I-eve': 'I-MISC', 'I-gpe': 'I-MISC', 'I-nat': 'I-MISC', 'I-tim': 'I-MISC',\n",
        "}\n",
        "\n",
        "accuracy_BERT(df_gr,entity_mapping,20)\n"
      ],
      "metadata": {
        "colab": {
          "base_uri": "https://localhost:8080/",
          "height": 704
        },
        "id": "K6t6lHHS5byJ",
        "outputId": "f50aa7ef-8c4e-48f3-e86e-9cc7470f619e"
      },
      "execution_count": 206,
      "outputs": [
        {
          "output_type": "stream",
          "name": "stderr",
          "text": [
            "Some weights of the model checkpoint at dslim/bert-base-NER were not used when initializing BertForTokenClassification: ['bert.pooler.dense.weight', 'bert.pooler.dense.bias']\n",
            "- This IS expected if you are initializing BertForTokenClassification from the checkpoint of a model trained on another task or with another architecture (e.g. initializing a BertForSequenceClassification model from a BertForPreTraining model).\n",
            "- This IS NOT expected if you are initializing BertForTokenClassification from the checkpoint of a model that you expect to be exactly identical (initializing a BertForSequenceClassification model from a BertForSequenceClassification model).\n",
            "/usr/local/lib/python3.10/dist-packages/transformers/pipelines/token_classification.py:169: UserWarning: `grouped_entities` is deprecated and will be removed in version v5.0.0, defaulted to `aggregation_strategy=\"none\"` instead.\n",
            "  warnings.warn(\n"
          ]
        },
        {
          "output_type": "stream",
          "name": "stdout",
          "text": [
            "B-geo [{'entity': 'B-LOC', 'score': 0.9994006, 'index': 1, 'word': 'London', 'start': 0, 'end': 6}]\n",
            "B-geo [{'entity': 'B-LOC', 'score': 0.99984574, 'index': 1, 'word': 'Iraq', 'start': 0, 'end': 4}]\n",
            "B-geo [{'entity': 'B-LOC', 'score': 0.98372513, 'index': 1, 'word': 'Or', 'start': 0, 'end': 2}, {'entity': 'I-LOC', 'score': 0.89950264, 'index': 2, 'word': '##ak', 'start': 2, 'end': 4}, {'entity': 'I-LOC', 'score': 0.9201414, 'index': 3, 'word': '##zai', 'start': 4, 'end': 7}]\n",
            "B-geo [{'entity': 'B-LOC', 'score': 0.99938977, 'index': 1, 'word': 'South', 'start': 0, 'end': 5}]\n",
            "I-geo [{'entity': 'B-PER', 'score': 0.9994179, 'index': 1, 'word': 'W', 'start': 0, 'end': 1}, {'entity': 'I-PER', 'score': 0.932174, 'index': 2, 'word': '##azi', 'start': 1, 'end': 4}, {'entity': 'I-PER', 'score': 0.90741783, 'index': 3, 'word': '##rist', 'start': 4, 'end': 8}, {'entity': 'B-PER', 'score': 0.5507458, 'index': 4, 'word': '##an', 'start': 8, 'end': 10}]\n",
            "B-geo [{'entity': 'B-ORG', 'score': 0.9956885, 'index': 1, 'word': 'U', 'start': 0, 'end': 1}, {'entity': 'I-ORG', 'score': 0.82122433, 'index': 2, 'word': '.', 'start': 1, 'end': 2}, {'entity': 'I-ORG', 'score': 0.9967038, 'index': 3, 'word': 'N', 'start': 2, 'end': 3}]\n",
            "B-geo [{'entity': 'B-LOC', 'score': 0.99948585, 'index': 1, 'word': 'U', 'start': 0, 'end': 1}, {'entity': 'I-LOC', 'score': 0.99310535, 'index': 2, 'word': '.', 'start': 1, 'end': 2}, {'entity': 'I-LOC', 'score': 0.998569, 'index': 3, 'word': 'S', 'start': 2, 'end': 3}]\n",
            "B-geo [{'entity': 'B-LOC', 'score': 0.9843491, 'index': 1, 'word': 'Ace', 'start': 0, 'end': 3}, {'entity': 'I-LOC', 'score': 0.9892609, 'index': 2, 'word': '##h', 'start': 3, 'end': 4}]\n",
            "B-geo [{'entity': 'B-LOC', 'score': 0.9996495, 'index': 1, 'word': 'Mal', 'start': 0, 'end': 3}, {'entity': 'I-LOC', 'score': 0.99846435, 'index': 2, 'word': '##dives', 'start': 3, 'end': 8}]\n",
            "B-geo [{'entity': 'B-LOC', 'score': 0.99976546, 'index': 1, 'word': 'India', 'start': 0, 'end': 5}]\n",
            "B-geo [{'entity': 'B-LOC', 'score': 0.9998092, 'index': 1, 'word': 'Asia', 'start': 0, 'end': 4}]\n",
            "B-geo [{'entity': 'B-LOC', 'score': 0.9997998, 'index': 1, 'word': 'Africa', 'start': 0, 'end': 6}]\n",
            "B-geo [{'entity': 'B-ORG', 'score': 0.9956885, 'index': 1, 'word': 'U', 'start': 0, 'end': 1}, {'entity': 'I-ORG', 'score': 0.82122433, 'index': 2, 'word': '.', 'start': 1, 'end': 2}, {'entity': 'I-ORG', 'score': 0.9967038, 'index': 3, 'word': 'N', 'start': 2, 'end': 3}]\n",
            "B-geo [{'entity': 'B-LOC', 'score': 0.99724233, 'index': 1, 'word': 'Beirut', 'start': 0, 'end': 6}]\n",
            "B-geo [{'entity': 'B-LOC', 'score': 0.99724233, 'index': 1, 'word': 'Beirut', 'start': 0, 'end': 6}]\n",
            "B-geo []\n"
          ]
        },
        {
          "output_type": "error",
          "ename": "IndexError",
          "evalue": "ignored",
          "traceback": [
            "\u001b[0;31m---------------------------------------------------------------------------\u001b[0m",
            "\u001b[0;31mIndexError\u001b[0m                                Traceback (most recent call last)",
            "\u001b[0;32m<ipython-input-206-7d050adbc2d6>\u001b[0m in \u001b[0;36m<cell line: 32>\u001b[0;34m()\u001b[0m\n\u001b[1;32m     30\u001b[0m }\n\u001b[1;32m     31\u001b[0m \u001b[0;34m\u001b[0m\u001b[0m\n\u001b[0;32m---> 32\u001b[0;31m \u001b[0maccuracy_BERT\u001b[0m\u001b[0;34m(\u001b[0m\u001b[0mdf_gr\u001b[0m\u001b[0;34m,\u001b[0m\u001b[0mentity_mapping\u001b[0m\u001b[0;34m,\u001b[0m\u001b[0;36m20\u001b[0m\u001b[0;34m)\u001b[0m\u001b[0;34m\u001b[0m\u001b[0;34m\u001b[0m\u001b[0m\n\u001b[0m",
            "\u001b[0;32m<ipython-input-206-7d050adbc2d6>\u001b[0m in \u001b[0;36maccuracy_BERT\u001b[0;34m(dataset, userMapping, howMany)\u001b[0m\n\u001b[1;32m     13\u001b[0m           \u001b[0;32mif\u001b[0m \u001b[0;34m(\u001b[0m\u001b[0mprediction\u001b[0m\u001b[0;34m[\u001b[0m\u001b[0mk\u001b[0m\u001b[0;34m]\u001b[0m\u001b[0;34m==\u001b[0m\u001b[0;34m[\u001b[0m\u001b[0;34m]\u001b[0m\u001b[0;34m)\u001b[0m \u001b[0;32mand\u001b[0m \u001b[0;34m(\u001b[0m\u001b[0mtrue_label\u001b[0m\u001b[0;34m[\u001b[0m\u001b[0mk\u001b[0m\u001b[0;34m]\u001b[0m\u001b[0;34m==\u001b[0m\u001b[0;34m'O'\u001b[0m\u001b[0;34m)\u001b[0m\u001b[0;34m:\u001b[0m\u001b[0;34m\u001b[0m\u001b[0;34m\u001b[0m\u001b[0m\n\u001b[1;32m     14\u001b[0m             \u001b[0macc\u001b[0m \u001b[0;34m+=\u001b[0m\u001b[0;36m1\u001b[0m\u001b[0;34m\u001b[0m\u001b[0;34m\u001b[0m\u001b[0m\n\u001b[0;32m---> 15\u001b[0;31m           \u001b[0;32melif\u001b[0m \u001b[0mprediction\u001b[0m\u001b[0;34m[\u001b[0m\u001b[0mk\u001b[0m\u001b[0;34m]\u001b[0m\u001b[0;34m[\u001b[0m\u001b[0;36m0\u001b[0m\u001b[0;34m]\u001b[0m\u001b[0;34m[\u001b[0m\u001b[0;34m\"entity\"\u001b[0m\u001b[0;34m]\u001b[0m \u001b[0;34m==\u001b[0m \u001b[0muserMapping\u001b[0m\u001b[0;34m[\u001b[0m\u001b[0mtrue_label\u001b[0m\u001b[0;34m[\u001b[0m\u001b[0mk\u001b[0m\u001b[0;34m]\u001b[0m\u001b[0;34m]\u001b[0m\u001b[0;34m:\u001b[0m\u001b[0;34m\u001b[0m\u001b[0;34m\u001b[0m\u001b[0m\n\u001b[0m\u001b[1;32m     16\u001b[0m             \u001b[0macc\u001b[0m \u001b[0;34m+=\u001b[0m\u001b[0;36m1\u001b[0m\u001b[0;34m\u001b[0m\u001b[0;34m\u001b[0m\u001b[0m\n\u001b[1;32m     17\u001b[0m           \u001b[0mn_tot\u001b[0m \u001b[0;34m+=\u001b[0m \u001b[0;36m1\u001b[0m\u001b[0;34m\u001b[0m\u001b[0;34m\u001b[0m\u001b[0m\n",
            "\u001b[0;31mIndexError\u001b[0m: list index out of range"
          ]
        }
      ]
    },
    {
      "cell_type": "code",
      "source": [],
      "metadata": {
        "id": "BcwINC4kE_SN"
      },
      "execution_count": null,
      "outputs": []
    }
  ],
  "metadata": {
    "kernelspec": {
      "display_name": "struct-pred-TP",
      "language": "python",
      "name": "python3"
    },
    "language_info": {
      "codemirror_mode": {
        "name": "ipython",
        "version": 3
      },
      "file_extension": ".py",
      "mimetype": "text/x-python",
      "name": "python",
      "nbconvert_exporter": "python",
      "pygments_lexer": "ipython3",
      "version": "3.11.5"
    },
    "colab": {
      "provenance": [],
      "include_colab_link": true
    }
  },
  "nbformat": 4,
  "nbformat_minor": 0
}